{
 "cells": [
  {
   "cell_type": "markdown",
   "metadata": {},
   "source": [
    "# Questão 3\n"
   ]
  },
  {
   "cell_type": "markdown",
   "metadata": {},
   "source": [
    "## Relatório do Trabalho feito"
   ]
  },
  {
   "cell_type": "markdown",
   "metadata": {},
   "source": [
    "Nesta atividade realizei uma sequencia de 6 experimentos para observar as mudanças de desempenho comparado com alterações na arquitetura do modelo.\n",
    "\n",
    "### Experimento 1\n",
    "\n",
    "Inicialmente avaliei a influência do número de neurônios na unica camada Dense (256,512,1024,2048).\n",
    "Nesta etapa a camada com 512 neurônios obteve um resultado melhor na precisão do Teste, já as camadas com mais neurônios obtiveram uma performance melhor na precisão do Treinamento.\n",
    "\n",
    "### Experimento 2\n",
    "\n",
    "Nesta segunda etapa, sugeri diferentes aquiteturas utilizando mais camadas para encontrar melhoras no desempenho. Dentre as sugestoes colocadas no experimento, o modelo 0, com 2 camadas (1042 e 128 neurônios) e um dropout (0,5) obteve o melhor desempenho.\n",
    "\n",
    "### Experimento 3\n",
    "\n",
    "No Experimento 3, avaliei o desempenho de diferentes posições e quantidade de camadas Dropout no modelo com  a melhor performance do Experimento 2. Assim como resultado, a arquitetura já proposta pelo Experimento 2 sucedeu na melhor performance durante o Teste.\n",
    "\n",
    "### Experimento 4\n",
    "\n",
    "Seguindo, observei a influência do valor do Dropout na arquitetura, variando a camada Dropout de 0 a 0,8. Dessa forma, obteve-se o melhor desempenho no Teste utilizando o Dropout (0.2).\n",
    "\n",
    "### Experimento 5\n",
    "\n",
    "A seguir, foi proposto a implementação do Batch Normalization, introduzindo-o na arquitetura no lugar do Dropout ou junto ao Dropout. \n",
    "Para essa etapa foi utilizado mais Epochs de treinamento, o que influenciou numa grande melhora comparado ao Experimento 4.\n",
    "Comparando os resultados das arquiteturas propostas pelo experimento 5, observou-se que a utilização do Dropout(0,2)+BatchNormalization resultou numa melhora na performance dos resultados.\n",
    "\n",
    "### Experimento 6\n",
    "\n",
    "Como ultimo experimento, foi utilizado diferentes valores do batch_size com apenas 5 Epochs. \n",
    "Nesse experimento valores mais altos de batch_size resultaram numa melhora da performance da arquitetura.\n",
    "\n",
    "### Final\n",
    "\n",
    "Para finalizar, foi utilizado todos os melhores resultados observados nos Experimentos e sintetizado uma versão final do modelo de aprendizado.\n",
    "Para essa etapa foi utilizado 20 Epochs de treinamento.\n",
    "\n",
    "Os valores de precisão no Teste estão representados na Tabela abaixo:"
   ]
  },
  {
   "cell_type": "markdown",
   "metadata": {},
   "source": [
    "| |Precisão no Teste (%)|\n",
    "|---|---|\n",
    "|Roteiro|97,75|\n",
    "|Experimento 1|97,98|\n",
    "|Experimento 2|97,95|\n",
    "|Experimento 3|98,11|\n",
    "|Experimento 4|98,09|\n",
    "|Experimento 5|98,24|\n",
    "|Experimento 6|97,85|\n",
    "|Final|98,50|"
   ]
  },
  {
   "cell_type": "markdown",
   "metadata": {},
   "source": [
    "# Inicio da Atividade"
   ]
  },
  {
   "cell_type": "markdown",
   "metadata": {},
   "source": [
    "# Roteiro\n",
    "\n",
    "Inicialmente vamos observar os resultados de acurácia do modelo proposto no roteiro da Questão 3"
   ]
  },
  {
   "cell_type": "markdown",
   "metadata": {},
   "source": [
    "## Treino (Roteiro)"
   ]
  },
  {
   "cell_type": "code",
   "execution_count": 1,
   "metadata": {
    "scrolled": false
   },
   "outputs": [
    {
     "name": "stderr",
     "output_type": "stream",
     "text": [
      "WARNING: Logging before flag parsing goes to stderr.\n",
      "W0429 16:46:14.684671 15140 deprecation.py:506] From D:\\Anaconda3\\envs\\tf_gpu\\lib\\site-packages\\tensorflow\\python\\ops\\init_ops.py:1251: calling VarianceScaling.__init__ (from tensorflow.python.ops.init_ops) with dtype is deprecated and will be removed in a future version.\n",
      "Instructions for updating:\n",
      "Call initializer instance with the dtype argument instead of passing it to the constructor\n"
     ]
    },
    {
     "name": "stdout",
     "output_type": "stream",
     "text": [
      "Epoch 1/5\n",
      "60000/60000 [==============================] - 3s 51us/sample - loss: 0.2665 - acc: 0.9204\n",
      "Epoch 2/5\n",
      "60000/60000 [==============================] - 3s 49us/sample - loss: 0.1355 - acc: 0.9586\n",
      "Epoch 3/5\n",
      "60000/60000 [==============================] - 3s 55us/sample - loss: 0.1093 - acc: 0.9660\n",
      "Epoch 4/5\n",
      "60000/60000 [==============================] - 3s 51us/sample - loss: 0.0918 - acc: 0.9714\n",
      "Epoch 5/5\n",
      "60000/60000 [==============================] - 3s 48us/sample - loss: 0.0837 - acc: 0.9734\n",
      "Model saved to disk\n"
     ]
    },
    {
     "data": {
      "text/plain": [
       "'C:\\\\Users\\\\T-Gamer\\\\Dropbox\\\\Aulas Doc\\\\EFC2\\\\Q3'"
      ]
     },
     "execution_count": 1,
     "metadata": {},
     "output_type": "execute_result"
    }
   ],
   "source": [
    "import tensorflow as tf\n",
    "import os\n",
    "mnist = tf.keras.datasets.mnist\n",
    "(x_train, y_train),(x_test, y_test) = mnist.load_data()\n",
    "x_train, x_test = x_train / 255.0, x_test / 255.0\n",
    "\n",
    "model = tf.keras.models.Sequential([\n",
    "    tf.keras.layers.Flatten(),\n",
    "    tf.keras.layers.Dense(512, activation=tf.nn.relu),\n",
    "    tf.keras.layers.Dropout(0.5),\n",
    "    tf.keras.layers.Dense(10, activation=tf.nn.softmax)\n",
    "    ])\n",
    "\n",
    "model.compile(optimizer='adam',\n",
    "    loss='sparse_categorical_crossentropy',\n",
    "    metrics=['accuracy'])\n",
    "\n",
    "hist_t = model.fit(x_train, y_train, epochs=5)\n",
    "\n",
    "\n",
    "model_json = model.to_json()\n",
    "json_file = open(\"model_MLP.json\", \"w\")\n",
    "json_file.write(model_json)\n",
    "json_file.close()\n",
    "model.save_weights(\"model_MLP.h5\")\n",
    "print(\"Model saved to disk\")\n",
    "os.getcwd()"
   ]
  },
  {
   "cell_type": "markdown",
   "metadata": {},
   "source": [
    "## Teste (Roteiro)"
   ]
  },
  {
   "cell_type": "code",
   "execution_count": 2,
   "metadata": {},
   "outputs": [
    {
     "name": "stdout",
     "output_type": "stream",
     "text": [
      "10000/10000 [==============================] - 0s 32us/sample - loss: 0.0686 - acc: 0.9775\n",
      "loss: 0.06861142724509119\n",
      "acc: 0.9775000214576721\n"
     ]
    }
   ],
   "source": [
    "m = model.evaluate(x_test, y_test)\n",
    "for metric_i in range(len(model.metrics_names)):\n",
    "    metric_name = model.metrics_names[metric_i]\n",
    "    metric_value = m[metric_i]\n",
    "    print('{}: {}'.format(metric_name, metric_value))  "
   ]
  },
  {
   "cell_type": "markdown",
   "metadata": {},
   "source": [
    "## Análise da curva de aprendizado (Roteiro)"
   ]
  },
  {
   "cell_type": "markdown",
   "metadata": {},
   "source": [
    "Como o foco do projeto é a análise do ganho de desempenho, irei plotar somente a curva da acurácia pelo numero de epochs"
   ]
  },
  {
   "cell_type": "code",
   "execution_count": 4,
   "metadata": {},
   "outputs": [
    {
     "data": {
      "image/png": "[encoded data removed]",
      "text/plain": [
       "<Figure size 432x288 with 1 Axes>"
      ]
     },
     "metadata": {
      "needs_background": "light"
     },
     "output_type": "display_data"
    }
   ],
   "source": [
    "import matplotlib.pyplot as plt\n",
    "\n",
    "plt.plot(hist_t.history['acc'])\n",
    "plt.title('model accuracy')\n",
    "plt.ylabel('accuracy')\n",
    "plt.xlabel('epoch')\n",
    "plt.legend(['train', 'val'], loc='upper left')\n",
    "plt.show()"
   ]
  },
  {
   "cell_type": "markdown",
   "metadata": {},
   "source": [
    "# Atividade"
   ]
  },
  {
   "cell_type": "markdown",
   "metadata": {},
   "source": [
    "Para encontrar uma arquitetura que promova um melhor desempenho, irei realizar alguns experimentos a fim de analisar a variação de texa de acerto baseado em diferentes arquiteturas."
   ]
  },
  {
   "cell_type": "markdown",
   "metadata": {},
   "source": [
    "## Dados"
   ]
  },
  {
   "cell_type": "code",
   "execution_count": 2,
   "metadata": {},
   "outputs": [],
   "source": [
    "import tensorflow as tf\n",
    "import os\n",
    "mnist = tf.keras.datasets.mnist\n",
    "(x_train, y_train),(x_test, y_test) = mnist.load_data()\n",
    "x_train, x_test = x_train / 255.0, x_test / 255.0"
   ]
  },
  {
   "cell_type": "markdown",
   "metadata": {},
   "source": [
    "## Experimento 1"
   ]
  },
  {
   "cell_type": "markdown",
   "metadata": {},
   "source": [
    "Primeiro irei avaliar a influencia do numero de neuronios na camada Dense"
   ]
  },
  {
   "cell_type": "code",
   "execution_count": 52,
   "metadata": {
    "scrolled": true
   },
   "outputs": [
    {
     "name": "stdout",
     "output_type": "stream",
     "text": [
      "Inicio do Experimento 1\n",
      "Epoch 1/5\n",
      "60000/60000 [==============================] - 4s 73us/sample - loss: 0.3117 - acc: 0.9075\n",
      "Epoch 2/5\n",
      "60000/60000 [==============================] - 5s 76us/sample - loss: 0.1647 - acc: 0.9496\n",
      "Epoch 3/5\n",
      "60000/60000 [==============================] - 4s 74us/sample - loss: 0.1312 - acc: 0.9599\n",
      "Epoch 4/5\n",
      "60000/60000 [==============================] - 4s 72us/sample - loss: 0.1126 - acc: 0.9656\n",
      "Epoch 5/5\n",
      "60000/60000 [==============================] - 5s 76us/sample - loss: 0.1032 - acc: 0.9683\n",
      "10000/10000 [==============================] - 1s 74us/sample - loss: 0.0730 - acc: 0.9785\n",
      "Fim do treinamento i = 0\n",
      "Epoch 1/5\n",
      "60000/60000 [==============================] - 5s 81us/sample - loss: 0.2713 - acc: 0.9190\n",
      "Epoch 2/5\n",
      "60000/60000 [==============================] - 5s 80us/sample - loss: 0.1374 - acc: 0.9584\n",
      "Epoch 3/5\n",
      "60000/60000 [==============================] - 5s 78us/sample - loss: 0.1095 - acc: 0.9663\n",
      "Epoch 4/5\n",
      "60000/60000 [==============================] - 4s 75us/sample - loss: 0.0924 - acc: 0.9710\n",
      "Epoch 5/5\n",
      "60000/60000 [==============================] - 5s 80us/sample - loss: 0.0814 - acc: 0.9741\n",
      "10000/10000 [==============================] - 1s 87us/sample - loss: 0.0676 - acc: 0.9798\n",
      "Fim do treinamento i = 1\n",
      "Epoch 1/5\n",
      "60000/60000 [==============================] - 5s 85us/sample - loss: 0.2429 - acc: 0.9258\n",
      "Epoch 2/5\n",
      "60000/60000 [==============================] - 5s 82us/sample - loss: 0.1260 - acc: 0.9613\n",
      "Epoch 3/5\n",
      "60000/60000 [==============================] - 5s 89us/sample - loss: 0.0998 - acc: 0.9687\n",
      "Epoch 4/5\n",
      "60000/60000 [==============================] - 5s 86us/sample - loss: 0.0847 - acc: 0.9729\n",
      "Epoch 5/5\n",
      "60000/60000 [==============================] - 5s 87us/sample - loss: 0.0749 - acc: 0.9762\n",
      "10000/10000 [==============================] - 1s 78us/sample - loss: 0.0719 - acc: 0.9786\n",
      "Fim do treinamento i = 2\n",
      "Epoch 1/5\n",
      "60000/60000 [==============================] - 6s 100us/sample - loss: 0.2332 - acc: 0.9286\n",
      "Epoch 2/5\n",
      "60000/60000 [==============================] - 6s 97us/sample - loss: 0.1211 - acc: 0.9622\n",
      "Epoch 3/5\n",
      "60000/60000 [==============================] - 6s 96us/sample - loss: 0.0991 - acc: 0.9693\n",
      "Epoch 4/5\n",
      "60000/60000 [==============================] - 6s 99us/sample - loss: 0.0891 - acc: 0.9736\n",
      "Epoch 5/5\n",
      "60000/60000 [==============================] - 6s 99us/sample - loss: 0.0775 - acc: 0.9761\n",
      "10000/10000 [==============================] - 1s 83us/sample - loss: 0.0741 - acc: 0.9781\n",
      "Fim do treinamento i = 3\n"
     ]
    }
   ],
   "source": [
    "model = [0,0,0,0]\n",
    "m = {}\n",
    "hist_all={}\n",
    "print('Inicio do Experimento 1')\n",
    "for i in range(len(model)):\n",
    "    if i==0:\n",
    "        model[i] = tf.keras.models.Sequential([\n",
    "            tf.keras.layers.Flatten(),\n",
    "            tf.keras.layers.Dense(256, activation=tf.nn.relu),\n",
    "            tf.keras.layers.Dropout(0.5),\n",
    "            tf.keras.layers.Dense(10, activation=tf.nn.softmax)\n",
    "            ])\n",
    "\n",
    "        model[i].compile(optimizer='adam',\n",
    "            loss='sparse_categorical_crossentropy',\n",
    "            metrics=['accuracy'])\n",
    "\n",
    "        hist = model[i].fit(x_train, y_train, epochs=5)\n",
    "        hist_all[i]=hist\n",
    "        m[i] = model[i].evaluate(x_test, y_test)\n",
    "        print('Fim do treinamento i = 0')\n",
    "    if i==1:\n",
    "        model[i] = tf.keras.models.Sequential([\n",
    "            tf.keras.layers.Flatten(),\n",
    "            tf.keras.layers.Dense(512, activation=tf.nn.relu),\n",
    "            tf.keras.layers.Dropout(0.5),\n",
    "            tf.keras.layers.Dense(10, activation=tf.nn.softmax)\n",
    "            ])\n",
    "\n",
    "        model[i].compile(optimizer='adam',\n",
    "            loss='sparse_categorical_crossentropy',\n",
    "            metrics=['accuracy'])\n",
    "\n",
    "        hist = model[i].fit(x_train, y_train, epochs=5)\n",
    "        hist_all[i]=hist\n",
    "        m[i] = model[i].evaluate(x_test, y_test)\n",
    "        print('Fim do treinamento i = 1')\n",
    "    if i==2:\n",
    "        model[i] = tf.keras.models.Sequential([\n",
    "            tf.keras.layers.Flatten(),\n",
    "            tf.keras.layers.Dense(1024, activation=tf.nn.relu),\n",
    "            tf.keras.layers.Dropout(0.5),\n",
    "            tf.keras.layers.Dense(10, activation=tf.nn.softmax)\n",
    "            ])\n",
    "\n",
    "        model[i].compile(optimizer='adam',\n",
    "            loss='sparse_categorical_crossentropy',\n",
    "            metrics=['accuracy'])\n",
    "\n",
    "        hist = model[i].fit(x_train, y_train, epochs=5)\n",
    "        hist_all[i]=hist\n",
    "        m[i] = model[i].evaluate(x_test, y_test)\n",
    "        print('Fim do treinamento i = 2')\n",
    "    if i==3:\n",
    "        model[i] = tf.keras.models.Sequential([\n",
    "            tf.keras.layers.Flatten(),\n",
    "            tf.keras.layers.Dense(2048, activation=tf.nn.relu),\n",
    "            tf.keras.layers.Dropout(0.5),\n",
    "            tf.keras.layers.Dense(10, activation=tf.nn.softmax)\n",
    "            ])\n",
    "\n",
    "        model[i].compile(optimizer='adam',\n",
    "            loss='sparse_categorical_crossentropy',\n",
    "            metrics=['accuracy'])\n",
    "\n",
    "        hist = model[i].fit(x_train, y_train, epochs=5)\n",
    "        hist_all[i]=hist\n",
    "        m[i] = model[i].evaluate(x_test, y_test)\n",
    "        print('Fim do treinamento i = 3')"
   ]
  },
  {
   "cell_type": "code",
   "execution_count": 54,
   "metadata": {},
   "outputs": [
    {
     "data": {
      "image/png": "[encoded data removed]",
      "text/plain": [
       "<Figure size 432x288 with 1 Axes>"
      ]
     },
     "metadata": {
      "needs_background": "light"
     },
     "output_type": "display_data"
    },
    {
     "name": "stdout",
     "output_type": "stream",
     "text": [
      "Model: 0 Treino: 0.968267 Teste: 0.978500\n",
      "Model: 1 Treino: 0.974133 Teste: 0.979800\n",
      "Model: 2 Treino: 0.976183 Teste: 0.978600\n",
      "Model: 3 Treino: 0.976050 Teste: 0.978100\n"
     ]
    }
   ],
   "source": [
    "import matplotlib.pyplot as plt\n",
    "for i in range(len(model)):\n",
    "    plt.plot(hist_all[i].history['acc'])\n",
    "plt.title('model accuracy')\n",
    "plt.ylabel('accuracy')\n",
    "plt.xlabel('epoch')\n",
    "plt.legend(['model_256','model_512','model_1024','model_2048'], loc='best')\n",
    "plt.show()\n",
    "\n",
    "for i in range(len(model)):\n",
    "    print('Model: %d Treino: %f Teste: %f' %(i, hist_all[i].history['acc'][len(model)], m[i][1]))\n",
    "\n",
    "    "
   ]
  },
  {
   "cell_type": "markdown",
   "metadata": {},
   "source": [
    "Como podemos observar, as camadas com mais neuronios resultaram num melhor desempenho na acurácia do Treino. Entretanto, na precisão do Teste, o modelo com 512 neurônios obteve o melhor resultado. "
   ]
  },
  {
   "cell_type": "markdown",
   "metadata": {},
   "source": [
    "## Experimento 2"
   ]
  },
  {
   "cell_type": "markdown",
   "metadata": {},
   "source": [
    "A seguir será analisado a influencia de mais camadas Dense na arquitetura "
   ]
  },
  {
   "cell_type": "code",
   "execution_count": 55,
   "metadata": {
    "scrolled": true
   },
   "outputs": [
    {
     "name": "stdout",
     "output_type": "stream",
     "text": [
      "Inicio do Experimento 2\n",
      "Epoch 1/5\n",
      "60000/60000 [==============================] - 6s 95us/sample - loss: 0.2110 - acc: 0.9374\n",
      "Epoch 2/5\n",
      "60000/60000 [==============================] - 5s 85us/sample - loss: 0.0960 - acc: 0.9706\n",
      "Epoch 3/5\n",
      "60000/60000 [==============================] - 5s 87us/sample - loss: 0.0696 - acc: 0.9787\n",
      "Epoch 4/5\n",
      "60000/60000 [==============================] - 5s 89us/sample - loss: 0.0564 - acc: 0.9829\n",
      "Epoch 5/5\n",
      "60000/60000 [==============================] - ETA: 0s - loss: 0.0453 - acc: 0.985 - 5s 90us/sample - loss: 0.0453 - acc: 0.9855\n",
      "10000/10000 [==============================] - 1s 83us/sample - loss: 0.0944 - acc: 0.9780\n",
      "Fim do treinamento i = 0\n",
      "Epoch 1/5\n",
      "60000/60000 [==============================] - 6s 95us/sample - loss: 0.2277 - acc: 0.9318\n",
      "Epoch 2/5\n",
      "60000/60000 [==============================] - 5s 91us/sample - loss: 0.1039 - acc: 0.9709\n",
      "Epoch 3/5\n",
      "60000/60000 [==============================] - 5s 90us/sample - loss: 0.0776 - acc: 0.9776\n",
      "Epoch 4/5\n",
      "60000/60000 [==============================] - 5s 85us/sample - loss: 0.0604 - acc: 0.9821\n",
      "Epoch 5/5\n",
      "60000/60000 [==============================] - 5s 87us/sample - loss: 0.0474 - acc: 0.9868\n",
      "10000/10000 [==============================] - 1s 79us/sample - loss: 0.0933 - acc: 0.9757\n",
      "Fim do treinamento i = 1\n",
      "Epoch 1/5\n",
      "60000/60000 [==============================] - 6s 93us/sample - loss: 0.2481 - acc: 0.9272\n",
      "Epoch 2/5\n",
      "60000/60000 [==============================] - 5s 89us/sample - loss: 0.1100 - acc: 0.9678\n",
      "Epoch 3/5\n",
      "60000/60000 [==============================] - 5s 89us/sample - loss: 0.0808 - acc: 0.9761\n",
      "Epoch 4/5\n",
      "60000/60000 [==============================] - 5s 89us/sample - loss: 0.0603 - acc: 0.9820\n",
      "Epoch 5/5\n",
      "60000/60000 [==============================] - 5s 87us/sample - loss: 0.0507 - acc: 0.9842\n",
      "10000/10000 [==============================] - 1s 78us/sample - loss: 0.0829 - acc: 0.9795\n",
      "Fim do treinamento i = 2\n",
      "Epoch 1/5\n",
      "60000/60000 [==============================] - 6s 98us/sample - loss: 0.2943 - acc: 0.9181\n",
      "Epoch 2/5\n",
      "60000/60000 [==============================] - 6s 92us/sample - loss: 0.1267 - acc: 0.9660\n",
      "Epoch 3/5\n",
      "60000/60000 [==============================] - 6s 93us/sample - loss: 0.0867 - acc: 0.9768\n",
      "Epoch 4/5\n",
      "60000/60000 [==============================] - 6s 93us/sample - loss: 0.0704 - acc: 0.9811\n",
      "Epoch 5/5\n",
      "60000/60000 [==============================] - 6s 93us/sample - loss: 0.0548 - acc: 0.9851\n",
      "10000/10000 [==============================] - 1s 80us/sample - loss: 0.0860 - acc: 0.9786\n",
      "Fim do treinamento i = 3\n"
     ]
    }
   ],
   "source": [
    "model = [0,0,0,0]\n",
    "hist_all={}\n",
    "m = {}\n",
    "print('Inicio do Experimento 2')\n",
    "for i in range(len(model)):\n",
    "    if i==0:\n",
    "        model[i] = tf.keras.models.Sequential([\n",
    "            tf.keras.layers.Flatten(),\n",
    "            tf.keras.layers.Dense(512, activation=tf.nn.relu),\n",
    "            tf.keras.layers.Dense(512, activation=tf.nn.relu),\n",
    "            tf.keras.layers.Dropout(0.5),\n",
    "            tf.keras.layers.Dense(10, activation=tf.nn.softmax)\n",
    "            ])\n",
    "\n",
    "        model[i].compile(optimizer='adam',\n",
    "            loss='sparse_categorical_crossentropy',\n",
    "            metrics=['accuracy'])\n",
    "\n",
    "        hist = model[i].fit(x_train, y_train, epochs=5)\n",
    "        hist_all[i]=hist\n",
    "        m[i] = model[i].evaluate(x_test, y_test)\n",
    "        print('Fim do treinamento i = 0')\n",
    "    if i==1:\n",
    "        model[i] = tf.keras.models.Sequential([\n",
    "            tf.keras.layers.Flatten(),\n",
    "            tf.keras.layers.Dense(512, activation=tf.nn.relu),\n",
    "            tf.keras.layers.Dense(256, activation=tf.nn.relu),\n",
    "            tf.keras.layers.Dense(256, activation=tf.nn.relu),\n",
    "            tf.keras.layers.Dropout(0.5),\n",
    "            tf.keras.layers.Dense(10, activation=tf.nn.softmax)\n",
    "            ])\n",
    "\n",
    "        model[i].compile(optimizer='adam',\n",
    "            loss='sparse_categorical_crossentropy',\n",
    "            metrics=['accuracy'])\n",
    "\n",
    "        hist = model[i].fit(x_train, y_train, epochs=5)\n",
    "        hist_all[i]=hist\n",
    "        m[i] = model[i].evaluate(x_test, y_test)\n",
    "        print('Fim do treinamento i = 1')\n",
    "    if i==2:\n",
    "        model[i] = tf.keras.models.Sequential([\n",
    "            tf.keras.layers.Flatten(),\n",
    "            tf.keras.layers.Dense(1024, activation=tf.nn.relu),\n",
    "            tf.keras.layers.Dense(128, activation=tf.nn.relu),\n",
    "            tf.keras.layers.Dropout(0.5),\n",
    "            tf.keras.layers.Dense(10, activation=tf.nn.softmax)\n",
    "            ])\n",
    "\n",
    "        model[i].compile(optimizer='adam',\n",
    "            loss='sparse_categorical_crossentropy',\n",
    "            metrics=['accuracy'])\n",
    "\n",
    "        hist = model[i].fit(x_train, y_train, epochs=5)\n",
    "        hist_all[i]=hist\n",
    "        m[i] = model[i].evaluate(x_test, y_test)\n",
    "        print('Fim do treinamento i = 2')\n",
    "    if i==3:\n",
    "        model[i] = tf.keras.models.Sequential([\n",
    "            tf.keras.layers.Flatten(),\n",
    "            tf.keras.layers.Dense(1024, activation=tf.nn.relu),\n",
    "            tf.keras.layers.Dense(128, activation=tf.nn.relu),\n",
    "            tf.keras.layers.Dense(64, activation=tf.nn.relu),\n",
    "            tf.keras.layers.Dropout(0.5),\n",
    "            tf.keras.layers.Dense(10, activation=tf.nn.softmax)\n",
    "            ])\n",
    "\n",
    "        model[i].compile(optimizer='adam',\n",
    "            loss='sparse_categorical_crossentropy',\n",
    "            metrics=['accuracy'])\n",
    "\n",
    "        hist = model[i].fit(x_train, y_train, epochs=5)\n",
    "        hist_all[i]=hist\n",
    "        m[i] = model[i].evaluate(x_test, y_test)\n",
    "        print('Fim do treinamento i = 3')"
   ]
  },
  {
   "cell_type": "code",
   "execution_count": 56,
   "metadata": {},
   "outputs": [
    {
     "data": {
      "image/png": "[encoded data removed]",
      "text/plain": [
       "<Figure size 432x288 with 1 Axes>"
      ]
     },
     "metadata": {
      "needs_background": "light"
     },
     "output_type": "display_data"
    },
    {
     "name": "stdout",
     "output_type": "stream",
     "text": [
      "Model: 0 Treino: 0.985517 Teste: 0.978000\n",
      "Model: 1 Treino: 0.986817 Teste: 0.975700\n",
      "Model: 2 Treino: 0.984200 Teste: 0.979500\n",
      "Model: 3 Treino: 0.985067 Teste: 0.978600\n"
     ]
    }
   ],
   "source": [
    "import matplotlib.pyplot as plt\n",
    "for i in range(len(model)):\n",
    "    plt.plot(hist_all[i].history['acc'])\n",
    "plt.title('model accuracy')\n",
    "plt.ylabel('accuracy')\n",
    "plt.xlabel('epoch')\n",
    "plt.legend(['model_0','model_1','model_2','model_3'], loc='best')\n",
    "plt.show()\n",
    "\n",
    "for i in range(len(model)):\n",
    "    print('Model: %d Treino: %f Teste: %f' %(i, hist_all[i].history['acc'][len(model)], m[i][1]))"
   ]
  },
  {
   "cell_type": "markdown",
   "metadata": {},
   "source": [
    "Observamos um ganho de desempenho utilizando mais camadas, principalmente utilizando a arquitetura demonstrada no modelo i = 2\n",
    "Vale destacar que existem inumeras sequencias de camadas possiveis que atingam um melhor desempenho. Os experimentos servem para observar a mudança de desempenho variando a arquitetura."
   ]
  },
  {
   "cell_type": "markdown",
   "metadata": {},
   "source": [
    "## Experimento 3"
   ]
  },
  {
   "cell_type": "markdown",
   "metadata": {},
   "source": [
    "Neste momento, utilizando o modelo i=1, irei implementar camadas de Dropouts na arquitetura para observar as mudanças de desempenho."
   ]
  },
  {
   "cell_type": "code",
   "execution_count": 59,
   "metadata": {
    "scrolled": true
   },
   "outputs": [
    {
     "name": "stdout",
     "output_type": "stream",
     "text": [
      "Inicio do Experimento 3\n",
      "Epoch 1/5\n",
      "60000/60000 [==============================] - 6s 100us/sample - loss: 0.2503 - acc: 0.9257\n",
      "Epoch 2/5\n",
      "60000/60000 [==============================] - 7s 111us/sample - loss: 0.1098 - acc: 0.9680\n",
      "Epoch 3/5\n",
      "60000/60000 [==============================] - 7s 111us/sample - loss: 0.0793 - acc: 0.9768\n",
      "Epoch 4/5\n",
      "60000/60000 [==============================] - 6s 101us/sample - loss: 0.0620 - acc: 0.9818\n",
      "Epoch 5/5\n",
      "60000/60000 [==============================] - 6s 95us/sample - loss: 0.0492 - acc: 0.9845\n",
      "10000/10000 [==============================] - 1s 84us/sample - loss: 0.0842 - acc: 0.9811\n",
      "Fim do treinamento i = 0\n",
      "Epoch 1/5\n",
      "60000/60000 [==============================] - 6s 101us/sample - loss: 0.3315 - acc: 0.8996\n",
      "Epoch 2/5\n",
      "60000/60000 [==============================] - 6s 94us/sample - loss: 0.1797 - acc: 0.9478\n",
      "Epoch 3/5\n",
      "60000/60000 [==============================] - 6s 96us/sample - loss: 0.1475 - acc: 0.9569\n",
      "Epoch 4/5\n",
      "60000/60000 [==============================] - 6s 98us/sample - loss: 0.1268 - acc: 0.9629\n",
      "Epoch 5/5\n",
      "60000/60000 [==============================] - 6s 95us/sample - loss: 0.1163 - acc: 0.9660\n",
      "10000/10000 [==============================] - 1s 86us/sample - loss: 0.0731 - acc: 0.9791\n",
      "Fim do treinamento i = 1\n",
      "Epoch 1/5\n",
      "60000/60000 [==============================] - 6s 99us/sample - loss: 0.2472 - acc: 0.9238\n",
      "Epoch 2/5\n",
      "60000/60000 [==============================] - 6s 93us/sample - loss: 0.1335 - acc: 0.9584\n",
      "Epoch 3/5\n",
      "60000/60000 [==============================] - 6s 95us/sample - loss: 0.1063 - acc: 0.9676\n",
      "Epoch 4/5\n",
      "60000/60000 [==============================] - 6s 95us/sample - loss: 0.0917 - acc: 0.9724\n",
      "Epoch 5/5\n",
      "60000/60000 [==============================] - 6s 93us/sample - loss: 0.0841 - acc: 0.9739\n",
      "10000/10000 [==============================] - 1s 86us/sample - loss: 0.0686 - acc: 0.9784\n",
      "Fim do treinamento i = 2\n",
      "Epoch 1/5\n",
      "60000/60000 [==============================] - 6s 96us/sample - loss: 0.1822 - acc: 0.9451\n",
      "Epoch 2/5\n",
      "60000/60000 [==============================] - 6s 93us/sample - loss: 0.0767 - acc: 0.9758\n",
      "Epoch 3/5\n",
      "60000/60000 [==============================] - 5s 91us/sample - loss: 0.0528 - acc: 0.9832\n",
      "Epoch 4/5\n",
      "60000/60000 [==============================] - 5s 91us/sample - loss: 0.0407 - acc: 0.9871\n",
      "Epoch 5/5\n",
      "60000/60000 [==============================] - 5s 92us/sample - loss: 0.0321 - acc: 0.9895\n",
      "10000/10000 [==============================] - 1s 84us/sample - loss: 0.0797 - acc: 0.9807\n",
      "Fim do treinamento i = 3\n"
     ]
    }
   ],
   "source": [
    "model = [0,0,0,0]\n",
    "hist_all={}\n",
    "m= {}\n",
    "print('Inicio do Experimento 3')\n",
    "for i in range(len(model)):\n",
    "    if i==0:\n",
    "        model[i] = tf.keras.models.Sequential([\n",
    "            tf.keras.layers.Flatten(),\n",
    "            tf.keras.layers.Dense(1024, activation=tf.nn.relu),\n",
    "            tf.keras.layers.Dense(128, activation=tf.nn.relu),\n",
    "            tf.keras.layers.Dropout(0.5),\n",
    "            tf.keras.layers.Dense(10, activation=tf.nn.softmax)\n",
    "            ])\n",
    "\n",
    "        model[i].compile(optimizer='adam',\n",
    "            loss='sparse_categorical_crossentropy',\n",
    "            metrics=['accuracy'])\n",
    "\n",
    "        hist = model[i].fit(x_train, y_train, epochs=5)\n",
    "        hist_all[i]=hist\n",
    "        m[i] = model[i].evaluate(x_test, y_test)\n",
    "        print('Fim do treinamento i = 0')\n",
    "    if i==1:\n",
    "        model[i] = tf.keras.models.Sequential([\n",
    "            tf.keras.layers.Flatten(),\n",
    "            tf.keras.layers.Dense(1024, activation=tf.nn.relu),\n",
    "            tf.keras.layers.Dropout(0.5),\n",
    "            tf.keras.layers.Dense(128, activation=tf.nn.relu),\n",
    "            tf.keras.layers.Dropout(0.5),\n",
    "            tf.keras.layers.Dense(10, activation=tf.nn.softmax)\n",
    "            ])\n",
    "\n",
    "        model[i].compile(optimizer='adam',\n",
    "            loss='sparse_categorical_crossentropy',\n",
    "            metrics=['accuracy'])\n",
    "\n",
    "        hist = model[i].fit(x_train, y_train, epochs=5)\n",
    "        hist_all[i]=hist\n",
    "        m[i] = model[i].evaluate(x_test, y_test)\n",
    "        print('Fim do treinamento i = 1')\n",
    "    if i==2:\n",
    "        model[i] = tf.keras.models.Sequential([\n",
    "            tf.keras.layers.Flatten(),\n",
    "            tf.keras.layers.Dense(1024, activation=tf.nn.relu),\n",
    "            tf.keras.layers.Dropout(0.5),\n",
    "            tf.keras.layers.Dense(128, activation=tf.nn.relu),\n",
    "            tf.keras.layers.Dense(10, activation=tf.nn.softmax)\n",
    "            ])\n",
    "\n",
    "        model[i].compile(optimizer='adam',\n",
    "            loss='sparse_categorical_crossentropy',\n",
    "            metrics=['accuracy'])\n",
    "\n",
    "        hist = model[i].fit(x_train, y_train, epochs=5)\n",
    "        hist_all[i]=hist\n",
    "        m[i] = model[i].evaluate(x_test, y_test)\n",
    "        print('Fim do treinamento i = 2')\n",
    "    if i==3:\n",
    "        model[i] = tf.keras.models.Sequential([\n",
    "            tf.keras.layers.Flatten(),\n",
    "            tf.keras.layers.Dense(1024, activation=tf.nn.relu),\n",
    "            tf.keras.layers.Dense(128, activation=tf.nn.relu),\n",
    "            tf.keras.layers.Dense(10, activation=tf.nn.softmax)\n",
    "            ])\n",
    "\n",
    "        model[i].compile(optimizer='adam',\n",
    "            loss='sparse_categorical_crossentropy',\n",
    "            metrics=['accuracy'])\n",
    "\n",
    "        hist = model[i].fit(x_train, y_train, epochs=5)\n",
    "        hist_all[i]=hist\n",
    "        m[i] = model[i].evaluate(x_test, y_test)\n",
    "        print('Fim do treinamento i = 3')"
   ]
  },
  {
   "cell_type": "code",
   "execution_count": 60,
   "metadata": {},
   "outputs": [
    {
     "data": {
      "image/png": "[encoded data removed]",
      "text/plain": [
       "<Figure size 432x288 with 1 Axes>"
      ]
     },
     "metadata": {
      "needs_background": "light"
     },
     "output_type": "display_data"
    },
    {
     "name": "stdout",
     "output_type": "stream",
     "text": [
      "Model: 0 Treino: 0.984517 Teste: 0.981100\n",
      "Model: 1 Treino: 0.966017 Teste: 0.979100\n",
      "Model: 2 Treino: 0.973917 Teste: 0.978400\n",
      "Model: 3 Treino: 0.989517 Teste: 0.980700\n"
     ]
    }
   ],
   "source": [
    "import matplotlib.pyplot as plt\n",
    "for i in range(len(model)):\n",
    "    plt.plot(hist_all[i].history['acc'])\n",
    "plt.title('model accuracy')\n",
    "plt.ylabel('accuracy')\n",
    "plt.xlabel('epoch')\n",
    "plt.legend(['model_0','model_1','model_2','model_3'], loc='best')\n",
    "plt.show()\n",
    "\n",
    "for i in range(len(model)):\n",
    "    print('Model: %d Treino: %f Teste: %f' %(i, hist_all[i].history['acc'][len(model)], m[i][1]))"
   ]
  },
  {
   "cell_type": "markdown",
   "metadata": {},
   "source": [
    "Neste experimento, o modelo 0 ( Um Dropout(0.5) ) teve uma leve melhora na performance comparado com o modelo 3 ( sem Dropout)."
   ]
  },
  {
   "cell_type": "markdown",
   "metadata": {},
   "source": [
    "## Experimento 4"
   ]
  },
  {
   "cell_type": "markdown",
   "metadata": {},
   "source": [
    "Com os resultados do Experimento 3, iremos observar o efeito do Dropout na arquitetura que estamos testando."
   ]
  },
  {
   "cell_type": "code",
   "execution_count": 61,
   "metadata": {
    "scrolled": true
   },
   "outputs": [
    {
     "name": "stdout",
     "output_type": "stream",
     "text": [
      "Inicio do Experimento 4\n",
      "Epoch 1/5\n",
      "60000/60000 [==============================] - 6s 102us/sample - loss: 0.1814 - acc: 0.9448\n",
      "Epoch 2/5\n",
      "60000/60000 [==============================] - 6s 97us/sample - loss: 0.0759 - acc: 0.9758\n",
      "Epoch 3/5\n",
      "60000/60000 [==============================] - 6s 100us/sample - loss: 0.0537 - acc: 0.9826\n",
      "Epoch 4/5\n",
      "60000/60000 [==============================] - 6s 99us/sample - loss: 0.0369 - acc: 0.9882\n",
      "Epoch 5/5\n",
      "60000/60000 [==============================] - 6s 98us/sample - loss: 0.0339 - acc: 0.9895\n",
      "10000/10000 [==============================] - 1s 94us/sample - loss: 0.0689 - acc: 0.9807\n",
      "Fim do treinamento i =  0\n",
      "Epoch 1/5\n",
      "60000/60000 [==============================] - 6s 103us/sample - loss: 0.1892 - acc: 0.9426\n",
      "Epoch 2/5\n",
      "60000/60000 [==============================] - 6s 102us/sample - loss: 0.0823 - acc: 0.9746\n",
      "Epoch 3/5\n",
      "60000/60000 [==============================] - 6s 94us/sample - loss: 0.0565 - acc: 0.9819\n",
      "Epoch 4/5\n",
      "60000/60000 [==============================] - 6s 94us/sample - loss: 0.0440 - acc: 0.9858\n",
      "Epoch 5/5\n",
      "60000/60000 [==============================] - 6s 94us/sample - loss: 0.0346 - acc: 0.9889\n",
      "10000/10000 [==============================] - 1s 86us/sample - loss: 0.0790 - acc: 0.9790\n",
      "Fim do treinamento i =  1\n",
      "Epoch 1/5\n",
      "60000/60000 [==============================] - 6s 100us/sample - loss: 0.2035 - acc: 0.9389\n",
      "Epoch 2/5\n",
      "60000/60000 [==============================] - 6s 93us/sample - loss: 0.0872 - acc: 0.9733\n",
      "Epoch 3/5\n",
      "60000/60000 [==============================] - 5s 92us/sample - loss: 0.0615 - acc: 0.9810\n",
      "Epoch 4/5\n",
      "60000/60000 [==============================] - 6s 100us/sample - loss: 0.0472 - acc: 0.9852\n",
      "Epoch 5/5\n",
      "60000/60000 [==============================] - 6s 95us/sample - loss: 0.0362 - acc: 0.9887\n",
      "10000/10000 [==============================] - 1s 86us/sample - loss: 0.0713 - acc: 0.9809\n",
      "Fim do treinamento i =  2\n",
      "Epoch 1/5\n",
      "60000/60000 [==============================] - 6s 99us/sample - loss: 0.2126 - acc: 0.9370\n",
      "Epoch 2/5\n",
      "60000/60000 [==============================] - 6s 95us/sample - loss: 0.0937 - acc: 0.9721\n",
      "Epoch 3/5\n",
      "60000/60000 [==============================] - 6s 95us/sample - loss: 0.0665 - acc: 0.9790\n",
      "Epoch 4/5\n",
      "60000/60000 [==============================] - 6s 93us/sample - loss: 0.0515 - acc: 0.9845\n",
      "Epoch 5/5\n",
      "60000/60000 [==============================] - 6s 96us/sample - loss: 0.0419 - acc: 0.9869\n",
      "10000/10000 [==============================] - 1s 86us/sample - loss: 0.0769 - acc: 0.9789\n",
      "Fim do treinamento i =  3\n",
      "Epoch 1/5\n",
      "60000/60000 [==============================] - 6s 98us/sample - loss: 0.2322 - acc: 0.9313\n",
      "Epoch 2/5\n",
      "60000/60000 [==============================] - 6s 93us/sample - loss: 0.1014 - acc: 0.9704\n",
      "Epoch 3/5\n",
      "60000/60000 [==============================] - 6s 93us/sample - loss: 0.0719 - acc: 0.9785\n",
      "Epoch 4/5\n",
      "60000/60000 [==============================] - 6s 96us/sample - loss: 0.0563 - acc: 0.9827\n",
      "Epoch 5/5\n",
      "60000/60000 [==============================] - 6s 96us/sample - loss: 0.0439 - acc: 0.9863\n",
      "10000/10000 [==============================] - 1s 89us/sample - loss: 0.0969 - acc: 0.9744\n",
      "Fim do treinamento i =  4\n",
      "Epoch 1/5\n",
      "60000/60000 [==============================] - 6s 102us/sample - loss: 0.2510 - acc: 0.9263\n",
      "Epoch 2/5\n",
      "60000/60000 [==============================] - 6s 95us/sample - loss: 0.1075 - acc: 0.9693\n",
      "Epoch 3/5\n",
      "60000/60000 [==============================] - 6s 96us/sample - loss: 0.0764 - acc: 0.9766\n",
      "Epoch 4/5\n",
      "60000/60000 [==============================] - 6s 96us/sample - loss: 0.0627 - acc: 0.9811\n",
      "Epoch 5/5\n",
      "60000/60000 [==============================] - 6s 96us/sample - loss: 0.0501 - acc: 0.9844\n",
      "10000/10000 [==============================] - 1s 89us/sample - loss: 0.0772 - acc: 0.9787\n",
      "Fim do treinamento i =  5\n"
     ]
    },
    {
     "name": "stderr",
     "output_type": "stream",
     "text": [
      "W0429 22:16:07.057128 18124 nn_ops.py:4224] Large dropout rate: 0.6 (>0.5). In TensorFlow 2.x, dropout() uses dropout rate instead of keep_prob. Please ensure that this is intended.\n"
     ]
    },
    {
     "name": "stdout",
     "output_type": "stream",
     "text": [
      "Epoch 1/5\n",
      "60000/60000 [==============================] - 6s 102us/sample - loss: 0.2781 - acc: 0.9214\n",
      "Epoch 2/5\n",
      "60000/60000 [==============================] - 6s 97us/sample - loss: 0.1197 - acc: 0.9654\n",
      "Epoch 3/5\n",
      "60000/60000 [==============================] - 6s 96us/sample - loss: 0.0857 - acc: 0.9755\n",
      "Epoch 4/5\n",
      "60000/60000 [==============================] - 6s 95us/sample - loss: 0.0672 - acc: 0.9806\n",
      "Epoch 5/5\n",
      "60000/60000 [==============================] - 6s 94us/sample - loss: 0.0563 - acc: 0.9836\n",
      "10000/10000 [==============================] - 1s 103us/sample - loss: 0.0878 - acc: 0.9797\n"
     ]
    },
    {
     "name": "stderr",
     "output_type": "stream",
     "text": [
      "W0429 22:16:39.614463 18124 nn_ops.py:4224] Large dropout rate: 0.7 (>0.5). In TensorFlow 2.x, dropout() uses dropout rate instead of keep_prob. Please ensure that this is intended.\n"
     ]
    },
    {
     "name": "stdout",
     "output_type": "stream",
     "text": [
      "Fim do treinamento i =  6\n",
      "Epoch 1/5\n",
      "60000/60000 [==============================] - 6s 106us/sample - loss: 0.3274 - acc: 0.9064\n",
      "Epoch 2/5\n",
      "60000/60000 [==============================] - 6s 97us/sample - loss: 0.1458 - acc: 0.9604\n",
      "Epoch 3/5\n",
      "60000/60000 [==============================] - 6s 98us/sample - loss: 0.1040 - acc: 0.9715\n",
      "Epoch 4/5\n",
      "60000/60000 [==============================] - 6s 98us/sample - loss: 0.0834 - acc: 0.9765\n",
      "Epoch 5/5\n",
      "60000/60000 [==============================] - 6s 97us/sample - loss: 0.0698 - acc: 0.9803\n",
      "10000/10000 [==============================] - 1s 92us/sample - loss: 0.0805 - acc: 0.9798\n"
     ]
    },
    {
     "name": "stderr",
     "output_type": "stream",
     "text": [
      "W0429 22:17:12.900127 18124 nn_ops.py:4224] Large dropout rate: 0.8 (>0.5). In TensorFlow 2.x, dropout() uses dropout rate instead of keep_prob. Please ensure that this is intended.\n"
     ]
    },
    {
     "name": "stdout",
     "output_type": "stream",
     "text": [
      "Fim do treinamento i =  7\n",
      "Epoch 1/5\n",
      "60000/60000 [==============================] - 7s 121us/sample - loss: 0.4233 - acc: 0.8748\n",
      "Epoch 2/5\n",
      "60000/60000 [==============================] - 7s 109us/sample - loss: 0.1909 - acc: 0.9480\n",
      "Epoch 3/5\n",
      "60000/60000 [==============================] - 7s 109us/sample - loss: 0.1400 - acc: 0.9620\n",
      "Epoch 4/5\n",
      "60000/60000 [==============================] - 6s 105us/sample - loss: 0.1143 - acc: 0.9689\n",
      "Epoch 5/5\n",
      "60000/60000 [==============================] - 6s 105us/sample - loss: 0.1005 - acc: 0.9729\n",
      "10000/10000 [==============================] - 1s 107us/sample - loss: 0.0895 - acc: 0.9782\n",
      "Fim do treinamento i =  8\n"
     ]
    }
   ],
   "source": [
    "model = [0]*9\n",
    "hist_all={}\n",
    "m = {}\n",
    "print('Inicio do Experimento 4')\n",
    "for i in range(len(model)):\n",
    "    model[i] = tf.keras.models.Sequential([\n",
    "            tf.keras.layers.Flatten(),\n",
    "            tf.keras.layers.Dense(1024, activation=tf.nn.relu),\n",
    "            tf.keras.layers.Dense(128, activation=tf.nn.relu),\n",
    "            tf.keras.layers.Dropout(i*0.1),\n",
    "            tf.keras.layers.Dense(10, activation=tf.nn.softmax)\n",
    "            ])\n",
    "\n",
    "    model[i].compile(optimizer='adam',\n",
    "        loss='sparse_categorical_crossentropy',\n",
    "        metrics=['accuracy'])\n",
    "\n",
    "    hist = model[i].fit(x_train, y_train, epochs=5)\n",
    "    hist_all[i]=hist\n",
    "    m[i] = model[i].evaluate(x_test, y_test)\n",
    "    print('Fim do treinamento i = ', i)"
   ]
  },
  {
   "cell_type": "code",
   "execution_count": 86,
   "metadata": {},
   "outputs": [
    {
     "data": {
      "image/png": "[encoded data removed]",
      "text/plain": [
       "<Figure size 432x288 with 1 Axes>"
      ]
     },
     "metadata": {
      "needs_background": "light"
     },
     "output_type": "display_data"
    },
    {
     "name": "stdout",
     "output_type": "stream",
     "text": [
      "Model(0.0): 0 Treino: 0.989483 Teste: 0.980700\n",
      "Model(0.1): 1 Treino: 0.988900 Teste: 0.979000\n",
      "Model(0.2): 2 Treino: 0.988700 Teste: 0.980900\n",
      "Model(0.3): 3 Treino: 0.986867 Teste: 0.978900\n",
      "Model(0.4): 4 Treino: 0.986317 Teste: 0.974400\n",
      "Model(0.5): 5 Treino: 0.984433 Teste: 0.978700\n",
      "Model(0.6): 6 Treino: 0.983550 Teste: 0.979700\n",
      "Model(0.7): 7 Treino: 0.980300 Teste: 0.979800\n",
      "Model(0.8): 8 Treino: 0.972867 Teste: 0.978200\n"
     ]
    }
   ],
   "source": [
    "import matplotlib.pyplot as plt\n",
    "for i in range(len(model)):\n",
    "    plt.plot(hist_all[i].history['acc'])\n",
    "plt.title('model accuracy')\n",
    "plt.ylabel('accuracy')\n",
    "plt.xlabel('epoch')\n",
    "plt.legend(['0.0','0.1','0.2','0.3','0.4','0.5','0.6','0.7','0.8'], loc='best')\n",
    "plt.show()\n",
    "for i in range(len(model)):\n",
    "    print('Model(0.%d): %d Treino: %f Teste: %f' %(i,i, hist_all[i].history['acc'][4],m[i][1]))"
   ]
  },
  {
   "cell_type": "markdown",
   "metadata": {},
   "source": [
    "De acordo com o teste, o modelo com Dropout de 0.2 obteve o melhor resultado.\n",
    "\n"
   ]
  },
  {
   "cell_type": "markdown",
   "metadata": {},
   "source": [
    "##  Experimento 5"
   ]
  },
  {
   "cell_type": "markdown",
   "metadata": {},
   "source": [
    "Por fim, será feito um teste com a implementação do BatchNormalization junto e no lugar do Dropout. Para este teste será aumentado o numero do epochs para observar a estabilização dos resultados."
   ]
  },
  {
   "cell_type": "code",
   "execution_count": 90,
   "metadata": {
    "scrolled": true
   },
   "outputs": [
    {
     "name": "stdout",
     "output_type": "stream",
     "text": [
      "Inicio do Experimento 5\n",
      "Epoch 1/15\n",
      "60000/60000 [==============================] - 7s 114us/sample - loss: 0.2000 - acc: 0.9402\n",
      "Epoch 2/15\n",
      "60000/60000 [==============================] - 6s 108us/sample - loss: 0.0879 - acc: 0.9729\n",
      "Epoch 3/15\n",
      "60000/60000 [==============================] - 6s 106us/sample - loss: 0.0621 - acc: 0.9809\n",
      "Epoch 4/15\n",
      "60000/60000 [==============================] - 6s 103us/sample - loss: 0.0459 - acc: 0.9857\n",
      "Epoch 5/15\n",
      "60000/60000 [==============================] - 6s 105us/sample - loss: 0.0377 - acc: 0.9880\n",
      "Epoch 6/15\n",
      "60000/60000 [==============================] - 6s 105us/sample - loss: 0.0303 - acc: 0.9903\n",
      "Epoch 7/15\n",
      "60000/60000 [==============================] - 6s 104us/sample - loss: 0.0272 - acc: 0.9913\n",
      "Epoch 8/15\n",
      "60000/60000 [==============================] - 6s 104us/sample - loss: 0.0255 - acc: 0.9922\n",
      "Epoch 9/15\n",
      "60000/60000 [==============================] - 6s 104us/sample - loss: 0.0222 - acc: 0.9930\n",
      "Epoch 10/15\n",
      "60000/60000 [==============================] - 6s 104us/sample - loss: 0.0195 - acc: 0.9937\n",
      "Epoch 11/15\n",
      "60000/60000 [==============================] - 6s 105us/sample - loss: 0.0201 - acc: 0.9939\n",
      "Epoch 12/15\n",
      "60000/60000 [==============================] - 6s 106us/sample - loss: 0.0166 - acc: 0.9946\n",
      "Epoch 13/15\n",
      "60000/60000 [==============================] - 6s 105us/sample - loss: 0.0195 - acc: 0.9948\n",
      "Epoch 14/15\n",
      "60000/60000 [==============================] - 6s 104us/sample - loss: 0.0131 - acc: 0.9962\n",
      "Epoch 15/15\n",
      "60000/60000 [==============================] - 6s 105us/sample - loss: 0.0160 - acc: 0.9951\n",
      "10000/10000 [==============================] - 1s 99us/sample - loss: 0.1398 - acc: 0.9792\n",
      "Fim do treinamento i = 0\n",
      "Epoch 1/15\n",
      "60000/60000 [==============================] - 8s 140us/sample - loss: 0.1889 - acc: 0.9425\n",
      "Epoch 2/15\n",
      "60000/60000 [==============================] - 8s 133us/sample - loss: 0.0892 - acc: 0.9717\n",
      "Epoch 3/15\n",
      "60000/60000 [==============================] - 8s 132us/sample - loss: 0.0631 - acc: 0.9803\n",
      "Epoch 4/15\n",
      "60000/60000 [==============================] - 8s 132us/sample - loss: 0.0471 - acc: 0.9847\n",
      "Epoch 5/15\n",
      "60000/60000 [==============================] - 8s 132us/sample - loss: 0.0388 - acc: 0.9877\n",
      "Epoch 6/15\n",
      "60000/60000 [==============================] - 8s 133us/sample - loss: 0.0309 - acc: 0.9899\n",
      "Epoch 7/15\n",
      "60000/60000 [==============================] - 8s 133us/sample - loss: 0.0253 - acc: 0.9915\n",
      "Epoch 8/15\n",
      "60000/60000 [==============================] - 8s 131us/sample - loss: 0.0225 - acc: 0.9927\n",
      "Epoch 9/15\n",
      "60000/60000 [==============================] - 8s 135us/sample - loss: 0.0174 - acc: 0.9945\n",
      "Epoch 10/15\n",
      "60000/60000 [==============================] - 8s 134us/sample - loss: 0.0170 - acc: 0.9942\n",
      "Epoch 11/15\n",
      "60000/60000 [==============================] - 8s 134us/sample - loss: 0.0144 - acc: 0.9951\n",
      "Epoch 12/15\n",
      "60000/60000 [==============================] - 8s 132us/sample - loss: 0.0129 - acc: 0.9959\n",
      "Epoch 13/15\n",
      "60000/60000 [==============================] - 8s 132us/sample - loss: 0.0102 - acc: 0.9968\n",
      "Epoch 14/15\n",
      "60000/60000 [==============================] - 8s 131us/sample - loss: 0.0129 - acc: 0.9957\n",
      "Epoch 15/15\n",
      "60000/60000 [==============================] - 8s 130us/sample - loss: 0.0091 - acc: 0.9968\n",
      "10000/10000 [==============================] - 1s 105us/sample - loss: 0.0750 - acc: 0.9816\n",
      "Fim do treinamento i = 1\n",
      "Epoch 1/15\n",
      "60000/60000 [==============================] - 9s 144us/sample - loss: 0.2094 - acc: 0.9376\n",
      "Epoch 2/15\n",
      "60000/60000 [==============================] - 8s 135us/sample - loss: 0.0989 - acc: 0.9700\n",
      "Epoch 3/15\n",
      "60000/60000 [==============================] - 8s 135us/sample - loss: 0.0703 - acc: 0.9781\n",
      "Epoch 4/15\n",
      "60000/60000 [==============================] - 8s 135us/sample - loss: 0.0547 - acc: 0.9826\n",
      "Epoch 5/15\n",
      "60000/60000 [==============================] - 8s 136us/sample - loss: 0.0419 - acc: 0.9863\n",
      "Epoch 6/15\n",
      "60000/60000 [==============================] - 8s 136us/sample - loss: 0.0361 - acc: 0.9886\n",
      "Epoch 7/15\n",
      "60000/60000 [==============================] - 8s 135us/sample - loss: 0.0294 - acc: 0.9904\n",
      "Epoch 8/15\n",
      "60000/60000 [==============================] - 8s 136us/sample - loss: 0.0260 - acc: 0.9916\n",
      "Epoch 9/15\n",
      "60000/60000 [==============================] - 8s 136us/sample - loss: 0.0229 - acc: 0.9927\n",
      "Epoch 10/15\n",
      "60000/60000 [==============================] - 8s 136us/sample - loss: 0.0180 - acc: 0.9940\n",
      "Epoch 11/15\n",
      "60000/60000 [==============================] - 8s 141us/sample - loss: 0.0156 - acc: 0.9949\n",
      "Epoch 12/15\n",
      "60000/60000 [==============================] - 8s 138us/sample - loss: 0.0139 - acc: 0.9955\n",
      "Epoch 13/15\n",
      "60000/60000 [==============================] - 8s 136us/sample - loss: 0.0154 - acc: 0.9949\n",
      "Epoch 14/15\n",
      "60000/60000 [==============================] - 8s 136us/sample - loss: 0.0130 - acc: 0.9956\n",
      "Epoch 15/15\n",
      "60000/60000 [==============================] - 8s 136us/sample - loss: 0.0144 - acc: 0.9952\n",
      "10000/10000 [==============================] - 1s 118us/sample - loss: 0.0759 - acc: 0.9824\n",
      "Fim do treinamento i = 2\n"
     ]
    }
   ],
   "source": [
    "model = [0,0,0]\n",
    "hist_all={}\n",
    "m= {}\n",
    "print('Inicio do Experimento 5')\n",
    "for i in range(len(model)):\n",
    "    if i==0:\n",
    "        model[i] = tf.keras.models.Sequential([\n",
    "            tf.keras.layers.Flatten(),\n",
    "            tf.keras.layers.Dense(1024, activation=tf.nn.relu),\n",
    "            tf.keras.layers.Dense(128, activation=tf.nn.relu),\n",
    "            tf.keras.layers.Dropout(0.2),\n",
    "            tf.keras.layers.Dense(10, activation=tf.nn.softmax)\n",
    "            ])\n",
    "\n",
    "        model[i].compile(optimizer='adam',\n",
    "            loss='sparse_categorical_crossentropy',\n",
    "            metrics=['accuracy'])\n",
    "\n",
    "        hist = model[i].fit(x_train, y_train, epochs=15)\n",
    "        hist_all[i]=hist\n",
    "        m[i] = model[i].evaluate(x_test, y_test)\n",
    "        print('Fim do treinamento i = 0')\n",
    "    if i==1:\n",
    "        model[i] = tf.keras.models.Sequential([\n",
    "            tf.keras.layers.Flatten(),\n",
    "            tf.keras.layers.Dense(1024, activation=tf.nn.relu),\n",
    "            tf.keras.layers.Dense(128, activation=tf.nn.relu),\n",
    "            tf.keras.layers.BatchNormalization(),\n",
    "            tf.keras.layers.Dense(10, activation=tf.nn.softmax)\n",
    "            ])\n",
    "\n",
    "        model[i].compile(optimizer='adam',\n",
    "            loss='sparse_categorical_crossentropy',\n",
    "            metrics=['accuracy'])\n",
    "\n",
    "        hist = model[i].fit(x_train, y_train, epochs=15)\n",
    "        hist_all[i]=hist\n",
    "        m[i] = model[i].evaluate(x_test, y_test)\n",
    "        print('Fim do treinamento i = 1')\n",
    "    if i==2:\n",
    "        model[i] = tf.keras.models.Sequential([\n",
    "            tf.keras.layers.Flatten(),\n",
    "            tf.keras.layers.Dense(1024, activation=tf.nn.relu),\n",
    "            tf.keras.layers.Dense(128, activation=tf.nn.relu),\n",
    "            tf.keras.layers.BatchNormalization(),\n",
    "            tf.keras.layers.Dropout(0.2),\n",
    "            tf.keras.layers.Dense(10, activation=tf.nn.softmax)\n",
    "            ])\n",
    "\n",
    "        model[i].compile(optimizer='adam',\n",
    "            loss='sparse_categorical_crossentropy',\n",
    "            metrics=['accuracy'])\n",
    "\n",
    "        hist = model[i].fit(x_train, y_train, epochs=15)\n",
    "        hist_all[i]=hist\n",
    "        m[i] = model[i].evaluate(x_test, y_test)\n",
    "        print('Fim do treinamento i = 2')"
   ]
  },
  {
   "cell_type": "code",
   "execution_count": 93,
   "metadata": {},
   "outputs": [
    {
     "data": {
      "image/png": "[encoded data removed]",
      "text/plain": [
       "<Figure size 432x288 with 1 Axes>"
      ]
     },
     "metadata": {
      "needs_background": "light"
     },
     "output_type": "display_data"
    },
    {
     "name": "stdout",
     "output_type": "stream",
     "text": [
      "Model(Dropout(0.2)):\n",
      "Treino: 0.995083 Teste: 0.979200 \n",
      "Diferença: 0.015883 \n",
      "\n",
      "Model(BN):\n",
      "Treino: 0.996833 Teste: 0.981600 \n",
      "Diferença: 0.015233 \n",
      "\n",
      "Model(BN+Dropout(0.2)):\n",
      "Treino: 0.995217 Teste: 0.982400 \n",
      "Diferença: 0.012817 \n",
      "\n"
     ]
    }
   ],
   "source": [
    "import matplotlib.pyplot as plt\n",
    "for i in range(len(model)):\n",
    "    plt.plot(hist_all[i].history['acc'])\n",
    "plt.title('model accuracy')\n",
    "plt.ylabel('accuracy')\n",
    "plt.xlabel('epoch')\n",
    "name = ['Dropout(0.2)','BN','BN+Dropout(0.2)']\n",
    "plt.legend(name, loc='best')\n",
    "plt.show()\n",
    "\n",
    "for i in range(len(model)):\n",
    "    print('Model(%s):'%(name[i]))\n",
    "    print('Treino: %f Teste: %f ' %( hist_all[i].history['acc'][14], m[i][1]))\n",
    "    print('Diferença: %f \\n' %(hist_all[i].history['acc'][14]- m[i][1]))"
   ]
  },
  {
   "cell_type": "markdown",
   "metadata": {},
   "source": [
    "Após 15 epochs observamos que a precisão adiquirida pelo BatchNormalization + Dropout foi superior, assim como a sua diferença entre a acurácia de treino e de teste foi menor."
   ]
  },
  {
   "cell_type": "markdown",
   "metadata": {},
   "source": [
    "## Experimento 6"
   ]
  },
  {
   "cell_type": "markdown",
   "metadata": {},
   "source": [
    "Para finalizar o exercicio será  analizado a mudança do batch_size utilizado a mesma arquitetura com melhor desempenho no teste com 5 epochs."
   ]
  },
  {
   "cell_type": "code",
   "execution_count": 94,
   "metadata": {
    "scrolled": true
   },
   "outputs": [
    {
     "name": "stdout",
     "output_type": "stream",
     "text": [
      "Inicio do Experimento 5\n",
      "Epoch 1/5\n",
      "60000/60000 [==============================] - 9s 144us/sample - loss: 0.2081 - acc: 0.9375\n",
      "Epoch 2/5\n",
      "60000/60000 [==============================] - 8s 138us/sample - loss: 0.1017 - acc: 0.9698\n",
      "Epoch 3/5\n",
      "60000/60000 [==============================] - 8s 138us/sample - loss: 0.0713 - acc: 0.9781\n",
      "Epoch 4/5\n",
      "60000/60000 [==============================] - 8s 134us/sample - loss: 0.0571 - acc: 0.9822\n",
      "Epoch 5/5\n",
      "60000/60000 [==============================] - 8s 136us/sample - loss: 0.0436 - acc: 0.9864\n",
      "10000/10000 [==============================] - 1s 113us/sample - loss: 0.0785 - acc: 0.9769\n",
      "Fim do treinamento i = 0\n",
      "Epoch 1/5\n",
      "60000/60000 [==============================] - 5s 82us/sample - loss: 0.2032 - acc: 0.9394\n",
      "Epoch 2/5\n",
      "60000/60000 [==============================] - 4s 73us/sample - loss: 0.0915 - acc: 0.9718\n",
      "Epoch 3/5\n",
      "60000/60000 [==============================] - 4s 73us/sample - loss: 0.0605 - acc: 0.9810\n",
      "Epoch 4/5\n",
      "60000/60000 [==============================] - 5s 80us/sample - loss: 0.0463 - acc: 0.9856\n",
      "Epoch 5/5\n",
      "60000/60000 [==============================] - 5s 77us/sample - loss: 0.0367 - acc: 0.9885\n",
      "10000/10000 [==============================] - 1s 121us/sample - loss: 0.0839 - acc: 0.9747\n",
      "Fim do treinamento i = 1\n",
      "Epoch 1/5\n",
      "60000/60000 [==============================] - 3s 48us/sample - loss: 0.2006 - acc: 0.9400\n",
      "Epoch 2/5\n",
      "60000/60000 [==============================] - 2s 39us/sample - loss: 0.0871 - acc: 0.9726\n",
      "Epoch 3/5\n",
      "60000/60000 [==============================] - 3s 44us/sample - loss: 0.0589 - acc: 0.9816\n",
      "Epoch 4/5\n",
      "60000/60000 [==============================] - 2s 41us/sample - loss: 0.0440 - acc: 0.9861\n",
      "Epoch 5/5\n",
      "60000/60000 [==============================] - 2s 41us/sample - loss: 0.0327 - acc: 0.9897\n",
      "10000/10000 [==============================] - 1s 123us/sample - loss: 0.1094 - acc: 0.9703\n",
      "Fim do treinamento i = 2\n",
      "Epoch 1/5\n",
      "60000/60000 [==============================] - 2s 35us/sample - loss: 0.2233 - acc: 0.9345\n",
      "Epoch 2/5\n",
      "60000/60000 [==============================] - 1s 25us/sample - loss: 0.0886 - acc: 0.9732\n",
      "Epoch 3/5\n",
      "60000/60000 [==============================] - 2s 26us/sample - loss: 0.0568 - acc: 0.9829\n",
      "Epoch 4/5\n",
      "60000/60000 [==============================] - 1s 25us/sample - loss: 0.0410 - acc: 0.9871\n",
      "Epoch 5/5\n",
      "60000/60000 [==============================] - 2s 25us/sample - loss: 0.0282 - acc: 0.9911\n",
      "10000/10000 [==============================] - 1s 116us/sample - loss: 0.0739 - acc: 0.9785\n",
      "Fim do treinamento i = 3\n"
     ]
    }
   ],
   "source": [
    "model = [0,0,0,0]\n",
    "hist_all={}\n",
    "m= {}\n",
    "print('Inicio do Experimento 5')\n",
    "for i in range(len(model)):\n",
    "    if i==0:\n",
    "        model[i] = tf.keras.models.Sequential([\n",
    "            tf.keras.layers.Flatten(),\n",
    "            tf.keras.layers.Dense(1024, activation=tf.nn.relu),\n",
    "            tf.keras.layers.Dense(128, activation=tf.nn.relu),\n",
    "            tf.keras.layers.BatchNormalization(),\n",
    "            tf.keras.layers.Dropout(0.2),\n",
    "            tf.keras.layers.Dense(10, activation=tf.nn.softmax)\n",
    "            ])\n",
    "\n",
    "        model[i].compile(optimizer='adam',\n",
    "            loss='sparse_categorical_crossentropy',\n",
    "            metrics=['accuracy'])\n",
    "\n",
    "        hist = model[i].fit(x_train, y_train, epochs=5, batch_size =32)\n",
    "        hist_all[i]=hist\n",
    "        m[i] = model[i].evaluate(x_test, y_test)\n",
    "        print('Fim do treinamento i = 0')\n",
    "    if i==1:\n",
    "        model[i] = tf.keras.models.Sequential([\n",
    "            tf.keras.layers.Flatten(),\n",
    "            tf.keras.layers.Dense(1024, activation=tf.nn.relu),\n",
    "            tf.keras.layers.Dense(128, activation=tf.nn.relu),\n",
    "            tf.keras.layers.BatchNormalization(),\n",
    "            tf.keras.layers.Dropout(0.2),\n",
    "            tf.keras.layers.Dense(10, activation=tf.nn.softmax)\n",
    "            ])\n",
    "\n",
    "        model[i].compile(optimizer='adam',\n",
    "            loss='sparse_categorical_crossentropy',\n",
    "            metrics=['accuracy'])\n",
    "\n",
    "        hist = model[i].fit(x_train, y_train, epochs=5, batch_size =64)\n",
    "        hist_all[i]=hist\n",
    "        m[i] = model[i].evaluate(x_test, y_test)\n",
    "        print('Fim do treinamento i = 1')\n",
    "    if i==2:\n",
    "        model[i] = tf.keras.models.Sequential([\n",
    "            tf.keras.layers.Flatten(),\n",
    "            tf.keras.layers.Dense(1024, activation=tf.nn.relu),\n",
    "            tf.keras.layers.Dense(128, activation=tf.nn.relu),\n",
    "            tf.keras.layers.BatchNormalization(),\n",
    "            tf.keras.layers.Dropout(0.2),\n",
    "            tf.keras.layers.Dense(10, activation=tf.nn.softmax)\n",
    "            ])\n",
    "\n",
    "        model[i].compile(optimizer='adam',\n",
    "            loss='sparse_categorical_crossentropy',\n",
    "            metrics=['accuracy'])\n",
    "\n",
    "        hist = model[i].fit(x_train, y_train, epochs=5, batch_size =128)\n",
    "        hist_all[i]=hist\n",
    "        m[i] = model[i].evaluate(x_test, y_test)\n",
    "        print('Fim do treinamento i = 2')\n",
    "    if i==3:\n",
    "        model[i] = tf.keras.models.Sequential([\n",
    "            tf.keras.layers.Flatten(),\n",
    "            tf.keras.layers.Dense(1024, activation=tf.nn.relu),\n",
    "            tf.keras.layers.Dense(128, activation=tf.nn.relu),\n",
    "            tf.keras.layers.BatchNormalization(),\n",
    "            tf.keras.layers.Dropout(0.2),\n",
    "            tf.keras.layers.Dense(10, activation=tf.nn.softmax)\n",
    "            ])\n",
    "\n",
    "        model[i].compile(optimizer='adam',\n",
    "            loss='sparse_categorical_crossentropy',\n",
    "            metrics=['accuracy'])\n",
    "\n",
    "        hist = model[i].fit(x_train, y_train, epochs=5, batch_size =256)\n",
    "        hist_all[i]=hist\n",
    "        m[i] = model[i].evaluate(x_test, y_test)\n",
    "        print('Fim do treinamento i = 3')"
   ]
  },
  {
   "cell_type": "code",
   "execution_count": 95,
   "metadata": {},
   "outputs": [
    {
     "data": {
      "image/png": "[encoded data removed]",
      "text/plain": [
       "<Figure size 432x288 with 1 Axes>"
      ]
     },
     "metadata": {
      "needs_background": "light"
     },
     "output_type": "display_data"
    },
    {
     "name": "stdout",
     "output_type": "stream",
     "text": [
      "Model(Batch_size: 32):\n",
      "Treino: 0.986417 Teste: 0.976900 \n",
      "\n",
      "Model(Batch_size: 64):\n",
      "Treino: 0.988467 Teste: 0.974700 \n",
      "\n",
      "Model(Batch_size: 128):\n",
      "Treino: 0.989700 Teste: 0.970300 \n",
      "\n",
      "Model(Batch_size: 256):\n",
      "Treino: 0.991067 Teste: 0.978500 \n",
      "\n"
     ]
    }
   ],
   "source": [
    "import matplotlib.pyplot as plt\n",
    "for i in range(len(model)):\n",
    "    plt.plot(hist_all[i].history['acc'])\n",
    "plt.title('model accuracy')\n",
    "plt.ylabel('accuracy')\n",
    "plt.xlabel('epoch')\n",
    "name = ['Batch_size: 32','Batch_size: 64','Batch_size: 128','Batch_size: 256']\n",
    "plt.legend(name, loc='best')\n",
    "plt.show()\n",
    "\n",
    "for i in range(len(model)):\n",
    "    print('Model(%s):'%(name[i]))\n",
    "    print('Treino: %f Teste: %f \\n' %( hist_all[i].history['acc'][4], m[i][1]))"
   ]
  },
  {
   "cell_type": "markdown",
   "metadata": {},
   "source": [
    "Por fim, o numero de Batch_size: 256 resultou na melhor precisão até o momento."
   ]
  },
  {
   "cell_type": "markdown",
   "metadata": {},
   "source": [
    "## Finalizando"
   ]
  },
  {
   "cell_type": "markdown",
   "metadata": {},
   "source": [
    "Nesta etapa será utilizado a arquitetura mais promissora, com um numero maior de epochs (20) e batch_size igual a 256"
   ]
  },
  {
   "cell_type": "code",
   "execution_count": 99,
   "metadata": {
    "scrolled": true
   },
   "outputs": [
    {
     "name": "stdout",
     "output_type": "stream",
     "text": [
      "Epoch 1/20\n",
      "60000/60000 [==============================] - 2s 34us/sample - loss: 0.2199 - acc: 0.9343\n",
      "Epoch 2/20\n",
      "60000/60000 [==============================] - 2s 25us/sample - loss: 0.0876 - acc: 0.9736\n",
      "Epoch 3/20\n",
      "60000/60000 [==============================] - 2s 25us/sample - loss: 0.0554 - acc: 0.9835\n",
      "Epoch 4/20\n",
      "60000/60000 [==============================] - 2s 25us/sample - loss: 0.0399 - acc: 0.9879\n",
      "Epoch 5/20\n",
      "60000/60000 [==============================] - 2s 26us/sample - loss: 0.0277 - acc: 0.9912\n",
      "Epoch 6/20\n",
      "60000/60000 [==============================] - 1s 24us/sample - loss: 0.0229 - acc: 0.9929\n",
      "Epoch 7/20\n",
      "60000/60000 [==============================] - 1s 24us/sample - loss: 0.0196 - acc: 0.9936\n",
      "Epoch 8/20\n",
      "60000/60000 [==============================] - 1s 24us/sample - loss: 0.0173 - acc: 0.9945\n",
      "Epoch 9/20\n",
      "60000/60000 [==============================] - 1s 24us/sample - loss: 0.0149 - acc: 0.9951\n",
      "Epoch 10/20\n",
      "60000/60000 [==============================] - 1s 24us/sample - loss: 0.0114 - acc: 0.9965\n",
      "Epoch 11/20\n",
      "60000/60000 [==============================] - 1s 24us/sample - loss: 0.0109 - acc: 0.9967\n",
      "Epoch 12/20\n",
      "60000/60000 [==============================] - 1s 24us/sample - loss: 0.0078 - acc: 0.9977\n",
      "Epoch 13/20\n",
      "60000/60000 [==============================] - 1s 24us/sample - loss: 0.0127 - acc: 0.9960\n",
      "Epoch 14/20\n",
      "60000/60000 [==============================] - 1s 24us/sample - loss: 0.0098 - acc: 0.9969\n",
      "Epoch 15/20\n",
      "60000/60000 [==============================] - 1s 24us/sample - loss: 0.0073 - acc: 0.9976\n",
      "Epoch 16/20\n",
      "60000/60000 [==============================] - 1s 24us/sample - loss: 0.0095 - acc: 0.9968\n",
      "Epoch 17/20\n",
      "60000/60000 [==============================] - 1s 24us/sample - loss: 0.0084 - acc: 0.9973\n",
      "Epoch 18/20\n",
      "60000/60000 [==============================] - 1s 24us/sample - loss: 0.0093 - acc: 0.9969\n",
      "Epoch 19/20\n",
      "60000/60000 [==============================] - 1s 24us/sample - loss: 0.0069 - acc: 0.9977\n",
      "Epoch 20/20\n",
      "60000/60000 [==============================] - 1s 24us/sample - loss: 0.0027 - acc: 0.9992\n",
      "Model saved to disk\n"
     ]
    },
    {
     "data": {
      "text/plain": [
       "'C:\\\\Users\\\\T-Gamer\\\\Dropbox\\\\Aulas Doc\\\\EFC2\\\\Q3'"
      ]
     },
     "execution_count": 99,
     "metadata": {},
     "output_type": "execute_result"
    }
   ],
   "source": [
    "model = tf.keras.models.Sequential([\n",
    "    tf.keras.layers.Flatten(),\n",
    "    tf.keras.layers.Dense(1024, activation=tf.nn.relu),\n",
    "    tf.keras.layers.Dense(128, activation=tf.nn.relu),\n",
    "    tf.keras.layers.BatchNormalization(),\n",
    "    tf.keras.layers.Dropout(0.2),\n",
    "    tf.keras.layers.Dense(10, activation=tf.nn.softmax)\n",
    "    ])\n",
    "\n",
    "model.compile(optimizer='adam',\n",
    "    loss='sparse_categorical_crossentropy',\n",
    "    metrics=['accuracy'])\n",
    "\n",
    "hist = model.fit(x_train, y_train, epochs=20, batch_size =256)\n",
    "\n",
    "model_json = model.to_json()\n",
    "json_file = open(\"model_MLP.json\", \"w\")\n",
    "json_file.write(model_json)\n",
    "json_file.close()\n",
    "model.save_weights(\"model_MLP.h5\")\n",
    "print(\"Model saved to disk\")\n",
    "os.getcwd()"
   ]
  },
  {
   "cell_type": "code",
   "execution_count": 100,
   "metadata": {},
   "outputs": [
    {
     "name": "stdout",
     "output_type": "stream",
     "text": [
      "10000/10000 [==============================] - 1s 114us/sample - loss: 0.0602 - acc: 0.9850\n",
      "loss: 0.060177524138828764\n",
      "acc: 0.9850000143051147\n"
     ]
    }
   ],
   "source": [
    "md = model.evaluate(x_test, y_test)\n",
    "for metric_i in range(len(model.metrics_names)):\n",
    "    metric_name = model.metrics_names[metric_i]\n",
    "    metric_value = md[metric_i]\n",
    "    print('{}: {}'.format(metric_name, metric_value))  "
   ]
  },
  {
   "cell_type": "code",
   "execution_count": null,
   "metadata": {},
   "outputs": [],
   "source": []
  },
  {
   "cell_type": "code",
   "execution_count": null,
   "metadata": {},
   "outputs": [],
   "source": []
  }
 ],
 "metadata": {
  "kernelspec": {
   "display_name": "Python 3",
   "language": "python",
   "name": "python3"
  },
  "language_info": {
   "codemirror_mode": {
    "name": "ipython",
    "version": 3
   },
   "file_extension": ".py",
   "mimetype": "text/x-python",
   "name": "python",
   "nbconvert_exporter": "python",
   "pygments_lexer": "ipython3",
   "version": "3.7.4"
  }
 },
 "nbformat": 4,
 "nbformat_minor": 4
}
