{
 "cells": [
  {
   "cell_type": "markdown",
   "metadata": {},
   "source": [
    "# Questão 4"
   ]
  },
  {
   "cell_type": "markdown",
   "metadata": {},
   "source": [
    "## Relatório do Trabalho feito"
   ]
  },
  {
   "cell_type": "markdown",
   "metadata": {},
   "source": [
    "Nesta atividade, assim como na Questão 3, realizei uma sequencia de 4 experimentos para observar as mudanças de desempenho comparado com alterações na arquitetura do modelo.\n",
    "\n",
    "### Experimento 1\n",
    "\n",
    "Inicialmente aumentei o numero de camadas convolucionais no modelo, observando que não necessariamente  mais camadas convolucionais resultam numa melhora de desempenho. Escolhendo a estrutura que favoreceu o melhor resultado no Teste, segui para o Experimento 2.\n",
    "\n",
    "### Experimento 2\n",
    "\n",
    "Neste Experimento, alterei o número de filtros das camadas convolucionais, variando de acordo com a estrutura escolhida anteriormente.\n",
    "Foi observado que o aumento de filtros favoreceu o ganho de desempenho. Entretanto, este aumento gerou um tempo maior para realizar o treinamento. Dessa forma foi escolhido valores de filtros que tiveram um otimo desempenho sem demorar tanto durante a fase de treinamento.\n",
    "\n",
    "### Implementação da Questão 3\n",
    "\n",
    "Nesta etapa utilizei a minha arquitetura encontrada na Questão 3 como forma de classificador da Rede Neural Convolucional.\n",
    "\n",
    "\n",
    "### Experimento 3\n",
    "\n",
    "Seguindo com os experimentos, foi avaliado qual o melhor valor de Dropout que gerasse um melhor desempenho na arquitetura proposta. \n",
    "Através de uma varredura entre Dropouts(0 até 0,6), foi observado que o Dropout(0,4) resultou na melhor precisão durante os testes.\n",
    "\n",
    "\n",
    "### Experimento 4\n",
    "\n",
    "Como ultimo experimento, implementei o Batch Normalization junto e sem o Dropout no modelo. Nessa etapa foi utilizado 15 epochs para comparar os resultados após a estabilização da precisão dos resultados.\n",
    "Como resultado, a arquitetura sem o Batch Normalization, somente com o Dropout(0,4) resultou na melhor precisão.\n",
    "\n",
    "\n",
    "### Final\n",
    "\n",
    "Para finalizar, foi utilizado todos os melhores resultados observados nos Experimentos e sintetizado uma versão final do modelo de aprendizado.\n",
    "Para essa etapa foi utilizado 20 Epochs de treinamento.\n",
    "\n",
    "Os valores de precisão no Teste estão representados na Tabela abaixo:"
   ]
  },
  {
   "cell_type": "markdown",
   "metadata": {},
   "source": [
    "| |Precisão no Teste (%)|\n",
    "|---|---|\n",
    "|Roteiro|99,11|\n",
    "|Experimento 1|99,33|\n",
    "|Experimento 2|99,40|\n",
    "|Experimento 3|99,37|\n",
    "|Experimento 4|99,48|\n",
    "|Final|99,52|"
   ]
  },
  {
   "cell_type": "markdown",
   "metadata": {},
   "source": [
    "Por fim abaixo se encontra um grafico com a evolução da acurácia do treino (Roteiro e Arquitetura Final)"
   ]
  },
  {
   "cell_type": "code",
   "execution_count": 45,
   "metadata": {},
   "outputs": [
    {
     "data": {
      "image/png": "[encoded data removed]",
      "text/plain": [
       "<Figure size 432x288 with 1 Axes>"
      ]
     },
     "metadata": {
      "needs_background": "light"
     },
     "output_type": "display_data"
    }
   ],
   "source": [
    "plt.plot(hist.history['acc'])\n",
    "plt.plot(hist_t.history['acc'])\n",
    "plt.title('Precisão dos Modelos')\n",
    "plt.ylabel('Acurácia')\n",
    "plt.xlabel('epoch')\n",
    "plt.legend(['Final', 'Roteiro'], loc='best')\n",
    "plt.show()"
   ]
  },
  {
   "cell_type": "code",
   "execution_count": null,
   "metadata": {},
   "outputs": [],
   "source": []
  },
  {
   "cell_type": "code",
   "execution_count": null,
   "metadata": {},
   "outputs": [],
   "source": []
  },
  {
   "cell_type": "markdown",
   "metadata": {},
   "source": [
    "# Roteiro"
   ]
  },
  {
   "cell_type": "markdown",
   "metadata": {},
   "source": [
    "# Treino"
   ]
  },
  {
   "cell_type": "code",
   "execution_count": 1,
   "metadata": {
    "scrolled": true
   },
   "outputs": [
    {
     "name": "stderr",
     "output_type": "stream",
     "text": [
      "WARNING: Logging before flag parsing goes to stderr.\n",
      "W0501 14:19:55.194093 22464 deprecation.py:506] From D:\\Anaconda3\\envs\\tf_gpu\\lib\\site-packages\\tensorflow\\python\\ops\\init_ops.py:1251: calling VarianceScaling.__init__ (from tensorflow.python.ops.init_ops) with dtype is deprecated and will be removed in a future version.\n",
      "Instructions for updating:\n",
      "Call initializer instance with the dtype argument instead of passing it to the constructor\n"
     ]
    },
    {
     "name": "stdout",
     "output_type": "stream",
     "text": [
      "Epoch 1/5\n",
      "60000/60000 [==============================] - 9s 149us/sample - loss: 0.1870 - acc: 0.9437\n",
      "Epoch 2/5\n",
      "60000/60000 [==============================] - 8s 132us/sample - loss: 0.0756 - acc: 0.9773\n",
      "Epoch 3/5\n",
      "60000/60000 [==============================] - 8s 131us/sample - loss: 0.0599 - acc: 0.9819\n",
      "Epoch 4/5\n",
      "60000/60000 [==============================] - 8s 135us/sample - loss: 0.0467 - acc: 0.9857\n",
      "Epoch 5/5\n",
      "60000/60000 [==============================] - 8s 135us/sample - loss: 0.0412 - acc: 0.9868\n",
      "Model saved to disk\n"
     ]
    },
    {
     "data": {
      "text/plain": [
       "'C:\\\\Users\\\\T-Gamer\\\\Dropbox\\\\Aulas Doc\\\\EFC2\\\\Q4'"
      ]
     },
     "execution_count": 1,
     "metadata": {},
     "output_type": "execute_result"
    }
   ],
   "source": [
    "import tensorflow as tf\n",
    "import os\n",
    "mnist = tf.keras.datasets.mnist\n",
    "\n",
    "(x_train, y_train),(x_test, y_test) = mnist.load_data()\n",
    "\n",
    "# reshape to be [samples][width][height][pixels]\n",
    "x_train = x_train.reshape(x_train.shape[0], 28, 28, 1)\n",
    "x_test = x_test.reshape(x_test.shape[0], 28, 28, 1)\n",
    "\n",
    "x_train, x_test = x_train / 255.0, x_test / 255.0\n",
    "\n",
    "model_t = tf.keras.models.Sequential()\n",
    "model_t.add(tf.keras.layers.Conv2D(32, kernel_size=(3, 3),\n",
    "activation='relu',\n",
    "input_shape=(28, 28, 1)))\n",
    "model_t.add(tf.keras.layers.Conv2D(64, (3, 3), activation='relu'))\n",
    "model_t.add(tf.keras.layers.MaxPooling2D(pool_size=(2, 2)))\n",
    "model_t.add(tf.keras.layers.Dropout(0.25))\n",
    "model_t.add(tf.keras.layers.Flatten())\n",
    "model_t.add(tf.keras.layers.Dense(128, activation='relu'))\n",
    "model_t.add(tf.keras.layers.Dropout(0.5))\n",
    "model_t.add(tf.keras.layers.Dense(10, activation='softmax'))\n",
    "\n",
    "model_t.compile(optimizer='adam',\n",
    "loss='sparse_categorical_crossentropy',\n",
    "metrics=['accuracy'])\n",
    "\n",
    "hist_t = model_t.fit(x_train, y_train, epochs=5)\n",
    "\n",
    "model_t_json = model_t.to_json()\n",
    "json_file = open(\"model_t_CNN.json\", \"w\")\n",
    "json_file.write(model_t_json)\n",
    "json_file.close()\n",
    "model_t.save_weights(\"model_t_CNN.h5\")\n",
    "print(\"Model saved to disk\")\n",
    "os.getcwd()"
   ]
  },
  {
   "cell_type": "markdown",
   "metadata": {},
   "source": [
    "# Teste"
   ]
  },
  {
   "cell_type": "code",
   "execution_count": 2,
   "metadata": {},
   "outputs": [
    {
     "name": "stdout",
     "output_type": "stream",
     "text": [
      "10000/10000 [==============================] - 1s 59us/sample - loss: 0.0313 - acc: 0.9911\n",
      "loss: 0.03132838575012274\n",
      "acc: 0.991100013256073\n"
     ]
    }
   ],
   "source": [
    "mt = model_t.evaluate(x_test, y_test)\n",
    "for metric_i in range(len(model_t.metrics_names)):\n",
    "    metric_name = model_t.metrics_names[metric_i]\n",
    "    metric_value = mt[metric_i]\n",
    "    print('{}: {}'.format(metric_name, metric_value))  "
   ]
  },
  {
   "cell_type": "markdown",
   "metadata": {},
   "source": [
    "##  Curva de Aprendizado do Roteiro"
   ]
  },
  {
   "cell_type": "code",
   "execution_count": 3,
   "metadata": {
    "scrolled": true
   },
   "outputs": [
    {
     "data": {
      "image/png": "[encoded data removed]",
      "text/plain": [
       "<Figure size 432x288 with 1 Axes>"
      ]
     },
     "metadata": {
      "needs_background": "light"
     },
     "output_type": "display_data"
    }
   ],
   "source": [
    "import matplotlib.pyplot as plt\n",
    "\n",
    "plt.plot(hist_t.history['acc'])\n",
    "plt.title('model accuracy')\n",
    "plt.ylabel('accuracy')\n",
    "plt.xlabel('epoch')\n",
    "plt.legend(['train'], loc='upper left')\n",
    "plt.show()"
   ]
  },
  {
   "cell_type": "markdown",
   "metadata": {},
   "source": [
    "# Atividade\n",
    "\n",
    "Para superar o desempenho encontrado no modelo do roteiro, assim como na Questão 3, irei realizar experimentos testando diferentes arquiteturas."
   ]
  },
  {
   "cell_type": "markdown",
   "metadata": {},
   "source": [
    "## Dados e Bibliotecas"
   ]
  },
  {
   "cell_type": "code",
   "execution_count": 2,
   "metadata": {},
   "outputs": [],
   "source": [
    "import tensorflow as tf\n",
    "import os\n",
    "import matplotlib.pyplot as plt\n",
    "\n",
    "mnist = tf.keras.datasets.mnist\n",
    "\n",
    "(x_train, y_train),(x_test, y_test) = mnist.load_data()\n",
    "\n",
    "\n",
    "x_train = x_train.reshape(x_train.shape[0], 28, 28, 1)\n",
    "x_test = x_test.reshape(x_test.shape[0], 28, 28, 1)\n",
    "\n",
    "x_train, x_test = x_train / 255.0, x_test / 255.0"
   ]
  },
  {
   "cell_type": "markdown",
   "metadata": {},
   "source": [
    "Para realizar os experimentos, irei utilizar o batch_size = 256, com intuito de acelerar o treinamento."
   ]
  },
  {
   "cell_type": "markdown",
   "metadata": {},
   "source": [
    "## Experimento 1"
   ]
  },
  {
   "cell_type": "markdown",
   "metadata": {},
   "source": [
    "Neste Experimento 1, iremos observar a influência de mais camadas convolucionais na arquitetura."
   ]
  },
  {
   "cell_type": "code",
   "execution_count": 15,
   "metadata": {
    "scrolled": false
   },
   "outputs": [
    {
     "name": "stdout",
     "output_type": "stream",
     "text": [
      "Inicio do Treino i = 0\n",
      "Epoch 1/5\n",
      "60000/60000 [==============================] - 4s 69us/sample - loss: 0.3655 - acc: 0.8839\n",
      "Epoch 2/5\n",
      "60000/60000 [==============================] - 4s 64us/sample - loss: 0.1004 - acc: 0.9694\n",
      "Epoch 3/5\n",
      "60000/60000 [==============================] - 4s 63us/sample - loss: 0.0696 - acc: 0.9790\n",
      "Epoch 4/5\n",
      "60000/60000 [==============================] - 4s 66us/sample - loss: 0.0562 - acc: 0.9835\n",
      "Epoch 5/5\n",
      "60000/60000 [==============================] - 4s 69us/sample - loss: 0.0484 - acc: 0.9858\n",
      "10000/10000 [==============================] - 1s 88us/sample - loss: 0.0209 - acc: 0.9931\n",
      "Fim do Treino i = 0 \n",
      "\n",
      "Inicio do Treino i = 1\n",
      "Epoch 1/5\n",
      "60000/60000 [==============================] - 6s 108us/sample - loss: 0.2423 - acc: 0.9258\n",
      "Epoch 2/5\n",
      "60000/60000 [==============================] - 6s 102us/sample - loss: 0.0722 - acc: 0.9780\n",
      "Epoch 3/5\n",
      "60000/60000 [==============================] - 6s 106us/sample - loss: 0.0523 - acc: 0.9843\n",
      "Epoch 4/5\n",
      "60000/60000 [==============================] - 6s 104us/sample - loss: 0.0415 - acc: 0.9876\n",
      "Epoch 5/5\n",
      "60000/60000 [==============================] - 6s 98us/sample - loss: 0.0351 - acc: 0.9892\n",
      "10000/10000 [==============================] - 1s 102us/sample - loss: 0.0236 - acc: 0.9923\n",
      "Fim do Treino i = 1 \n",
      "\n",
      "Inicio do Treino i = 2\n",
      "Epoch 1/5\n",
      "60000/60000 [==============================] - 6s 107us/sample - loss: 0.2999 - acc: 0.9055\n",
      "Epoch 2/5\n",
      "60000/60000 [==============================] - 6s 101us/sample - loss: 0.0817 - acc: 0.9765\n",
      "Epoch 3/5\n",
      "60000/60000 [==============================] - 6s 99us/sample - loss: 0.0562 - acc: 0.9835\n",
      "Epoch 4/5\n",
      "60000/60000 [==============================] - 6s 102us/sample - loss: 0.0445 - acc: 0.9869\n",
      "Epoch 5/5\n",
      "60000/60000 [==============================] - 6s 104us/sample - loss: 0.0356 - acc: 0.9896\n",
      "10000/10000 [==============================] - 1s 109us/sample - loss: 0.0198 - acc: 0.9933\n",
      "Fim do Treino i = 2 \n",
      "\n",
      "Inicio do Treino i = 3\n",
      "Epoch 1/5\n",
      "60000/60000 [==============================] - 5s 77us/sample - loss: 0.4812 - acc: 0.8388\n",
      "Epoch 2/5\n",
      "60000/60000 [==============================] - 4s 72us/sample - loss: 0.1111 - acc: 0.9672\n",
      "Epoch 3/5\n",
      "60000/60000 [==============================] - 4s 72us/sample - loss: 0.0818 - acc: 0.9756\n",
      "Epoch 4/5\n",
      "60000/60000 [==============================] - 4s 72us/sample - loss: 0.0667 - acc: 0.9800\n",
      "Epoch 5/5\n",
      "60000/60000 [==============================] - 4s 69us/sample - loss: 0.0533 - acc: 0.9843\n",
      "10000/10000 [==============================] - 1s 93us/sample - loss: 0.0263 - acc: 0.9920\n",
      "Fim do Treino i = 3 \n",
      "\n"
     ]
    }
   ],
   "source": [
    "testes = 4\n",
    "model = [0]*testes\n",
    "m = {}\n",
    "hist_all={}\n",
    "\n",
    "for i in range(testes):\n",
    "    if i ==  0:\n",
    "        print('Inicio do Treino i = %d' %(i))\n",
    "        model[i] = tf.keras.models.Sequential()\n",
    "        model[i].add(tf.keras.layers.Conv2D(32, kernel_size=(3, 3), activation='relu', input_shape=(28, 28, 1)))\n",
    "        model[i].add(tf.keras.layers.Conv2D(32, (3, 3), activation='relu'))\n",
    "        model[i].add(tf.keras.layers.MaxPooling2D(pool_size=(2, 2)))\n",
    "        model[i].add(tf.keras.layers.Conv2D(64, kernel_size=(3, 3), activation='relu', input_shape=(28, 28, 1)))\n",
    "        model[i].add(tf.keras.layers.Conv2D(64, (3, 3), activation='relu'))\n",
    "        model[i].add(tf.keras.layers.MaxPooling2D(pool_size=(2, 2)))\n",
    "        \n",
    "        model[i].add(tf.keras.layers.Dropout(0.25))\n",
    "        model[i].add(tf.keras.layers.Flatten())\n",
    "        model[i].add(tf.keras.layers.Dense(128, activation='relu'))\n",
    "        model[i].add(tf.keras.layers.Dropout(0.5))\n",
    "        model[i].add(tf.keras.layers.Dense(10, activation='softmax'))\n",
    "\n",
    "        model[i].compile(optimizer='adam',\n",
    "        loss='sparse_categorical_crossentropy',\n",
    "        metrics=['accuracy'])\n",
    "\n",
    "        hist_all[i] = model[i].fit(x_train, y_train, epochs=5, batch_size = 256)\n",
    "        m[i] = model[i].evaluate(x_test, y_test)\n",
    "        print('Fim do Treino i = %d \\n' %(i))\n",
    "    if i ==  1:\n",
    "        print('Inicio do Treino i = %d' %(i))\n",
    "        model[i] = tf.keras.models.Sequential()\n",
    "        model[i].add(tf.keras.layers.Conv2D(32, kernel_size=(3, 3), activation='relu', input_shape=(28, 28, 1)))\n",
    "        model[i].add(tf.keras.layers.Conv2D(64, (3, 3), activation='relu'))\n",
    "        model[i].add(tf.keras.layers.MaxPooling2D(pool_size=(2, 2)))\n",
    "        model[i].add(tf.keras.layers.Conv2D(128, (3, 3), activation='relu'))\n",
    "        \n",
    "        model[i].add(tf.keras.layers.Dropout(0.25))\n",
    "        model[i].add(tf.keras.layers.Flatten())\n",
    "        model[i].add(tf.keras.layers.Dense(128, activation='relu'))\n",
    "        model[i].add(tf.keras.layers.Dropout(0.5))\n",
    "        model[i].add(tf.keras.layers.Dense(10, activation='softmax'))\n",
    "\n",
    "        model[i].compile(optimizer='adam',\n",
    "        loss='sparse_categorical_crossentropy',\n",
    "        metrics=['accuracy'])\n",
    "\n",
    "        hist_all[i] = model[i].fit(x_train, y_train, epochs=5, batch_size = 256)\n",
    "        m[i] = model[i].evaluate(x_test, y_test)\n",
    "        print('Fim do Treino i = %d \\n' %(i))\n",
    "        \n",
    "    if i ==  2:\n",
    "        print('Inicio do Treino i = %d' %(i))\n",
    "        model[i] = tf.keras.models.Sequential()\n",
    "        model[i].add(tf.keras.layers.Conv2D(32, kernel_size=(3, 3), activation='relu', input_shape=(28, 28, 1)))\n",
    "        model[i].add(tf.keras.layers.Conv2D(64, (3, 3), activation='relu'))\n",
    "        model[i].add(tf.keras.layers.MaxPooling2D(pool_size=(2, 2)))\n",
    "        model[i].add(tf.keras.layers.Conv2D(128, (3, 3), activation='relu'))\n",
    "        model[i].add(tf.keras.layers.Conv2D(128, (3, 3), activation='relu'))\n",
    "        model[i].add(tf.keras.layers.MaxPooling2D(pool_size=(2, 2)))\n",
    "        model[i].add(tf.keras.layers.Dropout(0.25))\n",
    "        model[i].add(tf.keras.layers.Flatten())\n",
    "        model[i].add(tf.keras.layers.Dense(128, activation='relu'))\n",
    "        model[i].add(tf.keras.layers.Dropout(0.5))\n",
    "        model[i].add(tf.keras.layers.Dense(10, activation='softmax'))\n",
    "\n",
    "        model[i].compile(optimizer='adam',\n",
    "        loss='sparse_categorical_crossentropy',\n",
    "        metrics=['accuracy'])\n",
    "\n",
    "        hist_all[i] = model[i].fit(x_train, y_train, epochs=5, batch_size = 256)\n",
    "        m[i] = model[i].evaluate(x_test, y_test)\n",
    "        print('Fim do Treino i = %d \\n' %(i))\n",
    "    \n",
    "    if i ==  3:\n",
    "        print('Inicio do Treino i = %d' %(i))\n",
    "        model[i] = tf.keras.models.Sequential()\n",
    "        model[i].add(tf.keras.layers.Conv2D(32, kernel_size=(3, 3), activation='relu', input_shape=(28, 28, 1)))\n",
    "        model[i].add(tf.keras.layers.Conv2D(32, (3, 3), activation='relu'))\n",
    "        model[i].add(tf.keras.layers.MaxPooling2D(pool_size=(2, 2)))\n",
    "        model[i].add(tf.keras.layers.Conv2D(64, kernel_size=(3, 3), activation='relu', input_shape=(28, 28, 1)))\n",
    "        model[i].add(tf.keras.layers.Conv2D(64, (3, 3), activation='relu'))\n",
    "        model[i].add(tf.keras.layers.MaxPooling2D(pool_size=(2, 2)))\n",
    "        model[i].add(tf.keras.layers.Conv2D(128, (1, 1), activation='relu'))\n",
    "        model[i].add(tf.keras.layers.Conv2D(128, (1, 1), activation='relu'))\n",
    "        model[i].add(tf.keras.layers.MaxPooling2D(pool_size=(2, 2)))\n",
    "        model[i].add(tf.keras.layers.Dropout(0.25))\n",
    "        model[i].add(tf.keras.layers.Flatten())\n",
    "        model[i].add(tf.keras.layers.Dense(128, activation='relu'))\n",
    "        model[i].add(tf.keras.layers.Dropout(0.5))\n",
    "        model[i].add(tf.keras.layers.Dense(10, activation='softmax'))\n",
    "\n",
    "        model[i].compile(optimizer='adam',\n",
    "        loss='sparse_categorical_crossentropy',\n",
    "        metrics=['accuracy'])\n",
    "\n",
    "        hist_all[i] = model[i].fit(x_train, y_train, epochs=5, batch_size = 256)\n",
    "        m[i] = model[i].evaluate(x_test, y_test)\n",
    "        print('Fim do Treino i = %d \\n' %(i))"
   ]
  },
  {
   "cell_type": "code",
   "execution_count": 16,
   "metadata": {},
   "outputs": [
    {
     "data": {
      "image/png": "[encoded data removed]",
      "text/plain": [
       "<Figure size 432x288 with 1 Axes>"
      ]
     },
     "metadata": {
      "needs_background": "light"
     },
     "output_type": "display_data"
    },
    {
     "name": "stdout",
     "output_type": "stream",
     "text": [
      "Model: 0 Treino: 0.983517 Teste: 0.993100\n",
      "Model: 1 Treino: 0.987550 Teste: 0.992300\n",
      "Model: 2 Treino: 0.986867 Teste: 0.993300\n",
      "Model: 3 Treino: 0.979983 Teste: 0.992000\n"
     ]
    }
   ],
   "source": [
    "for i in range(len(model)):\n",
    "    plt.plot(hist_all[i].history['acc'])\n",
    "plt.title('model accuracy')\n",
    "plt.ylabel('accuracy')\n",
    "plt.xlabel('epoch')\n",
    "name = ['model 0','model 1','model 2','model 3']\n",
    "plt.legend(name, loc='best')\n",
    "plt.show()\n",
    "\n",
    "for i in range(len(model)):\n",
    "    print('Model: %d Treino: %f Teste: %f' %(i, hist_all[i].history['acc'][testes -1], m[i][1]))"
   ]
  },
  {
   "cell_type": "markdown",
   "metadata": {},
   "source": [
    "De acordo com os resultados, o Modelo 2 teve o melhor desempenho."
   ]
  },
  {
   "cell_type": "markdown",
   "metadata": {},
   "source": [
    "## Experimento 2"
   ]
  },
  {
   "cell_type": "markdown",
   "metadata": {},
   "source": [
    "Nesta etapa irei avaliar a influencia dos filtros das camadas convolucionais."
   ]
  },
  {
   "cell_type": "code",
   "execution_count": 20,
   "metadata": {
    "scrolled": false
   },
   "outputs": [
    {
     "name": "stdout",
     "output_type": "stream",
     "text": [
      "Inicio do Treino i = 0\n",
      "Epoch 1/5\n",
      "60000/60000 [==============================] - 3s 46us/sample - loss: 0.4701 - acc: 0.8490\n",
      "Epoch 2/5\n",
      "60000/60000 [==============================] - 2s 40us/sample - loss: 0.1315 - acc: 0.9606\n",
      "Epoch 3/5\n",
      "60000/60000 [==============================] - 2s 39us/sample - loss: 0.1009 - acc: 0.9693\n",
      "Epoch 4/5\n",
      "60000/60000 [==============================] - 2s 39us/sample - loss: 0.0826 - acc: 0.9756\n",
      "Epoch 5/5\n",
      "60000/60000 [==============================] - 2s 39us/sample - loss: 0.0690 - acc: 0.9792\n",
      "10000/10000 [==============================] - 1s 81us/sample - loss: 0.0304 - acc: 0.9904\n",
      "Fim do Treino i = 0 \n",
      "\n",
      "Inicio do Treino i = 1\n",
      "Epoch 1/5\n",
      "60000/60000 [==============================] - 4s 65us/sample - loss: 0.3739 - acc: 0.8818\n",
      "Epoch 2/5\n",
      "60000/60000 [==============================] - 4s 62us/sample - loss: 0.1042 - acc: 0.9694\n",
      "Epoch 3/5\n",
      "60000/60000 [==============================] - 4s 58us/sample - loss: 0.0732 - acc: 0.9782\n",
      "Epoch 4/5\n",
      "60000/60000 [==============================] - 4s 59us/sample - loss: 0.0581 - acc: 0.9821\n",
      "Epoch 5/5\n",
      "60000/60000 [==============================] - 3s 56us/sample - loss: 0.0489 - acc: 0.9857\n",
      "10000/10000 [==============================] - 1s 110us/sample - loss: 0.0230 - acc: 0.9927\n",
      "Fim do Treino i = 1 \n",
      "\n",
      "Inicio do Treino i = 2\n",
      "Epoch 1/5\n",
      "60000/60000 [==============================] - 5s 88us/sample - loss: 0.3278 - acc: 0.8964\n",
      "Epoch 2/5\n",
      "60000/60000 [==============================] - 5s 83us/sample - loss: 0.0907 - acc: 0.9726\n",
      "Epoch 3/5\n",
      "60000/60000 [==============================] - 5s 83us/sample - loss: 0.0623 - acc: 0.9815\n",
      "Epoch 4/5\n",
      "60000/60000 [==============================] - 5s 83us/sample - loss: 0.0497 - acc: 0.9853\n",
      "Epoch 5/5\n",
      "60000/60000 [==============================] - 5s 83us/sample - loss: 0.0444 - acc: 0.98650s - loss: 0.0445 - acc: 0.9\n",
      "10000/10000 [==============================] - 1s 106us/sample - loss: 0.0194 - acc: 0.9940\n",
      "Fim do Treino i = 2 \n",
      "\n",
      "Inicio do Treino i = 3\n",
      "Epoch 1/5\n",
      "60000/60000 [==============================] - 6s 105us/sample - loss: 0.2874 - acc: 0.9081\n",
      "Epoch 2/5\n",
      "60000/60000 [==============================] - 6s 100us/sample - loss: 0.0801 - acc: 0.9767\n",
      "Epoch 3/5\n",
      "60000/60000 [==============================] - 6s 100us/sample - loss: 0.0548 - acc: 0.9841\n",
      "Epoch 4/5\n",
      "60000/60000 [==============================] - 6s 100us/sample - loss: 0.0452 - acc: 0.9865\n",
      "Epoch 5/5\n",
      "60000/60000 [==============================] - 6s 100us/sample - loss: 0.0383 - acc: 0.9888\n",
      "10000/10000 [==============================] - 1s 118us/sample - loss: 0.0208 - acc: 0.9936\n",
      "Fim do Treino i = 3 \n",
      "\n",
      "Inicio do Treino i = 4\n",
      "Epoch 1/5\n",
      "60000/60000 [==============================] - 9s 152us/sample - loss: 0.2668 - acc: 0.9151\n",
      "Epoch 2/5\n",
      "60000/60000 [==============================] - 9s 147us/sample - loss: 0.0721 - acc: 0.9779\n",
      "Epoch 3/5\n",
      "60000/60000 [==============================] - 9s 148us/sample - loss: 0.0529 - acc: 0.9848\n",
      "Epoch 4/5\n",
      "60000/60000 [==============================] - 9s 148us/sample - loss: 0.0405 - acc: 0.9882\n",
      "Epoch 5/5\n",
      "60000/60000 [==============================] - 9s 147us/sample - loss: 0.0362 - acc: 0.9890\n",
      "10000/10000 [==============================] - 1s 137us/sample - loss: 0.0215 - acc: 0.9932\n",
      "Fim do Treino i = 4 \n",
      "\n"
     ]
    }
   ],
   "source": [
    "testes = 5\n",
    "model = [0]*testes\n",
    "m = {}\n",
    "hist_all={}\n",
    "\n",
    "for i in range(testes):\n",
    "        print('Inicio do Treino i = %d' %(i))\n",
    "        model[i] = tf.keras.models.Sequential()\n",
    "        model[i].add(tf.keras.layers.Conv2D(8*i+8, kernel_size=(3, 3), activation='relu', input_shape=(28, 28, 1)))\n",
    "        model[i].add(tf.keras.layers.Conv2D(16*i+16, (3, 3), activation='relu'))\n",
    "        model[i].add(tf.keras.layers.MaxPooling2D(pool_size=(2, 2)))\n",
    "        model[i].add(tf.keras.layers.Conv2D(32*i+32, (3, 3), activation='relu'))\n",
    "        model[i].add(tf.keras.layers.Conv2D(32*i+32, (3, 3), activation='relu'))\n",
    "        model[i].add(tf.keras.layers.MaxPooling2D(pool_size=(2, 2)))\n",
    "        model[i].add(tf.keras.layers.Dropout(0.25))\n",
    "        model[i].add(tf.keras.layers.Flatten())\n",
    "        model[i].add(tf.keras.layers.Dense(128, activation='relu'))\n",
    "        model[i].add(tf.keras.layers.Dropout(0.5))\n",
    "        model[i].add(tf.keras.layers.Dense(10, activation='softmax'))\n",
    "\n",
    "        model[i].compile(optimizer='adam',\n",
    "        loss='sparse_categorical_crossentropy',\n",
    "        metrics=['accuracy'])\n",
    "\n",
    "        hist_all[i] = model[i].fit(x_train, y_train, epochs=5, batch_size = 256)\n",
    "        m[i] = model[i].evaluate(x_test, y_test)\n",
    "        print('Fim do Treino i = %d \\n' %(i))"
   ]
  },
  {
   "cell_type": "code",
   "execution_count": 22,
   "metadata": {},
   "outputs": [
    {
     "data": {
      "image/png": "[encoded data removed]",
      "text/plain": [
       "<Figure size 432x288 with 1 Axes>"
      ]
     },
     "metadata": {
      "needs_background": "light"
     },
     "output_type": "display_data"
    },
    {
     "name": "stdout",
     "output_type": "stream",
     "text": [
      "Model: 0 Treino: 0.979183 Teste: 0.990400\n",
      "Model: 1 Treino: 0.985650 Teste: 0.992700\n",
      "Model: 2 Treino: 0.986533 Teste: 0.994000\n",
      "Model: 3 Treino: 0.988833 Teste: 0.993600\n",
      "Model: 4 Treino: 0.989000 Teste: 0.993200\n"
     ]
    }
   ],
   "source": [
    "for i in range(len(model)):\n",
    "    plt.plot(hist_all[i].history['acc'])\n",
    "plt.title('model accuracy')\n",
    "plt.ylabel('accuracy')\n",
    "plt.xlabel('epoch')\n",
    "name = ['model 0','model 1','model 2','model 3','model 4']\n",
    "plt.legend(name, loc='best')\n",
    "plt.show()\n",
    "\n",
    "for i in range(len(model)):\n",
    "    print('Model: %d Treino: %f Teste: %f' %(i, hist_all[i].history['acc'][testes -1], m[i][1]))"
   ]
  },
  {
   "cell_type": "markdown",
   "metadata": {},
   "source": [
    "De acordo com o experimento, mais filtros das camadas convolucionais geram melhores resultado. Entretanto, com o aumento desses valores o tempo de treinamento demora mais.\n",
    "Dessa forma, foi escolhido o Modelo 2 para seguir adiante, uma vez que obteve a  melhor precisão com um tempo satisfatório."
   ]
  },
  {
   "cell_type": "markdown",
   "metadata": {},
   "source": [
    "## Implementação da Questão 3\n",
    "\n",
    "Antes de continuarmos a mudança de arquitetura da CNN, irei implementar a etapa de classificação definida pela Questão 3."
   ]
  },
  {
   "cell_type": "code",
   "execution_count": 26,
   "metadata": {},
   "outputs": [
    {
     "name": "stdout",
     "output_type": "stream",
     "text": [
      "Epoch 1/5\n",
      "60000/60000 [==============================] - 6s 101us/sample - loss: 0.1225 - acc: 0.9626\n",
      "Epoch 2/5\n",
      "60000/60000 [==============================] - 5s 90us/sample - loss: 0.0402 - acc: 0.9879\n",
      "Epoch 3/5\n",
      "60000/60000 [==============================] - 5s 90us/sample - loss: 0.0302 - acc: 0.9906\n",
      "Epoch 4/5\n",
      "60000/60000 [==============================] - 5s 90us/sample - loss: 0.0220 - acc: 0.9934\n",
      "Epoch 5/5\n",
      "60000/60000 [==============================] - 5s 91us/sample - loss: 0.0188 - acc: 0.9938\n",
      "10000/10000 [==============================] - 1s 140us/sample - loss: 0.0202 - acc: 0.9933\n"
     ]
    },
    {
     "data": {
      "text/plain": [
       "[0.02021808194388868, 0.9933]"
      ]
     },
     "execution_count": 26,
     "metadata": {},
     "output_type": "execute_result"
    }
   ],
   "source": [
    "model = tf.keras.models.Sequential()\n",
    "model.add(tf.keras.layers.Conv2D(24, kernel_size=(3, 3), activation='relu', input_shape=(28, 28, 1)))\n",
    "model.add(tf.keras.layers.Conv2D(48, (3, 3), activation='relu'))\n",
    "model.add(tf.keras.layers.MaxPooling2D(pool_size=(2, 2)))\n",
    "model.add(tf.keras.layers.Conv2D(96, (3, 3), activation='relu'))\n",
    "model.add(tf.keras.layers.Conv2D(96, (3, 3), activation='relu'))\n",
    "model.add(tf.keras.layers.MaxPooling2D(pool_size=(2, 2)))\n",
    "model.add(tf.keras.layers.Dropout(0.25))\n",
    "model.add(tf.keras.layers.Flatten())\n",
    "model.add(tf.keras.layers.Dense(1024, activation=tf.nn.relu))\n",
    "model.add(tf.keras.layers.Dense(128, activation=tf.nn.relu))\n",
    "model.add(tf.keras.layers.BatchNormalization())\n",
    "model.add(tf.keras.layers.Dropout(0.2))\n",
    "model.add(tf.keras.layers.Dense(10, activation=tf.nn.softmax))\n",
    "\n",
    "model.compile(optimizer='adam',\n",
    "loss='sparse_categorical_crossentropy',\n",
    "metrics=['accuracy'])\n",
    "\n",
    "hist = model.fit(x_train, y_train, epochs=5, batch_size = 256)\n",
    "model.evaluate(x_test, y_test)\n"
   ]
  },
  {
   "cell_type": "code",
   "execution_count": null,
   "metadata": {},
   "outputs": [],
   "source": []
  },
  {
   "cell_type": "markdown",
   "metadata": {},
   "source": [
    "## Experimento 3"
   ]
  },
  {
   "cell_type": "markdown",
   "metadata": {},
   "source": [
    "Observaremos nessa etapa a quantidade de Dropout entre as camadas convolucionais que gere um melhor resultado"
   ]
  },
  {
   "cell_type": "code",
   "execution_count": 28,
   "metadata": {},
   "outputs": [
    {
     "name": "stdout",
     "output_type": "stream",
     "text": [
      "Inicio do Treino i = 0\n",
      "Epoch 1/5\n",
      "60000/60000 [==============================] - 6s 99us/sample - loss: 0.1208 - acc: 0.9656\n",
      "Epoch 2/5\n",
      "60000/60000 [==============================] - 5s 91us/sample - loss: 0.0373 - acc: 0.9891\n",
      "Epoch 3/5\n",
      "60000/60000 [==============================] - 5s 91us/sample - loss: 0.0247 - acc: 0.9929\n",
      "Epoch 4/5\n",
      "60000/60000 [==============================] - 5s 91us/sample - loss: 0.0185 - acc: 0.9942\n",
      "Epoch 5/5\n",
      "60000/60000 [==============================] - 5s 91us/sample - loss: 0.0139 - acc: 0.9957\n",
      "10000/10000 [==============================] - 1s 133us/sample - loss: 0.0374 - acc: 0.9884\n",
      "Fim do Treino i = 0 \n",
      "\n",
      "Inicio do Treino i = 1\n",
      "Epoch 1/5\n",
      "60000/60000 [==============================] - 6s 105us/sample - loss: 0.1291 - acc: 0.9617\n",
      "Epoch 2/5\n",
      "60000/60000 [==============================] - 6s 96us/sample - loss: 0.0383 - acc: 0.9885\n",
      "Epoch 3/5\n",
      "60000/60000 [==============================] - 6s 97us/sample - loss: 0.0270 - acc: 0.9919\n",
      "Epoch 4/5\n",
      "60000/60000 [==============================] - 6s 97us/sample - loss: 0.0220 - acc: 0.9931\n",
      "Epoch 5/5\n",
      "60000/60000 [==============================] - 6s 97us/sample - loss: 0.0174 - acc: 0.99461s - loss: 0.0 - ETA: 0s - loss: 0.0170 - ac\n",
      "10000/10000 [==============================] - 1s 138us/sample - loss: 0.0371 - acc: 0.9884\n",
      "Fim do Treino i = 1 \n",
      "\n",
      "Inicio do Treino i = 2\n",
      "Epoch 1/5\n",
      "60000/60000 [==============================] - 6s 105us/sample - loss: 0.1392 - acc: 0.9579\n",
      "Epoch 2/5\n",
      "60000/60000 [==============================] - 6s 97us/sample - loss: 0.0431 - acc: 0.9872\n",
      "Epoch 3/5\n",
      "60000/60000 [==============================] - 6s 96us/sample - loss: 0.0322 - acc: 0.9898\n",
      "Epoch 4/5\n",
      "60000/60000 [==============================] - 6s 97us/sample - loss: 0.0239 - acc: 0.9930\n",
      "Epoch 5/5\n",
      "60000/60000 [==============================] - ETA: 0s - loss: 0.0210 - acc: 0.993 - 6s 97us/sample - loss: 0.0211 - acc: 0.9936\n",
      "10000/10000 [==============================] - 1s 140us/sample - loss: 0.0230 - acc: 0.9927\n",
      "Fim do Treino i = 2 \n",
      "\n",
      "Inicio do Treino i = 3\n",
      "Epoch 1/5\n",
      "60000/60000 [==============================] - 6s 107us/sample - loss: 0.1656 - acc: 0.9508\n",
      "Epoch 2/5\n",
      "60000/60000 [==============================] - 6s 98us/sample - loss: 0.0485 - acc: 0.9855\n",
      "Epoch 3/5\n",
      "60000/60000 [==============================] - 6s 97us/sample - loss: 0.0378 - acc: 0.9883\n",
      "Epoch 4/5\n",
      "60000/60000 [==============================] - 6s 99us/sample - loss: 0.0302 - acc: 0.9901\n",
      "Epoch 5/5\n",
      "60000/60000 [==============================] - 6s 98us/sample - loss: 0.0253 - acc: 0.9921\n",
      "10000/10000 [==============================] - 1s 147us/sample - loss: 0.0208 - acc: 0.9936\n",
      "Fim do Treino i = 3 \n",
      "\n",
      "Inicio do Treino i = 4\n",
      "Epoch 1/5\n",
      "60000/60000 [==============================] - 6s 107us/sample - loss: 0.1964 - acc: 0.9395\n",
      "Epoch 2/5\n",
      "60000/60000 [==============================] - 6s 98us/sample - loss: 0.0572 - acc: 0.9826\n",
      "Epoch 3/5\n",
      "60000/60000 [==============================] - 6s 99us/sample - loss: 0.0428 - acc: 0.9865\n",
      "Epoch 4/5\n",
      "60000/60000 [==============================] - 6s 98us/sample - loss: 0.0367 - acc: 0.9888\n",
      "Epoch 5/5\n",
      "60000/60000 [==============================] - 6s 98us/sample - loss: 0.0325 - acc: 0.9898\n",
      "10000/10000 [==============================] - 1s 146us/sample - loss: 0.0194 - acc: 0.9937\n",
      "Fim do Treino i = 4 \n",
      "\n",
      "Inicio do Treino i = 5\n",
      "Epoch 1/5\n",
      "60000/60000 [==============================] - 6s 106us/sample - loss: 0.2430 - acc: 0.9254\n",
      "Epoch 2/5\n",
      "60000/60000 [==============================] - 6s 97us/sample - loss: 0.0666 - acc: 0.9798\n",
      "Epoch 3/5\n",
      "60000/60000 [==============================] - 6s 96us/sample - loss: 0.0516 - acc: 0.9841\n",
      "Epoch 4/5\n",
      "60000/60000 [==============================] - 6s 96us/sample - loss: 0.0446 - acc: 0.9860\n",
      "Epoch 5/5\n",
      "60000/60000 [==============================] - 6s 96us/sample - loss: 0.0379 - acc: 0.9884\n",
      "10000/10000 [==============================] - 1s 148us/sample - loss: 0.0291 - acc: 0.9896\n",
      "Fim do Treino i = 5 \n",
      "\n",
      "Inicio do Treino i = 6\n"
     ]
    },
    {
     "name": "stderr",
     "output_type": "stream",
     "text": [
      "W0501 15:55:05.979674 22464 nn_ops.py:4224] Large dropout rate: 0.6 (>0.5). In TensorFlow 2.x, dropout() uses dropout rate instead of keep_prob. Please ensure that this is intended.\n",
      "W0501 15:55:06.034527 22464 nn_ops.py:4224] Large dropout rate: 0.6 (>0.5). In TensorFlow 2.x, dropout() uses dropout rate instead of keep_prob. Please ensure that this is intended.\n"
     ]
    },
    {
     "name": "stdout",
     "output_type": "stream",
     "text": [
      "Epoch 1/5\n",
      "60000/60000 [==============================] - 6s 107us/sample - loss: 0.3032 - acc: 0.9068\n",
      "Epoch 2/5\n",
      "60000/60000 [==============================] - 6s 98us/sample - loss: 0.0872 - acc: 0.9735\n",
      "Epoch 3/5\n",
      "60000/60000 [==============================] - 6s 98us/sample - loss: 0.0682 - acc: 0.9785\n",
      "Epoch 4/5\n",
      "60000/60000 [==============================] - 6s 98us/sample - loss: 0.0558 - acc: 0.9834\n",
      "Epoch 5/5\n",
      "60000/60000 [==============================] - 6s 99us/sample - loss: 0.0473 - acc: 0.9855\n",
      "10000/10000 [==============================] - 2s 152us/sample - loss: 0.0295 - acc: 0.9906\n",
      "Fim do Treino i = 6 \n",
      "\n"
     ]
    }
   ],
   "source": [
    "testes = 7\n",
    "model = [0]*testes\n",
    "m = {}\n",
    "hist_all={}\n",
    "\n",
    "for i in range(testes):\n",
    "    print('Inicio do Treino i = %d' %(i))\n",
    "    model[i] = tf.keras.models.Sequential()\n",
    "    model[i].add(tf.keras.layers.Conv2D(24, kernel_size=(3, 3), activation='relu', input_shape=(28, 28, 1)))\n",
    "    model[i].add(tf.keras.layers.Conv2D(48, (3, 3), activation='relu'))\n",
    "    model[i].add(tf.keras.layers.MaxPooling2D(pool_size=(2, 2)))\n",
    "    model[i].add(tf.keras.layers.Dropout(0.1*i))\n",
    "    model[i].add(tf.keras.layers.Conv2D(96, (3, 3), activation='relu'))\n",
    "    model[i].add(tf.keras.layers.Conv2D(96, (3, 3), activation='relu'))\n",
    "    model[i].add(tf.keras.layers.MaxPooling2D(pool_size=(2, 2)))\n",
    "    model[i].add(tf.keras.layers.Dropout(0.1*i))\n",
    "    model[i].add(tf.keras.layers.Flatten())\n",
    "    model[i].add(tf.keras.layers.Dense(1024, activation=tf.nn.relu))\n",
    "    model[i].add(tf.keras.layers.Dense(128, activation=tf.nn.relu))\n",
    "    model[i].add(tf.keras.layers.BatchNormalization())\n",
    "    model[i].add(tf.keras.layers.Dropout(0.2))\n",
    "    model[i].add(tf.keras.layers.Dense(10, activation=tf.nn.softmax))\n",
    "\n",
    "    model[i].compile(optimizer='adam',\n",
    "    loss='sparse_categorical_crossentropy',\n",
    "    metrics=['accuracy'])\n",
    "\n",
    "    hist_all[i] = model[i].fit(x_train, y_train, epochs=5, batch_size = 256)\n",
    "    m[i] = model[i].evaluate(x_test, y_test)\n",
    "    print('Fim do Treino i = %d \\n' %(i))"
   ]
  },
  {
   "cell_type": "code",
   "execution_count": 29,
   "metadata": {
    "scrolled": false
   },
   "outputs": [
    {
     "data": {
      "image/png": "[encoded data removed]",
      "text/plain": [
       "<Figure size 432x288 with 1 Axes>"
      ]
     },
     "metadata": {
      "needs_background": "light"
     },
     "output_type": "display_data"
    },
    {
     "name": "stdout",
     "output_type": "stream",
     "text": [
      "Model(0.0): 0 Treino: 0.995733 Teste: 0.988400\n",
      "Model(0.1): 1 Treino: 0.994617 Teste: 0.988400\n",
      "Model(0.2): 2 Treino: 0.993583 Teste: 0.992700\n",
      "Model(0.3): 3 Treino: 0.992067 Teste: 0.993600\n",
      "Model(0.4): 4 Treino: 0.989750 Teste: 0.993700\n",
      "Model(0.5): 5 Treino: 0.988417 Teste: 0.989600\n",
      "Model(0.6): 6 Treino: 0.985467 Teste: 0.990600\n"
     ]
    }
   ],
   "source": [
    "for i in range(len(model)):\n",
    "    plt.plot(hist_all[i].history['acc'])\n",
    "plt.title('model accuracy')\n",
    "plt.ylabel('accuracy')\n",
    "plt.xlabel('epoch')\n",
    "plt.legend(['0.0','0.1','0.2','0.3','0.4','0.5','0.6'], loc='best')\n",
    "plt.show()\n",
    "for i in range(len(model)):\n",
    "    print('Model(0.%d): %d Treino: %f Teste: %f' %(i,i, hist_all[i].history['acc'][4],m[i][1]))"
   ]
  },
  {
   "cell_type": "markdown",
   "metadata": {},
   "source": [
    "## Experimento 4\n",
    "Irei implementar o Batch Normalization e aumentar  o treino para 10 epochs e observar a influencia do Batch Normalization, junto ou sem o Dropout.\n"
   ]
  },
  {
   "cell_type": "code",
   "execution_count": 36,
   "metadata": {},
   "outputs": [
    {
     "name": "stdout",
     "output_type": "stream",
     "text": [
      "Inicio do Treino i = 0\n",
      "Epoch 1/15\n",
      "60000/60000 [==============================] - 7s 113us/sample - loss: 0.2084 - acc: 0.9357\n",
      "Epoch 2/15\n",
      "60000/60000 [==============================] - 6s 102us/sample - loss: 0.0614 - acc: 0.9818\n",
      "Epoch 3/15\n",
      "60000/60000 [==============================] - 6s 102us/sample - loss: 0.0455 - acc: 0.9856\n",
      "Epoch 4/15\n",
      "60000/60000 [==============================] - 6s 102us/sample - loss: 0.0351 - acc: 0.9894\n",
      "Epoch 5/15\n",
      "60000/60000 [==============================] - 6s 102us/sample - loss: 0.0314 - acc: 0.9900\n",
      "Epoch 6/15\n",
      "60000/60000 [==============================] - 6s 102us/sample - loss: 0.0293 - acc: 0.9912\n",
      "Epoch 7/15\n",
      "60000/60000 [==============================] - 6s 102us/sample - loss: 0.0240 - acc: 0.9926\n",
      "Epoch 8/15\n",
      "60000/60000 [==============================] - 6s 102us/sample - loss: 0.0226 - acc: 0.9932\n",
      "Epoch 9/15\n",
      "60000/60000 [==============================] - 6s 102us/sample - loss: 0.0193 - acc: 0.9938\n",
      "Epoch 10/15\n",
      "60000/60000 [==============================] - 6s 102us/sample - loss: 0.0199 - acc: 0.9937\n",
      "Epoch 11/15\n",
      "60000/60000 [==============================] - 6s 102us/sample - loss: 0.0171 - acc: 0.9945\n",
      "Epoch 12/15\n",
      "60000/60000 [==============================] - 6s 102us/sample - loss: 0.0157 - acc: 0.9953\n",
      "Epoch 13/15\n",
      "60000/60000 [==============================] - 6s 102us/sample - loss: 0.0161 - acc: 0.9947\n",
      "Epoch 14/15\n",
      "60000/60000 [==============================] - 6s 102us/sample - loss: 0.0122 - acc: 0.9962\n",
      "Epoch 15/15\n",
      "60000/60000 [==============================] - 6s 102us/sample - loss: 0.0139 - acc: 0.9956\n",
      "10000/10000 [==============================] - 2s 184us/sample - loss: 0.0183 - acc: 0.9948\n",
      "Fim do Treino i = 0 \n",
      "\n",
      "Inicio do Treino i = 1\n",
      "Epoch 1/15\n",
      "60000/60000 [==============================] - 7s 123us/sample - loss: 0.1560 - acc: 0.9526\n",
      "Epoch 2/15\n",
      "60000/60000 [==============================] - 7s 110us/sample - loss: 0.0519 - acc: 0.9846\n",
      "Epoch 3/15\n",
      "60000/60000 [==============================] - 7s 110us/sample - loss: 0.0391 - acc: 0.9874\n",
      "Epoch 4/15\n",
      "60000/60000 [==============================] - 7s 110us/sample - loss: 0.0325 - acc: 0.9900\n",
      "Epoch 5/15\n",
      "60000/60000 [==============================] - 7s 110us/sample - loss: 0.0279 - acc: 0.9913\n",
      "Epoch 6/15\n",
      "60000/60000 [==============================] - 7s 110us/sample - loss: 0.0236 - acc: 0.9926\n",
      "Epoch 7/15\n",
      "60000/60000 [==============================] - 7s 110us/sample - loss: 0.0198 - acc: 0.9939\n",
      "Epoch 8/15\n",
      "60000/60000 [==============================] - 7s 110us/sample - loss: 0.0183 - acc: 0.9943\n",
      "Epoch 9/15\n",
      "60000/60000 [==============================] - 7s 110us/sample - loss: 0.0165 - acc: 0.9949\n",
      "Epoch 10/15\n",
      "60000/60000 [==============================] - 7s 110us/sample - loss: 0.0156 - acc: 0.9952\n",
      "Epoch 11/15\n",
      "60000/60000 [==============================] - 7s 110us/sample - loss: 0.0142 - acc: 0.9952\n",
      "Epoch 12/15\n",
      "60000/60000 [==============================] - 7s 111us/sample - loss: 0.0141 - acc: 0.9951\n",
      "Epoch 13/15\n",
      "60000/60000 [==============================] - 7s 110us/sample - loss: 0.0134 - acc: 0.9956\n",
      "Epoch 14/15\n",
      "60000/60000 [==============================] - 7s 113us/sample - loss: 0.0121 - acc: 0.9960\n",
      "Epoch 15/15\n",
      "60000/60000 [==============================] - 7s 111us/sample - loss: 0.0141 - acc: 0.9955\n",
      "10000/10000 [==============================] - 2s 201us/sample - loss: 0.0216 - acc: 0.9938\n",
      "Fim do Treino i = 1 \n",
      "\n",
      "Inicio do Treino i = 2\n",
      "Epoch 1/15\n",
      "60000/60000 [==============================] - 7s 119us/sample - loss: 0.0998 - acc: 0.9696\n",
      "Epoch 2/15\n",
      "60000/60000 [==============================] - 6s 104us/sample - loss: 0.0305 - acc: 0.9902\n",
      "Epoch 3/15\n",
      "60000/60000 [==============================] - 6s 104us/sample - loss: 0.0203 - acc: 0.9937\n",
      "Epoch 4/15\n",
      "60000/60000 [==============================] - 6s 104us/sample - loss: 0.0135 - acc: 0.9956\n",
      "Epoch 5/15\n",
      "60000/60000 [==============================] - 6s 104us/sample - loss: 0.0111 - acc: 0.9966\n",
      "Epoch 6/15\n",
      "60000/60000 [==============================] - 6s 104us/sample - loss: 0.0078 - acc: 0.9977\n",
      "Epoch 7/15\n",
      "60000/60000 [==============================] - 6s 104us/sample - loss: 0.0094 - acc: 0.9968\n",
      "Epoch 8/15\n",
      "60000/60000 [==============================] - 6s 104us/sample - loss: 0.0066 - acc: 0.9981\n",
      "Epoch 9/15\n",
      "60000/60000 [==============================] - 6s 104us/sample - loss: 0.0050 - acc: 0.9983\n",
      "Epoch 10/15\n",
      "60000/60000 [==============================] - 6s 104us/sample - loss: 0.0075 - acc: 0.9977\n",
      "Epoch 11/15\n",
      "60000/60000 [==============================] - 6s 104us/sample - loss: 0.0068 - acc: 0.9979\n",
      "Epoch 12/15\n",
      "60000/60000 [==============================] - 6s 104us/sample - loss: 0.0065 - acc: 0.9979\n",
      "Epoch 13/15\n",
      "60000/60000 [==============================] - 6s 104us/sample - loss: 0.0047 - acc: 0.9986\n",
      "Epoch 14/15\n",
      "60000/60000 [==============================] - 6s 105us/sample - loss: 0.0041 - acc: 0.9987\n",
      "Epoch 15/15\n",
      "60000/60000 [==============================] - 6s 105us/sample - loss: 0.0035 - acc: 0.9989\n",
      "10000/10000 [==============================] - 2s 203us/sample - loss: 0.0302 - acc: 0.9930\n",
      "Fim do Treino i = 2 \n",
      "\n"
     ]
    }
   ],
   "source": [
    "testes = 3\n",
    "model = [0]*testes\n",
    "m = {}\n",
    "hist_all={}\n",
    "\n",
    "for i in range(testes):\n",
    "    if i==0:\n",
    "        print('Inicio do Treino i = %d' %(i))\n",
    "        model[i] = tf.keras.models.Sequential()\n",
    "        model[i].add(tf.keras.layers.Conv2D(24, kernel_size=(3, 3), activation='relu', input_shape=(28, 28, 1)))\n",
    "        model[i].add(tf.keras.layers.Conv2D(48, (3, 3), activation='relu'))\n",
    "        model[i].add(tf.keras.layers.MaxPooling2D(pool_size=(2, 2)))\n",
    "        model[i].add(tf.keras.layers.Dropout(0.4))\n",
    "        model[i].add(tf.keras.layers.Conv2D(96, (3, 3), activation='relu'))\n",
    "        model[i].add(tf.keras.layers.Conv2D(96, (3, 3), activation='relu'))\n",
    "        model[i].add(tf.keras.layers.MaxPooling2D(pool_size=(2, 2)))\n",
    "        model[i].add(tf.keras.layers.Dropout(0.4))\n",
    "        model[i].add(tf.keras.layers.Flatten())\n",
    "        model[i].add(tf.keras.layers.Dense(1024, activation=tf.nn.relu))\n",
    "        model[i].add(tf.keras.layers.Dense(128, activation=tf.nn.relu))\n",
    "        model[i].add(tf.keras.layers.BatchNormalization())\n",
    "        model[i].add(tf.keras.layers.Dropout(0.2))\n",
    "        model[i].add(tf.keras.layers.Dense(10, activation=tf.nn.softmax))\n",
    "\n",
    "        model[i].compile(optimizer='adam',\n",
    "        loss='sparse_categorical_crossentropy',\n",
    "        metrics=['accuracy'])\n",
    "\n",
    "        hist_all[i] = model[i].fit(x_train, y_train, epochs=15, batch_size = 256)\n",
    "        m[i] = model[i].evaluate(x_test, y_test)\n",
    "        print('Fim do Treino i = %d \\n' %(i))\n",
    "    if i==1:\n",
    "        print('Inicio do Treino i = %d' %(i))\n",
    "        model[i] = tf.keras.models.Sequential()\n",
    "        model[i].add(tf.keras.layers.Conv2D(24, kernel_size=(3, 3), activation='relu', input_shape=(28, 28, 1)))\n",
    "        model[i].add(tf.keras.layers.Conv2D(48, (3, 3), activation='relu'))\n",
    "        model[i].add(tf.keras.layers.MaxPooling2D(pool_size=(2, 2)))\n",
    "        model[i].add(tf.keras.layers.BatchNormalization())\n",
    "        model[i].add(tf.keras.layers.Dropout(0.4))\n",
    "        model[i].add(tf.keras.layers.Conv2D(96, (3, 3), activation='relu'))\n",
    "        model[i].add(tf.keras.layers.Conv2D(96, (3, 3), activation='relu'))\n",
    "        model[i].add(tf.keras.layers.MaxPooling2D(pool_size=(2, 2)))\n",
    "        model[i].add(tf.keras.layers.BatchNormalization())\n",
    "        model[i].add(tf.keras.layers.Dropout(0.4))\n",
    "        model[i].add(tf.keras.layers.Flatten())\n",
    "        model[i].add(tf.keras.layers.Dense(1024, activation=tf.nn.relu))\n",
    "        model[i].add(tf.keras.layers.Dense(128, activation=tf.nn.relu))\n",
    "        model[i].add(tf.keras.layers.BatchNormalization())\n",
    "        model[i].add(tf.keras.layers.Dropout(0.2))\n",
    "        model[i].add(tf.keras.layers.Dense(10, activation=tf.nn.softmax))\n",
    "\n",
    "        model[i].compile(optimizer='adam',\n",
    "        loss='sparse_categorical_crossentropy',\n",
    "        metrics=['accuracy'])\n",
    "\n",
    "        hist_all[i] = model[i].fit(x_train, y_train, epochs=15, batch_size = 256)\n",
    "        m[i] = model[i].evaluate(x_test, y_test)\n",
    "        print('Fim do Treino i = %d \\n' %(i))\n",
    "    if i==2:\n",
    "        print('Inicio do Treino i = %d' %(i))\n",
    "        model[i] = tf.keras.models.Sequential()\n",
    "        model[i].add(tf.keras.layers.Conv2D(24, kernel_size=(3, 3), activation='relu', input_shape=(28, 28, 1)))\n",
    "        model[i].add(tf.keras.layers.Conv2D(48, (3, 3), activation='relu'))\n",
    "        model[i].add(tf.keras.layers.MaxPooling2D(pool_size=(2, 2)))\n",
    "        model[i].add(tf.keras.layers.BatchNormalization())\n",
    "        model[i].add(tf.keras.layers.Conv2D(96, (3, 3), activation='relu'))\n",
    "        model[i].add(tf.keras.layers.Conv2D(96, (3, 3), activation='relu'))\n",
    "        model[i].add(tf.keras.layers.MaxPooling2D(pool_size=(2, 2)))\n",
    "        model[i].add(tf.keras.layers.BatchNormalization())\n",
    "        model[i].add(tf.keras.layers.Flatten())\n",
    "        model[i].add(tf.keras.layers.Dense(1024, activation=tf.nn.relu))\n",
    "        model[i].add(tf.keras.layers.Dense(128, activation=tf.nn.relu))\n",
    "        model[i].add(tf.keras.layers.BatchNormalization())\n",
    "        model[i].add(tf.keras.layers.Dropout(0.2))\n",
    "        model[i].add(tf.keras.layers.Dense(10, activation=tf.nn.softmax))\n",
    "\n",
    "        model[i].compile(optimizer='adam',\n",
    "        loss='sparse_categorical_crossentropy',\n",
    "        metrics=['accuracy'])\n",
    "\n",
    "        hist_all[i] = model[i].fit(x_train, y_train, epochs=15, batch_size = 256)\n",
    "        m[i] = model[i].evaluate(x_test, y_test)\n",
    "        print('Fim do Treino i = %d \\n' %(i))"
   ]
  },
  {
   "cell_type": "code",
   "execution_count": 38,
   "metadata": {},
   "outputs": [
    {
     "data": {
      "image/png": "[encoded data removed]",
      "text/plain": [
       "<Figure size 432x288 with 1 Axes>"
      ]
     },
     "metadata": {
      "needs_background": "light"
     },
     "output_type": "display_data"
    },
    {
     "name": "stdout",
     "output_type": "stream",
     "text": [
      "Model(Dropout):\n",
      "Treino: 0.993650 Teste: 0.994800 \n",
      "\n",
      "Model(BN + Dropout):\n",
      "Treino: 0.995183 Teste: 0.993800 \n",
      "\n",
      "Model(BN):\n",
      "Treino: 0.997733 Teste: 0.993000 \n",
      "\n"
     ]
    }
   ],
   "source": [
    "for i in range(len(model)):\n",
    "    plt.plot(hist_all[i].history['acc'])\n",
    "plt.title('model accuracy')\n",
    "plt.ylabel('accuracy')\n",
    "plt.xlabel('epoch')\n",
    "name = ['Dropout','BN + Dropout','BN']\n",
    "plt.legend(name, loc='best')\n",
    "plt.show()\n",
    "\n",
    "for i in range(len(model)):\n",
    "    print('Model(%s):'%(name[i]))\n",
    "    print('Treino: %f Teste: %f \\n' %( hist_all[i].history['acc'][9], m[i][1]))"
   ]
  },
  {
   "cell_type": "markdown",
   "metadata": {},
   "source": [
    "Nesse experimento observamos que a utilização somente do Dropout entre as camadas connvolucionais resulta numa melhor performance."
   ]
  },
  {
   "cell_type": "markdown",
   "metadata": {},
   "source": [
    "## Finalização\n",
    "Para finalizar irei rodar a arquitetura com 20 epochs ( Igualmente feito na Questão 3)."
   ]
  },
  {
   "cell_type": "code",
   "execution_count": 3,
   "metadata": {},
   "outputs": [
    {
     "name": "stderr",
     "output_type": "stream",
     "text": [
      "WARNING: Logging before flag parsing goes to stderr.\n",
      "W0501 16:52:54.599804 16684 deprecation.py:506] From D:\\Anaconda3\\envs\\tf_gpu\\lib\\site-packages\\tensorflow\\python\\ops\\init_ops.py:1251: calling VarianceScaling.__init__ (from tensorflow.python.ops.init_ops) with dtype is deprecated and will be removed in a future version.\n",
      "Instructions for updating:\n",
      "Call initializer instance with the dtype argument instead of passing it to the constructor\n"
     ]
    },
    {
     "name": "stdout",
     "output_type": "stream",
     "text": [
      "Epoch 1/20\n",
      "60000/60000 [==============================] - 7s 114us/sample - loss: 0.1976 - acc: 0.9406\n",
      "Epoch 2/20\n",
      "60000/60000 [==============================] - 5s 90us/sample - loss: 0.0576 - acc: 0.9829\n",
      "Epoch 3/20\n",
      "60000/60000 [==============================] - 5s 88us/sample - loss: 0.0439 - acc: 0.9870\n",
      "Epoch 4/20\n",
      "60000/60000 [==============================] - 5s 88us/sample - loss: 0.0356 - acc: 0.9890\n",
      "Epoch 5/20\n",
      "60000/60000 [==============================] - 5s 89us/sample - loss: 0.0319 - acc: 0.9903\n",
      "Epoch 6/20\n",
      "60000/60000 [==============================] - 5s 89us/sample - loss: 0.0264 - acc: 0.9918\n",
      "Epoch 7/20\n",
      "60000/60000 [==============================] - 5s 89us/sample - loss: 0.0251 - acc: 0.9922\n",
      "Epoch 8/20\n",
      "60000/60000 [==============================] - 5s 89us/sample - loss: 0.0208 - acc: 0.9932\n",
      "Epoch 9/20\n",
      "60000/60000 [==============================] - 5s 89us/sample - loss: 0.0189 - acc: 0.9940\n",
      "Epoch 10/20\n",
      "60000/60000 [==============================] - 5s 89us/sample - loss: 0.0171 - acc: 0.9941\n",
      "Epoch 11/20\n",
      "60000/60000 [==============================] - 5s 89us/sample - loss: 0.0158 - acc: 0.9944\n",
      "Epoch 12/20\n",
      "60000/60000 [==============================] - 5s 89us/sample - loss: 0.0156 - acc: 0.9949\n",
      "Epoch 13/20\n",
      "60000/60000 [==============================] - 5s 89us/sample - loss: 0.0152 - acc: 0.9951\n",
      "Epoch 14/20\n",
      "60000/60000 [==============================] - 5s 89us/sample - loss: 0.0127 - acc: 0.9957\n",
      "Epoch 15/20\n",
      "60000/60000 [==============================] - 5s 89us/sample - loss: 0.0124 - acc: 0.9959\n",
      "Epoch 16/20\n",
      "60000/60000 [==============================] - 5s 90us/sample - loss: 0.0118 - acc: 0.9964\n",
      "Epoch 17/20\n",
      "60000/60000 [==============================] - 5s 89us/sample - loss: 0.0116 - acc: 0.9961\n",
      "Epoch 18/20\n",
      "60000/60000 [==============================] - 5s 89us/sample - loss: 0.0112 - acc: 0.9963\n",
      "Epoch 19/20\n",
      "60000/60000 [==============================] - 5s 89us/sample - loss: 0.0090 - acc: 0.9972\n",
      "Epoch 20/20\n",
      "60000/60000 [==============================] - 5s 89us/sample - loss: 0.0095 - acc: 0.99690s - loss: 0.0092 - ac\n",
      "Model saved to disk\n"
     ]
    },
    {
     "data": {
      "text/plain": [
       "'C:\\\\Users\\\\T-Gamer\\\\Dropbox\\\\Aulas Doc\\\\EFC2\\\\Q4'"
      ]
     },
     "execution_count": 3,
     "metadata": {},
     "output_type": "execute_result"
    }
   ],
   "source": [
    "model = tf.keras.models.Sequential()\n",
    "model.add(tf.keras.layers.Conv2D(24, kernel_size=(3, 3), activation='relu', input_shape=(28, 28, 1)))\n",
    "model.add(tf.keras.layers.Conv2D(48, (3, 3), activation='relu'))\n",
    "model.add(tf.keras.layers.MaxPooling2D(pool_size=(2, 2)))\n",
    "model.add(tf.keras.layers.Dropout(0.4))\n",
    "model.add(tf.keras.layers.Conv2D(96, (3, 3), activation='relu'))\n",
    "model.add(tf.keras.layers.Conv2D(96, (3, 3), activation='relu'))\n",
    "model.add(tf.keras.layers.MaxPooling2D(pool_size=(2, 2)))\n",
    "model.add(tf.keras.layers.Dropout(0.4))\n",
    "model.add(tf.keras.layers.Flatten())\n",
    "model.add(tf.keras.layers.Dense(1024, activation=tf.nn.relu))\n",
    "model.add(tf.keras.layers.Dense(128, activation=tf.nn.relu))\n",
    "model.add(tf.keras.layers.BatchNormalization())\n",
    "model.add(tf.keras.layers.Dropout(0.2))\n",
    "model.add(tf.keras.layers.Dense(10, activation=tf.nn.softmax))\n",
    "\n",
    "model.compile(optimizer='adam',\n",
    "loss='sparse_categorical_crossentropy',\n",
    "metrics=['accuracy'])\n",
    "\n",
    "hist = model.fit(x_train, y_train, epochs=20, batch_size = 256)\n",
    "\n",
    "model_json = model.to_json()\n",
    "json_file = open(\"model_CNN.json\", \"w\")\n",
    "json_file.write(model_json)\n",
    "json_file.close()\n",
    "model.save_weights(\"model_CNN.h5\")\n",
    "print(\"Model saved to disk\")\n",
    "os.getcwd()"
   ]
  },
  {
   "cell_type": "code",
   "execution_count": 4,
   "metadata": {},
   "outputs": [
    {
     "name": "stdout",
     "output_type": "stream",
     "text": [
      "10000/10000 [==============================] - 1s 75us/sample - loss: 0.0154 - acc: 0.9952\n",
      "loss: 0.015419354572380507\n",
      "acc: 0.995199978351593\n"
     ]
    }
   ],
   "source": [
    "mf = model.evaluate(x_test, y_test)\n",
    "\n",
    "for metric_i in range(len(model.metrics_names)):\n",
    "    metric_name = model.metrics_names[metric_i]\n",
    "    metric_value = mf[metric_i]\n",
    "    print('{}: {}'.format(metric_name, metric_value))  "
   ]
  },
  {
   "cell_type": "code",
   "execution_count": null,
   "metadata": {},
   "outputs": [],
   "source": []
  },
  {
   "cell_type": "code",
   "execution_count": null,
   "metadata": {},
   "outputs": [],
   "source": []
  },
  {
   "cell_type": "code",
   "execution_count": null,
   "metadata": {},
   "outputs": [],
   "source": []
  },
  {
   "cell_type": "code",
   "execution_count": null,
   "metadata": {},
   "outputs": [],
   "source": [
    "model_m = tf.keras.models.Sequential()\n",
    "\n",
    "# model_m.add(tf.keras.layers.Conv2D(64, kernel_size=(3, 3),activation='relu',input_shape=(28, 28, 1)))\n",
    "# model_m.add(tf.keras.layers.Conv2D(64, (3, 3), activation='relu'))\n",
    "\n",
    "# model_m.add(tf.keras.layers.MaxPooling2D(pool_size=(2, 2)))\n",
    "\n",
    "# model_m.add(tf.keras.layers.Conv2D(128, (3, 3), activation='relu'))\n",
    "# model_m.add(tf.keras.layers.Conv2D(128, (3, 3), activation='relu'))\n",
    "\n",
    "# model_m.add(tf.keras.layers.MaxPooling2D(pool_size=(2, 2)))\n",
    "\n",
    "# model_m.add(tf.keras.layers.Conv2D(256, (3, 3), activation='relu'))\n",
    "# model_m.add(tf.keras.layers.Conv2D(256, (3, 3), activation='relu'))\n",
    "# model_m.add(tf.keras.layers.Conv2D(256, (3, 3), activation='relu'))\n",
    "# model_m.add(tf.keras.layers.Conv2D(256, (3, 3), activation='relu'))\n",
    "\n",
    "# model_m.add(tf.keras.layers.MaxPooling2D(pool_size=(2, 2)))\n",
    "\n",
    "model_m.add(tf.keras.layers.Conv2D(512, (3, 3), activation='relu'))\n",
    "model_m.add(tf.keras.layers.Conv2D(512, (3, 3), activation='relu'))\n",
    "model_m.add(tf.keras.layers.Conv2D(512, (3, 3), activation='relu'))\n",
    "model_m.add(tf.keras.layers.Conv2D(512, (3, 3), activation='relu'))\n",
    "\n",
    "model_m.add(tf.keras.layers.MaxPooling2D(pool_size=(2, 2)))\n",
    "\n",
    "model_m.add(tf.keras.layers.Conv2D(512, (3, 3), activation='relu'))\n",
    "model_m.add(tf.keras.layers.Conv2D(512, (3, 3), activation='relu'))\n",
    "model_m.add(tf.keras.layers.Conv2D(512, (3, 3), activation='relu'))\n",
    "model_m.add(tf.keras.layers.Conv2D(512, (3, 3), activation='relu'))\n",
    "\n",
    "model_m.add(tf.keras.layers.MaxPooling2D(pool_size=(2, 2)))\n",
    "\n",
    "model_m.add(tf.keras.layers.Flatten())\n",
    "\n",
    "model_m.add(tf.keras.layers.Dense(512, activation='relu'))\n",
    "\n",
    "model_m.add(tf.keras.layers.Dense(512, activation='relu'))\n",
    "\n",
    "model_m.add(tf.keras.layers.Dense(10, activation='softmax'))\n",
    "\n",
    "model_m.compile(optimizer='adam',\n",
    "loss='sparse_categorical_crossentropy',\n",
    "metrics=['accuracy'])\n",
    "hist = model_m.fit(x_train, y_train, epochs=5)\n"
   ]
  },
  {
   "cell_type": "code",
   "execution_count": null,
   "metadata": {},
   "outputs": [],
   "source": [
    "model_m.evaluate(x_test, y_test)"
   ]
  },
  {
   "cell_type": "code",
   "execution_count": null,
   "metadata": {},
   "outputs": [],
   "source": []
  }
 ],
 "metadata": {
  "kernelspec": {
   "display_name": "Python 3",
   "language": "python",
   "name": "python3"
  },
  "language_info": {
   "codemirror_mode": {
    "name": "ipython",
    "version": 3
   },
   "file_extension": ".py",
   "mimetype": "text/x-python",
   "name": "python",
   "nbconvert_exporter": "python",
   "pygments_lexer": "ipython3",
   "version": "3.7.4"
  }
 },
 "nbformat": 4,
 "nbformat_minor": 4
}
