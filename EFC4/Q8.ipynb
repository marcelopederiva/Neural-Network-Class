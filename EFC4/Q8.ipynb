{
 "cells": [
  {
   "cell_type": "markdown",
   "metadata": {
    "colab_type": "text",
    "id": "hFi1P1DT4FgS"
   },
   "source": [
    "# Solving a Maze with Deep Reinforcement Learning\n",
    "# FEEC/Unicamp - July/2020\n",
    "# Based on https://www.samyzaf.com/ML/rl/qmaze.html"
   ]
  },
  {
   "cell_type": "markdown",
   "metadata": {
    "colab_type": "text",
    "id": "rjhi5kdG4FgT"
   },
   "source": [
    "### Importações e definições"
   ]
  },
  {
   "cell_type": "code",
   "execution_count": 1,
   "metadata": {
    "colab": {},
    "colab_type": "code",
    "id": "-aDpGQDz4Fg0"
   },
   "outputs": [
    {
     "name": "stderr",
     "output_type": "stream",
     "text": [
      "Using TensorFlow backend.\n"
     ]
    }
   ],
   "source": [
    "from __future__ import print_function\n",
    "from time import sleep\n",
    "from IPython import display\n",
    "import pylab as pl\n",
    "import os, sys, time, datetime, json, random\n",
    "import numpy as np\n",
    "from keras.models import Sequential\n",
    "from keras.layers.core import Dense, Activation\n",
    "from keras.optimizers import SGD , Adam, RMSprop\n",
    "from keras.layers.advanced_activations import PReLU\n",
    "import matplotlib.pyplot as plt\n",
    "%matplotlib inline"
   ]
  },
  {
   "cell_type": "code",
   "execution_count": 2,
   "metadata": {
    "colab": {},
    "colab_type": "code",
    "id": "JQs4V1wY_jJS"
   },
   "outputs": [],
   "source": [
    "visited_mark = 0.8  # Cells visited by the rat will be painted by gray 0.8\n",
    "rat_mark = 0.5      # The current rat cell will be painted by gray 0.5\n",
    "LEFT = 0\n",
    "UP = 1\n",
    "RIGHT = 2\n",
    "DOWN = 3\n",
    "\n",
    "# Actions dictionary\n",
    "actions_dict = {\n",
    "    LEFT: 'left',\n",
    "    UP: 'up',\n",
    "    RIGHT: 'right',\n",
    "    DOWN: 'down',\n",
    "}\n",
    "\n",
    "num_actions = len(actions_dict)\n",
    "\n",
    "# Exploration factor\n",
    "epsilon = 0.1"
   ]
  },
  {
   "cell_type": "code",
   "execution_count": 3,
   "metadata": {
    "colab": {},
    "colab_type": "code",
    "id": "d1gPgFfQAMu_"
   },
   "outputs": [],
   "source": [
    "# maze is a 2d Numpy array of floats between 0.0 to 1.0\n",
    "# 1.0 corresponds to a free cell, and 0.0 an occupied cell\n",
    "# rat = (row, col) initial rat position (defaults to (0,0))\n",
    "\n",
    "class Qmaze(object):\n",
    "    def __init__(self, maze, rat=(0,0)):\n",
    "        self._maze = np.array(maze)\n",
    "        nrows, ncols = self._maze.shape\n",
    "        self.target = (nrows-1, ncols-1)   # target cell where the \"cheese\" is\n",
    "        self.free_cells = [(r,c) for r in range(nrows) for c in range(ncols) if self._maze[r,c] == 1.0]\n",
    "        self.free_cells.remove(self.target)\n",
    "        if self._maze[self.target] == 0.0:\n",
    "            raise Exception(\"Invalid maze: target cell cannot be blocked!\")\n",
    "        if not rat in self.free_cells:\n",
    "            raise Exception(\"Invalid Rat Location: must sit on a free cell\")\n",
    "        self.reset(rat)\n",
    "\n",
    "    def reset(self, rat):\n",
    "        self.rat = rat\n",
    "        self.maze = np.copy(self._maze)\n",
    "        nrows, ncols = self.maze.shape\n",
    "        row, col = rat\n",
    "        self.maze[row, col] = rat_mark\n",
    "        self.state = (row, col, 'start')\n",
    "        self.min_reward = -0.5 * self.maze.size\n",
    "        self.total_reward = 0\n",
    "        self.visited = set()\n",
    "\n",
    "    def update_state(self, action):\n",
    "        nrows, ncols = self.maze.shape\n",
    "        nrow, ncol, nmode = rat_row, rat_col, mode = self.state\n",
    "\n",
    "        if self.maze[rat_row, rat_col] > 0.0:\n",
    "            self.visited.add((rat_row, rat_col))  # mark visited cell\n",
    "\n",
    "        valid_actions = self.valid_actions()\n",
    "                \n",
    "        if not valid_actions:\n",
    "            nmode = 'blocked'\n",
    "        elif action in valid_actions:\n",
    "            nmode = 'valid'\n",
    "            if action == LEFT:\n",
    "                ncol -= 1\n",
    "            elif action == UP:\n",
    "                nrow -= 1\n",
    "            if action == RIGHT:\n",
    "                ncol += 1\n",
    "            elif action == DOWN:\n",
    "                nrow += 1\n",
    "        else:                  # invalid action, no change in rat position\n",
    "            mode = 'invalid'\n",
    "\n",
    "        # new state\n",
    "        self.state = (nrow, ncol, nmode)\n",
    "\n",
    "    def get_reward(self):\n",
    "        rat_row, rat_col, mode = self.state\n",
    "        nrows, ncols = self.maze.shape\n",
    "        if rat_row == nrows-1 and rat_col == ncols-1:\n",
    "            return 1.0\n",
    "        if mode == 'blocked':\n",
    "            return self.min_reward - 1\n",
    "        if (rat_row, rat_col) in self.visited:\n",
    "            return -0.25\n",
    "        if mode == 'invalid':\n",
    "            return -0.75\n",
    "        if mode == 'valid':\n",
    "            return -0.04\n",
    "\n",
    "    def act(self, action):\n",
    "        self.update_state(action)\n",
    "        reward = self.get_reward()\n",
    "        self.total_reward += reward\n",
    "        status = self.game_status()\n",
    "        envstate = self.observe()\n",
    "        return envstate, reward, status\n",
    "\n",
    "    def observe(self):\n",
    "        canvas = self.draw_env()\n",
    "        envstate = canvas.reshape((1, -1))\n",
    "        return envstate\n",
    "\n",
    "    def draw_env(self):\n",
    "        canvas = np.copy(self.maze)\n",
    "        nrows, ncols = self.maze.shape\n",
    "        # clear all visual marks\n",
    "        for r in range(nrows):\n",
    "            for c in range(ncols):\n",
    "                if canvas[r,c] > 0.0:\n",
    "                    canvas[r,c] = 1.0\n",
    "        # draw the rat\n",
    "        row, col, valid = self.state\n",
    "        canvas[row, col] = rat_mark\n",
    "        return canvas\n",
    "\n",
    "    def game_status(self):\n",
    "        if self.total_reward < self.min_reward:\n",
    "            return 'lose'\n",
    "        rat_row, rat_col, mode = self.state\n",
    "        nrows, ncols = self.maze.shape\n",
    "        if rat_row == nrows-1 and rat_col == ncols-1:\n",
    "            return 'win'\n",
    "\n",
    "        return 'not_over'\n",
    "\n",
    "    def valid_actions(self, cell=None):\n",
    "        if cell is None:\n",
    "            row, col, mode = self.state\n",
    "        else:\n",
    "            row, col = cell\n",
    "        actions = [0, 1, 2, 3]\n",
    "        nrows, ncols = self.maze.shape\n",
    "        if row == 0:\n",
    "            actions.remove(1)\n",
    "        elif row == nrows-1:\n",
    "            actions.remove(3)\n",
    "\n",
    "        if col == 0:\n",
    "            actions.remove(0)\n",
    "        elif col == ncols-1:\n",
    "            actions.remove(2)\n",
    "\n",
    "        if row>0 and self.maze[row-1,col] == 0.0:\n",
    "            actions.remove(1)\n",
    "        if row<nrows-1 and self.maze[row+1,col] == 0.0:\n",
    "            actions.remove(3)\n",
    "\n",
    "        if col>0 and self.maze[row,col-1] == 0.0:\n",
    "            actions.remove(0)\n",
    "        if col<ncols-1 and self.maze[row,col+1] == 0.0:\n",
    "            actions.remove(2)\n",
    "\n",
    "        return actions"
   ]
  },
  {
   "cell_type": "code",
   "execution_count": 4,
   "metadata": {
    "colab": {},
    "colab_type": "code",
    "id": "ZEgvv0QHAcqO"
   },
   "outputs": [],
   "source": [
    "def show(qmaze):\n",
    "    plt.grid('on')\n",
    "    nrows, ncols = qmaze.maze.shape\n",
    "    ax = plt.gca()\n",
    "    ax.set_xticks(np.arange(0.5, nrows, 1))\n",
    "    ax.set_yticks(np.arange(0.5, ncols, 1))\n",
    "    ax.set_xticklabels([])\n",
    "    ax.set_yticklabels([])\n",
    "    canvas = np.copy(qmaze.maze)\n",
    "    for row,col in qmaze.visited:\n",
    "        canvas[row,col] = 0.6\n",
    "    rat_row, rat_col, _ = qmaze.state\n",
    "    canvas[rat_row, rat_col] = 0.3   # rat cell\n",
    "    canvas[nrows-1, ncols-1] = 0.9 # cheese cell\n",
    "    img = plt.imshow(canvas, interpolation='none', cmap='gray')\n",
    "    return img"
   ]
  },
  {
   "cell_type": "code",
   "execution_count": null,
   "metadata": {
    "colab": {},
    "colab_type": "code",
    "id": "2PTTplH_Am9F"
   },
   "outputs": [],
   "source": [
    "maze = np.array([\n",
    "    [ 1.,  0.,  1.,  1.,  1.,  1.,  1.,  1.],\n",
    "    [ 1.,  0.,  1.,  1.,  1.,  0.,  1.,  1.],\n",
    "    [ 1.,  1.,  1.,  1.,  0.,  1.,  0.,  1.],\n",
    "    [ 1.,  1.,  1.,  0.,  1.,  1.,  1.,  1.],\n",
    "    [ 1.,  1.,  0.,  1.,  1.,  1.,  1.,  1.],\n",
    "    [ 1.,  1.,  1.,  0.,  1.,  0.,  0.,  0.],\n",
    "    [ 1.,  1.,  1.,  0.,  1.,  1.,  1.,  1.],\n",
    "    [ 1.,  1.,  1.,  1.,  0.,  1.,  1.,  1.]\n",
    "])"
   ]
  },
  {
   "cell_type": "code",
   "execution_count": 5,
   "metadata": {
    "colab": {},
    "colab_type": "code",
    "id": "nXYrCEK_EZ-U"
   },
   "outputs": [],
   "source": [
    "maze = np.array([\n",
    "    [ 1.,  0.,  1.,  1.,  1.,  1.,  1.,  1.,  1.,  1.],\n",
    "    [ 1.,  1.,  1.,  1.,  1.,  0.,  1.,  1.,  1.,  1.],\n",
    "    [ 1.,  1.,  1.,  1.,  1.,  0.,  1.,  1.,  1.,  1.],\n",
    "    [ 0.,  0.,  1.,  0.,  0.,  1.,  0.,  1.,  1.,  1.],\n",
    "    [ 1.,  1.,  0.,  1.,  0.,  1.,  0.,  0.,  0.,  1.],\n",
    "    [ 1.,  1.,  0.,  1.,  0.,  1.,  1.,  1.,  1.,  1.],\n",
    "    [ 1.,  1.,  1.,  1.,  1.,  1.,  1.,  1.,  1.,  1.],\n",
    "    [ 1.,  1.,  1.,  1.,  1.,  1.,  0.,  0.,  0.,  0.],\n",
    "    [ 1.,  0.,  0.,  0.,  0.,  0.,  1.,  1.,  1.,  1.],\n",
    "    [ 1.,  1.,  1.,  1.,  1.,  1.,  1.,  0.,  1.,  1.]\n",
    "])"
   ]
  },
  {
   "cell_type": "code",
   "execution_count": 6,
   "metadata": {
    "colab": {},
    "colab_type": "code",
    "id": "HTO46kedArMF"
   },
   "outputs": [
    {
     "name": "stdout",
     "output_type": "stream",
     "text": [
      "reward= -0.04\n"
     ]
    },
    {
     "data": {
      "text/plain": [
       "<matplotlib.image.AxesImage at 0x1e814ab4748>"
      ]
     },
     "execution_count": 6,
     "metadata": {},
     "output_type": "execute_result"
    },
    {
     "data": {
      "image/png": "[encoded data removed]",
      "text/plain": [
       "<Figure size 432x288 with 1 Axes>"
      ]
     },
     "metadata": {
      "needs_background": "light"
     },
     "output_type": "display_data"
    }
   ],
   "source": [
    "qmaze = Qmaze(maze)\n",
    "canvas, reward, game_over = qmaze.act(DOWN)\n",
    "print(\"reward=\", reward)\n",
    "show(qmaze)"
   ]
  },
  {
   "cell_type": "code",
   "execution_count": 7,
   "metadata": {
    "colab": {},
    "colab_type": "code",
    "id": "5QOkRblSA3IH"
   },
   "outputs": [
    {
     "data": {
      "text/plain": [
       "<matplotlib.image.AxesImage at 0x1e814b20348>"
      ]
     },
     "execution_count": 7,
     "metadata": {},
     "output_type": "execute_result"
    },
    {
     "data": {
      "image/png": "[encoded data removed]",
      "text/plain": [
       "<Figure size 432x288 with 1 Axes>"
      ]
     },
     "metadata": {
      "needs_background": "light"
     },
     "output_type": "display_data"
    }
   ],
   "source": [
    "qmaze.act(DOWN)  # move down\n",
    "qmaze.act(RIGHT)  # move right\n",
    "qmaze.act(RIGHT)  # move right\n",
    "qmaze.act(RIGHT)  # move right\n",
    "qmaze.act(UP)  # move up\n",
    "show(qmaze)"
   ]
  },
  {
   "cell_type": "code",
   "execution_count": 8,
   "metadata": {
    "colab": {},
    "colab_type": "code",
    "id": "5Qj1TKfnA9qu"
   },
   "outputs": [],
   "source": [
    "def play_game(model, qmaze, rat_cell):\n",
    "    qmaze.reset(rat_cell)\n",
    "    envstate = qmaze.observe()\n",
    "    while True:\n",
    "        prev_envstate = envstate\n",
    "        # get next action\n",
    "        q = model.predict(prev_envstate)\n",
    "        action = np.argmax(q[0])\n",
    "\n",
    "        # apply action, get rewards and new state\n",
    "        envstate, reward, game_status = qmaze.act(action)\n",
    "        if game_status == 'win':\n",
    "            return True\n",
    "        elif game_status == 'lose':\n",
    "            return False"
   ]
  },
  {
   "cell_type": "code",
   "execution_count": 9,
   "metadata": {
    "colab": {},
    "colab_type": "code",
    "id": "zw53DdHQBKF0"
   },
   "outputs": [],
   "source": [
    "def completion_check(model, qmaze):\n",
    "    for cell in qmaze.free_cells:\n",
    "        if not qmaze.valid_actions(cell):\n",
    "            return False\n",
    "        if not play_game(model, qmaze, cell):\n",
    "            return False\n",
    "    return True"
   ]
  },
  {
   "cell_type": "code",
   "execution_count": 10,
   "metadata": {
    "colab": {},
    "colab_type": "code",
    "id": "Bm9WstgwBgjg"
   },
   "outputs": [],
   "source": [
    "class Experience(object):\n",
    "    def __init__(self, model, max_memory=100, discount=0.95):\n",
    "        self.model = model\n",
    "        self.max_memory = max_memory\n",
    "        self.discount = discount\n",
    "        self.memory = list()\n",
    "        self.num_actions = model.output_shape[-1]\n",
    "\n",
    "    def remember(self, episode):\n",
    "        # episode = [envstate, action, reward, envstate_next, game_over]\n",
    "        # memory[i] = episode\n",
    "        # envstate == flattened 1d maze cells info, including rat cell (see method: observe)\n",
    "        self.memory.append(episode)\n",
    "        if len(self.memory) > self.max_memory:\n",
    "            del self.memory[0]\n",
    "\n",
    "    def predict(self, envstate):\n",
    "        return self.model.predict(envstate)[0]\n",
    "\n",
    "    def get_data(self, data_size=10):\n",
    "        env_size = self.memory[0][0].shape[1]   # envstate 1d size (1st element of episode)\n",
    "        mem_size = len(self.memory)\n",
    "        data_size = min(mem_size, data_size)\n",
    "        inputs = np.zeros((data_size, env_size))\n",
    "        targets = np.zeros((data_size, self.num_actions))\n",
    "        for i, j in enumerate(np.random.choice(range(mem_size), data_size, replace=False)):\n",
    "            envstate, action, reward, envstate_next, game_over = self.memory[j]\n",
    "            inputs[i] = envstate\n",
    "            # There should be no target values for actions not taken.\n",
    "            targets[i] = self.predict(envstate)\n",
    "            # Q_sa = derived policy = max quality env/action = max_a' Q(s', a')\n",
    "            Q_sa = np.max(self.predict(envstate_next))\n",
    "            if game_over:\n",
    "                targets[i, action] = reward\n",
    "            else:\n",
    "                # reward + gamma * max_a' Q(s', a')\n",
    "                targets[i, action] = reward + self.discount * Q_sa\n",
    "        return inputs, targets"
   ]
  },
  {
   "cell_type": "code",
   "execution_count": 11,
   "metadata": {
    "colab": {},
    "colab_type": "code",
    "id": "-QvK92JaBiL7"
   },
   "outputs": [],
   "source": [
    "def qtrain(model, maze, **opt):\n",
    "    global epsilon\n",
    "    n_epoch = opt.get('n_epoch', 15000)\n",
    "    max_memory = opt.get('max_memory', 1000)\n",
    "    data_size = opt.get('data_size', 50)\n",
    "    weights_file = opt.get('weights_file', \"\")\n",
    "    name = opt.get('name', 'model')\n",
    "    start_time = datetime.datetime.now()\n",
    "\n",
    "    # If you want to continue training from a previous model,\n",
    "    # just supply the h5 file name to weights_file option\n",
    "    if weights_file:\n",
    "        print(\"loading weights from file: %s\" % (weights_file,))\n",
    "        model.load_weights(weights_file)\n",
    "\n",
    "    # Construct environment/game from numpy array: maze (see above)\n",
    "    qmaze = Qmaze(maze)\n",
    "\n",
    "    # Initialize experience replay object\n",
    "    experience = Experience(model, max_memory=max_memory)\n",
    "\n",
    "    win_history = []   # history of win/lose game\n",
    "    n_free_cells = len(qmaze.free_cells)\n",
    "    hsize = qmaze.maze.size//2   # history window size\n",
    "    win_rate = 0.0\n",
    "    imctr = 1\n",
    "\n",
    "    for epoch in range(n_epoch):\n",
    "        loss = 0.0\n",
    "        rat_cell = random.choice(qmaze.free_cells)\n",
    "        qmaze.reset(rat_cell)\n",
    "        game_over = False\n",
    "\n",
    "        # get initial envstate (1d flattened canvas)\n",
    "        envstate = qmaze.observe()\n",
    "\n",
    "        n_episodes = 0\n",
    "        while not game_over:\n",
    "            valid_actions = qmaze.valid_actions()\n",
    "            if not valid_actions: break\n",
    "            prev_envstate = envstate\n",
    "            # Get next action\n",
    "            if np.random.rand() < epsilon:\n",
    "                action = random.choice(valid_actions)\n",
    "            else:\n",
    "                action = np.argmax(experience.predict(prev_envstate))\n",
    "\n",
    "            # Apply action, get reward and new envstate\n",
    "            envstate, reward, game_status = qmaze.act(action)\n",
    "            if game_status == 'win':\n",
    "                win_history.append(1)\n",
    "                game_over = True\n",
    "            elif game_status == 'lose':\n",
    "                win_history.append(0)\n",
    "                game_over = True\n",
    "            else:\n",
    "                game_over = False\n",
    "\n",
    "            # Store episode (experience)\n",
    "            episode = [prev_envstate, action, reward, envstate, game_over]\n",
    "            experience.remember(episode)\n",
    "            n_episodes += 1\n",
    "\n",
    "            # Train neural network model\n",
    "            inputs, targets = experience.get_data(data_size=data_size)\n",
    "            h = model.fit(\n",
    "                inputs,\n",
    "                targets,\n",
    "                epochs=8,\n",
    "                batch_size=16,\n",
    "                verbose=0,\n",
    "            )\n",
    "            loss = model.evaluate(inputs, targets, verbose=0)\n",
    "\n",
    "        if len(win_history) > hsize:\n",
    "            win_rate = sum(win_history[-hsize:]) / hsize\n",
    "    \n",
    "        dt = datetime.datetime.now() - start_time\n",
    "        t = format_time(dt.total_seconds())\n",
    "        template = \"Epoch: {:03d}/{:d} | Loss: {:.4f} | Episodes: {:d} | Win count: {:d} | Win rate: {:.3f} | time: {}\"\n",
    "        print(template.format(epoch, n_epoch-1, loss, n_episodes, sum(win_history), win_rate, t))\n",
    "        # we simply check if training has exhausted all free cells and if in all\n",
    "        # cases the agent won\n",
    "        if win_rate > 0.9 : epsilon = 0.05\n",
    "        if sum(win_history[-hsize:]) == hsize and completion_check(model, qmaze):\n",
    "            print(\"Reached 100%% win rate at epoch: %d\" % (epoch,))\n",
    "            break\n",
    "\n",
    "    # Save trained model weights and architecture, this will be used by the visualization code\n",
    "    h5file = name + \".h5\"\n",
    "    json_file = name + \".json\"\n",
    "    model.save_weights(h5file, overwrite=True)\n",
    "    with open(json_file, \"w\") as outfile:\n",
    "        json.dump(model.to_json(), outfile)\n",
    "    end_time = datetime.datetime.now()\n",
    "    dt = datetime.datetime.now() - start_time\n",
    "    seconds = dt.total_seconds()\n",
    "    t = format_time(seconds)\n",
    "    print('files: %s, %s' % (h5file, json_file))\n",
    "    print(\"n_epoch: %d, max_mem: %d, data: %d, time: %s\" % (epoch, max_memory, data_size, t))\n",
    "    return seconds\n",
    "\n",
    "# This is a small utility for printing readable time strings:\n",
    "def format_time(seconds):\n",
    "    if seconds < 400:\n",
    "        s = float(seconds)\n",
    "        return \"%.1f seconds\" % (s,)\n",
    "    elif seconds < 4000:\n",
    "        m = seconds / 60.0\n",
    "        return \"%.2f minutes\" % (m,)\n",
    "    else:\n",
    "        h = seconds / 3600.0\n",
    "        return \"%.2f hours\" % (h,)"
   ]
  },
  {
   "cell_type": "code",
   "execution_count": 12,
   "metadata": {
    "colab": {},
    "colab_type": "code",
    "id": "7W6tHgyyBzrr"
   },
   "outputs": [],
   "source": [
    "def build_model(maze, lr=0.001):\n",
    "    model = Sequential()\n",
    "    model.add(Dense(maze.size, input_shape=(maze.size,)))\n",
    "    model.add(PReLU())\n",
    "    model.add(Dense(maze.size))\n",
    "    model.add(PReLU())\n",
    "    model.add(Dense(num_actions))\n",
    "    model.compile(optimizer='adam', loss='mse')\n",
    "    return model"
   ]
  },
  {
   "cell_type": "code",
   "execution_count": null,
   "metadata": {
    "colab": {},
    "colab_type": "code",
    "id": "gUWPPKi6B5tj"
   },
   "outputs": [],
   "source": [
    "maze =  np.array([\n",
    "    [ 1.,  0.,  1.,  1.,  1.,  1.,  1.],\n",
    "    [ 1.,  1.,  1.,  0.,  0.,  1.,  0.],\n",
    "    [ 0.,  0.,  0.,  1.,  1.,  1.,  0.],\n",
    "    [ 1.,  1.,  1.,  1.,  0.,  0.,  1.],\n",
    "    [ 1.,  0.,  0.,  0.,  1.,  1.,  1.],\n",
    "    [ 1.,  0.,  1.,  1.,  1.,  1.,  1.],\n",
    "    [ 1.,  1.,  1.,  0.,  1.,  1.,  1.]\n",
    "])\n",
    "\n",
    "qmaze = Qmaze(maze)\n",
    "show(qmaze)"
   ]
  },
  {
   "cell_type": "code",
   "execution_count": 13,
   "metadata": {
    "colab": {},
    "colab_type": "code",
    "id": "sXIvaUxDE2tE"
   },
   "outputs": [
    {
     "data": {
      "text/plain": [
       "<matplotlib.image.AxesImage at 0x1e814bf0f88>"
      ]
     },
     "execution_count": 13,
     "metadata": {},
     "output_type": "execute_result"
    },
    {
     "data": {
      "image/png": "[encoded data removed]",
      "text/plain": [
       "<Figure size 432x288 with 1 Axes>"
      ]
     },
     "metadata": {
      "needs_background": "light"
     },
     "output_type": "display_data"
    }
   ],
   "source": [
    "maze2 = np.array([\n",
    "    [ 1.,  0.,  1.,  1.,  1.,  1.,  1.,  1.,  1.,  1.],\n",
    "    [ 1.,  1.,  1.,  1.,  1.,  0.,  1.,  1.,  1.,  1.],\n",
    "    [ 1.,  1.,  1.,  1.,  1.,  0.,  1.,  1.,  1.,  1.],\n",
    "    [ 0.,  0.,  1.,  0.,  0.,  1.,  0.,  1.,  1.,  1.],\n",
    "    [ 1.,  1.,  0.,  1.,  0.,  1.,  0.,  0.,  0.,  1.],\n",
    "    [ 1.,  1.,  0.,  1.,  0.,  1.,  1.,  1.,  1.,  1.],\n",
    "    [ 1.,  1.,  1.,  1.,  1.,  1.,  1.,  1.,  1.,  1.],\n",
    "    [ 1.,  1.,  1.,  1.,  1.,  1.,  0.,  0.,  0.,  0.],\n",
    "    [ 1.,  0.,  0.,  0.,  0.,  0.,  1.,  1.,  1.,  1.],\n",
    "    [ 1.,  1.,  1.,  1.,  1.,  1.,  1.,  0.,  1.,  1.]\n",
    "])\n",
    "qmaze = Qmaze(maze)\n",
    "show(qmaze)"
   ]
  },
  {
   "cell_type": "code",
   "execution_count": 14,
   "metadata": {
    "colab": {},
    "colab_type": "code",
    "id": "wK9lCeTACAcy",
    "scrolled": true
   },
   "outputs": [
    {
     "name": "stderr",
     "output_type": "stream",
     "text": [
      "WARNING: Logging before flag parsing goes to stderr.\n",
      "W0714 17:11:02.417086  6520 deprecation_wrapper.py:119] From D:\\Anaconda3\\envs\\tf_gpu\\lib\\site-packages\\keras\\backend\\tensorflow_backend.py:422: The name tf.global_variables is deprecated. Please use tf.compat.v1.global_variables instead.\n",
      "\n"
     ]
    },
    {
     "name": "stdout",
     "output_type": "stream",
     "text": [
      "Epoch: 000/14999 | Loss: 0.0475 | Episodes: 51 | Win count: 1 | Win rate: 0.000 | time: 4.8 seconds\n",
      "Epoch: 001/14999 | Loss: 0.0020 | Episodes: 232 | Win count: 1 | Win rate: 0.000 | time: 22.0 seconds\n",
      "Epoch: 002/14999 | Loss: 0.0030 | Episodes: 213 | Win count: 1 | Win rate: 0.000 | time: 37.4 seconds\n",
      "Epoch: 003/14999 | Loss: 0.0018 | Episodes: 222 | Win count: 1 | Win rate: 0.000 | time: 53.4 seconds\n",
      "Epoch: 004/14999 | Loss: 0.0053 | Episodes: 203 | Win count: 2 | Win rate: 0.000 | time: 68.2 seconds\n",
      "Epoch: 005/14999 | Loss: 0.0012 | Episodes: 38 | Win count: 3 | Win rate: 0.000 | time: 70.9 seconds\n",
      "Epoch: 006/14999 | Loss: 0.0044 | Episodes: 213 | Win count: 3 | Win rate: 0.000 | time: 86.4 seconds\n",
      "Epoch: 007/14999 | Loss: 0.0024 | Episodes: 1 | Win count: 4 | Win rate: 0.000 | time: 86.5 seconds\n",
      "Epoch: 008/14999 | Loss: 0.0020 | Episodes: 222 | Win count: 4 | Win rate: 0.000 | time: 102.6 seconds\n",
      "Epoch: 009/14999 | Loss: 0.0076 | Episodes: 222 | Win count: 4 | Win rate: 0.000 | time: 118.7 seconds\n",
      "Epoch: 010/14999 | Loss: 0.1475 | Episodes: 3 | Win count: 5 | Win rate: 0.000 | time: 118.9 seconds\n",
      "Epoch: 011/14999 | Loss: 0.0028 | Episodes: 223 | Win count: 5 | Win rate: 0.000 | time: 135.0 seconds\n",
      "Epoch: 012/14999 | Loss: 0.0027 | Episodes: 213 | Win count: 5 | Win rate: 0.000 | time: 150.4 seconds\n",
      "Epoch: 013/14999 | Loss: 0.0011 | Episodes: 221 | Win count: 5 | Win rate: 0.000 | time: 166.3 seconds\n",
      "Epoch: 014/14999 | Loss: 0.0453 | Episodes: 219 | Win count: 5 | Win rate: 0.000 | time: 182.2 seconds\n",
      "Epoch: 015/14999 | Loss: 0.0658 | Episodes: 144 | Win count: 6 | Win rate: 0.000 | time: 192.6 seconds\n",
      "Epoch: 016/14999 | Loss: 0.0613 | Episodes: 5 | Win count: 7 | Win rate: 0.000 | time: 193.0 seconds\n",
      "Epoch: 017/14999 | Loss: 0.0682 | Episodes: 202 | Win count: 7 | Win rate: 0.000 | time: 207.6 seconds\n",
      "Epoch: 018/14999 | Loss: 0.0063 | Episodes: 221 | Win count: 7 | Win rate: 0.000 | time: 223.7 seconds\n",
      "Epoch: 019/14999 | Loss: 0.0025 | Episodes: 223 | Win count: 7 | Win rate: 0.000 | time: 239.9 seconds\n",
      "Epoch: 020/14999 | Loss: 0.0015 | Episodes: 1 | Win count: 8 | Win rate: 0.000 | time: 239.9 seconds\n",
      "Epoch: 021/14999 | Loss: 0.0017 | Episodes: 2 | Win count: 9 | Win rate: 0.000 | time: 240.1 seconds\n",
      "Epoch: 022/14999 | Loss: 0.0010 | Episodes: 220 | Win count: 9 | Win rate: 0.000 | time: 256.1 seconds\n",
      "Epoch: 023/14999 | Loss: 0.0013 | Episodes: 11 | Win count: 10 | Win rate: 0.000 | time: 256.9 seconds\n",
      "Epoch: 024/14999 | Loss: 0.0831 | Episodes: 213 | Win count: 10 | Win rate: 0.000 | time: 272.3 seconds\n",
      "Epoch: 025/14999 | Loss: 0.0028 | Episodes: 222 | Win count: 10 | Win rate: 0.000 | time: 288.4 seconds\n",
      "Epoch: 026/14999 | Loss: 0.0036 | Episodes: 216 | Win count: 10 | Win rate: 0.000 | time: 304.1 seconds\n",
      "Epoch: 027/14999 | Loss: 0.0013 | Episodes: 216 | Win count: 10 | Win rate: 0.000 | time: 319.9 seconds\n",
      "Epoch: 028/14999 | Loss: 0.0015 | Episodes: 211 | Win count: 10 | Win rate: 0.000 | time: 335.1 seconds\n",
      "Epoch: 029/14999 | Loss: 0.0268 | Episodes: 44 | Win count: 11 | Win rate: 0.000 | time: 338.3 seconds\n",
      "Epoch: 030/14999 | Loss: 0.0573 | Episodes: 223 | Win count: 11 | Win rate: 0.000 | time: 354.4 seconds\n",
      "Epoch: 031/14999 | Loss: 0.0006 | Episodes: 209 | Win count: 11 | Win rate: 0.000 | time: 369.5 seconds\n",
      "Epoch: 032/14999 | Loss: 0.0031 | Episodes: 4 | Win count: 12 | Win rate: 0.000 | time: 369.8 seconds\n",
      "Epoch: 033/14999 | Loss: 0.0038 | Episodes: 224 | Win count: 12 | Win rate: 0.000 | time: 386.1 seconds\n",
      "Epoch: 034/14999 | Loss: 0.0011 | Episodes: 212 | Win count: 12 | Win rate: 0.000 | time: 6.70 minutes\n",
      "Epoch: 035/14999 | Loss: 0.0013 | Episodes: 216 | Win count: 12 | Win rate: 0.000 | time: 6.97 minutes\n",
      "Epoch: 036/14999 | Loss: 0.0711 | Episodes: 45 | Win count: 13 | Win rate: 0.000 | time: 7.03 minutes\n",
      "Epoch: 037/14999 | Loss: 0.0647 | Episodes: 231 | Win count: 13 | Win rate: 0.000 | time: 7.36 minutes\n",
      "Epoch: 038/14999 | Loss: 0.0079 | Episodes: 226 | Win count: 13 | Win rate: 0.000 | time: 7.64 minutes\n",
      "Epoch: 039/14999 | Loss: 0.0021 | Episodes: 225 | Win count: 13 | Win rate: 0.000 | time: 7.92 minutes\n",
      "Epoch: 040/14999 | Loss: 0.0014 | Episodes: 211 | Win count: 13 | Win rate: 0.000 | time: 8.18 minutes\n",
      "Epoch: 041/14999 | Loss: 0.0015 | Episodes: 220 | Win count: 13 | Win rate: 0.000 | time: 8.45 minutes\n",
      "Epoch: 042/14999 | Loss: 0.0017 | Episodes: 217 | Win count: 13 | Win rate: 0.000 | time: 8.73 minutes\n",
      "Epoch: 043/14999 | Loss: 0.0013 | Episodes: 229 | Win count: 13 | Win rate: 0.000 | time: 9.03 minutes\n",
      "Epoch: 044/14999 | Loss: 0.0022 | Episodes: 220 | Win count: 13 | Win rate: 0.000 | time: 9.29 minutes\n",
      "Epoch: 045/14999 | Loss: 0.0900 | Episodes: 213 | Win count: 13 | Win rate: 0.000 | time: 9.56 minutes\n",
      "Epoch: 046/14999 | Loss: 0.0012 | Episodes: 223 | Win count: 13 | Win rate: 0.000 | time: 9.86 minutes\n",
      "Epoch: 047/14999 | Loss: 0.0007 | Episodes: 225 | Win count: 13 | Win rate: 0.000 | time: 10.16 minutes\n",
      "Epoch: 048/14999 | Loss: 0.0012 | Episodes: 221 | Win count: 13 | Win rate: 0.000 | time: 10.45 minutes\n",
      "Epoch: 049/14999 | Loss: 0.0022 | Episodes: 226 | Win count: 13 | Win rate: 0.000 | time: 10.72 minutes\n",
      "Epoch: 050/14999 | Loss: 0.0007 | Episodes: 9 | Win count: 14 | Win rate: 0.260 | time: 10.73 minutes\n",
      "Epoch: 051/14999 | Loss: 0.0031 | Episodes: 222 | Win count: 14 | Win rate: 0.260 | time: 11.01 minutes\n",
      "Epoch: 052/14999 | Loss: 0.0077 | Episodes: 11 | Win count: 15 | Win rate: 0.280 | time: 11.03 minutes\n",
      "Epoch: 053/14999 | Loss: 0.0092 | Episodes: 219 | Win count: 15 | Win rate: 0.280 | time: 11.29 minutes\n",
      "Epoch: 054/14999 | Loss: 0.0011 | Episodes: 221 | Win count: 15 | Win rate: 0.260 | time: 11.55 minutes\n",
      "Epoch: 055/14999 | Loss: 0.0076 | Episodes: 235 | Win count: 15 | Win rate: 0.240 | time: 11.83 minutes\n",
      "Epoch: 056/14999 | Loss: 0.0010 | Episodes: 217 | Win count: 15 | Win rate: 0.240 | time: 12.12 minutes\n",
      "Epoch: 057/14999 | Loss: 0.0015 | Episodes: 231 | Win count: 15 | Win rate: 0.220 | time: 12.41 minutes\n",
      "Epoch: 058/14999 | Loss: 0.0018 | Episodes: 227 | Win count: 15 | Win rate: 0.220 | time: 12.68 minutes\n",
      "Epoch: 059/14999 | Loss: 0.0130 | Episodes: 10 | Win count: 16 | Win rate: 0.240 | time: 12.69 minutes\n",
      "Epoch: 060/14999 | Loss: 0.0017 | Episodes: 221 | Win count: 16 | Win rate: 0.220 | time: 12.96 minutes\n",
      "Epoch: 061/14999 | Loss: 0.0545 | Episodes: 12 | Win count: 17 | Win rate: 0.240 | time: 12.97 minutes\n",
      "Epoch: 062/14999 | Loss: 0.0822 | Episodes: 233 | Win count: 17 | Win rate: 0.240 | time: 13.25 minutes\n",
      "Epoch: 063/14999 | Loss: 0.0099 | Episodes: 72 | Win count: 18 | Win rate: 0.260 | time: 13.33 minutes\n",
      "Epoch: 064/14999 | Loss: 0.0022 | Episodes: 71 | Win count: 19 | Win rate: 0.280 | time: 13.42 minutes\n",
      "Epoch: 065/14999 | Loss: 0.0034 | Episodes: 37 | Win count: 20 | Win rate: 0.280 | time: 13.47 minutes\n",
      "Epoch: 066/14999 | Loss: 0.0315 | Episodes: 57 | Win count: 21 | Win rate: 0.280 | time: 13.54 minutes\n",
      "Epoch: 067/14999 | Loss: 0.0092 | Episodes: 219 | Win count: 21 | Win rate: 0.280 | time: 13.80 minutes\n",
      "Epoch: 068/14999 | Loss: 0.0039 | Episodes: 26 | Win count: 22 | Win rate: 0.300 | time: 13.83 minutes\n",
      "Epoch: 069/14999 | Loss: 0.0310 | Episodes: 34 | Win count: 23 | Win rate: 0.320 | time: 13.87 minutes\n",
      "Epoch: 070/14999 | Loss: 0.0027 | Episodes: 18 | Win count: 24 | Win rate: 0.320 | time: 13.90 minutes\n",
      "Epoch: 071/14999 | Loss: 0.0082 | Episodes: 23 | Win count: 25 | Win rate: 0.320 | time: 13.92 minutes\n",
      "Epoch: 072/14999 | Loss: 0.0019 | Episodes: 214 | Win count: 25 | Win rate: 0.320 | time: 14.19 minutes\n",
      "Epoch: 073/14999 | Loss: 0.0034 | Episodes: 11 | Win count: 26 | Win rate: 0.320 | time: 14.21 minutes\n",
      "Epoch: 074/14999 | Loss: 0.0019 | Episodes: 209 | Win count: 26 | Win rate: 0.320 | time: 14.47 minutes\n",
      "Epoch: 075/14999 | Loss: 0.0016 | Episodes: 213 | Win count: 27 | Win rate: 0.340 | time: 14.72 minutes\n",
      "Epoch: 076/14999 | Loss: 0.0029 | Episodes: 16 | Win count: 28 | Win rate: 0.360 | time: 14.74 minutes\n",
      "Epoch: 077/14999 | Loss: 0.0053 | Episodes: 3 | Win count: 29 | Win rate: 0.380 | time: 14.75 minutes\n",
      "Epoch: 078/14999 | Loss: 0.0063 | Episodes: 34 | Win count: 30 | Win rate: 0.400 | time: 14.79 minutes\n",
      "Epoch: 079/14999 | Loss: 0.0086 | Episodes: 35 | Win count: 31 | Win rate: 0.400 | time: 14.83 minutes\n"
     ]
    },
    {
     "name": "stdout",
     "output_type": "stream",
     "text": [
      "Epoch: 080/14999 | Loss: 0.0034 | Episodes: 216 | Win count: 31 | Win rate: 0.400 | time: 15.10 minutes\n",
      "Epoch: 081/14999 | Loss: 0.0033 | Episodes: 19 | Win count: 32 | Win rate: 0.420 | time: 15.12 minutes\n",
      "Epoch: 082/14999 | Loss: 0.0025 | Episodes: 36 | Win count: 33 | Win rate: 0.420 | time: 15.17 minutes\n",
      "Epoch: 083/14999 | Loss: 0.0080 | Episodes: 14 | Win count: 34 | Win rate: 0.440 | time: 15.18 minutes\n",
      "Epoch: 084/14999 | Loss: 0.0019 | Episodes: 30 | Win count: 35 | Win rate: 0.460 | time: 15.22 minutes\n",
      "Epoch: 085/14999 | Loss: 0.0022 | Episodes: 33 | Win count: 36 | Win rate: 0.480 | time: 15.26 minutes\n",
      "Epoch: 086/14999 | Loss: 0.0770 | Episodes: 17 | Win count: 37 | Win rate: 0.480 | time: 15.28 minutes\n",
      "Epoch: 087/14999 | Loss: 0.0014 | Episodes: 24 | Win count: 38 | Win rate: 0.500 | time: 15.31 minutes\n",
      "Epoch: 088/14999 | Loss: 0.0068 | Episodes: 220 | Win count: 38 | Win rate: 0.500 | time: 15.62 minutes\n",
      "Epoch: 089/14999 | Loss: 0.0067 | Episodes: 27 | Win count: 39 | Win rate: 0.520 | time: 15.65 minutes\n",
      "Epoch: 090/14999 | Loss: 0.0011 | Episodes: 211 | Win count: 39 | Win rate: 0.520 | time: 15.93 minutes\n",
      "Epoch: 091/14999 | Loss: 0.0073 | Episodes: 132 | Win count: 40 | Win rate: 0.540 | time: 16.11 minutes\n",
      "Epoch: 092/14999 | Loss: 0.0044 | Episodes: 13 | Win count: 41 | Win rate: 0.560 | time: 16.12 minutes\n",
      "Epoch: 093/14999 | Loss: 0.0044 | Episodes: 33 | Win count: 42 | Win rate: 0.580 | time: 16.17 minutes\n",
      "Epoch: 094/14999 | Loss: 0.0042 | Episodes: 37 | Win count: 43 | Win rate: 0.600 | time: 16.22 minutes\n",
      "Epoch: 095/14999 | Loss: 0.0045 | Episodes: 32 | Win count: 44 | Win rate: 0.620 | time: 16.26 minutes\n",
      "Epoch: 096/14999 | Loss: 0.0024 | Episodes: 37 | Win count: 45 | Win rate: 0.640 | time: 16.30 minutes\n",
      "Epoch: 097/14999 | Loss: 0.0025 | Episodes: 83 | Win count: 46 | Win rate: 0.660 | time: 16.41 minutes\n",
      "Epoch: 098/14999 | Loss: 0.0084 | Episodes: 25 | Win count: 47 | Win rate: 0.680 | time: 16.45 minutes\n",
      "Epoch: 099/14999 | Loss: 0.0027 | Episodes: 57 | Win count: 48 | Win rate: 0.700 | time: 16.52 minutes\n",
      "Epoch: 100/14999 | Loss: 0.0034 | Episodes: 26 | Win count: 49 | Win rate: 0.700 | time: 16.55 minutes\n",
      "Epoch: 101/14999 | Loss: 0.0047 | Episodes: 31 | Win count: 50 | Win rate: 0.720 | time: 16.59 minutes\n",
      "Epoch: 102/14999 | Loss: 0.0037 | Episodes: 32 | Win count: 51 | Win rate: 0.720 | time: 16.63 minutes\n",
      "Epoch: 103/14999 | Loss: 0.0011 | Episodes: 32 | Win count: 52 | Win rate: 0.740 | time: 16.68 minutes\n",
      "Epoch: 104/14999 | Loss: 0.0028 | Episodes: 42 | Win count: 53 | Win rate: 0.760 | time: 16.73 minutes\n",
      "Epoch: 105/14999 | Loss: 0.0012 | Episodes: 20 | Win count: 54 | Win rate: 0.780 | time: 16.76 minutes\n",
      "Epoch: 106/14999 | Loss: 0.0014 | Episodes: 5 | Win count: 55 | Win rate: 0.800 | time: 16.76 minutes\n",
      "Epoch: 107/14999 | Loss: 0.0012 | Episodes: 13 | Win count: 56 | Win rate: 0.820 | time: 16.78 minutes\n",
      "Epoch: 108/14999 | Loss: 0.0015 | Episodes: 30 | Win count: 57 | Win rate: 0.840 | time: 16.82 minutes\n",
      "Epoch: 109/14999 | Loss: 0.0016 | Episodes: 7 | Win count: 58 | Win rate: 0.840 | time: 16.83 minutes\n",
      "Epoch: 110/14999 | Loss: 0.0009 | Episodes: 7 | Win count: 59 | Win rate: 0.860 | time: 16.83 minutes\n",
      "Epoch: 111/14999 | Loss: 0.0016 | Episodes: 28 | Win count: 60 | Win rate: 0.860 | time: 16.87 minutes\n",
      "Epoch: 112/14999 | Loss: 0.0121 | Episodes: 15 | Win count: 61 | Win rate: 0.880 | time: 16.89 minutes\n",
      "Epoch: 113/14999 | Loss: 0.0020 | Episodes: 23 | Win count: 62 | Win rate: 0.880 | time: 16.92 minutes\n",
      "Epoch: 114/14999 | Loss: 0.0008 | Episodes: 40 | Win count: 63 | Win rate: 0.880 | time: 16.97 minutes\n",
      "Epoch: 115/14999 | Loss: 0.0007 | Episodes: 36 | Win count: 64 | Win rate: 0.880 | time: 17.01 minutes\n",
      "Epoch: 116/14999 | Loss: 0.0019 | Episodes: 24 | Win count: 65 | Win rate: 0.880 | time: 17.04 minutes\n",
      "Epoch: 117/14999 | Loss: 0.0009 | Episodes: 4 | Win count: 66 | Win rate: 0.900 | time: 17.05 minutes\n",
      "Epoch: 118/14999 | Loss: 0.0024 | Episodes: 15 | Win count: 67 | Win rate: 0.900 | time: 17.07 minutes\n",
      "Epoch: 119/14999 | Loss: 0.0020 | Episodes: 5 | Win count: 68 | Win rate: 0.900 | time: 17.08 minutes\n",
      "Epoch: 120/14999 | Loss: 0.0014 | Episodes: 16 | Win count: 69 | Win rate: 0.900 | time: 17.10 minutes\n",
      "Epoch: 121/14999 | Loss: 0.0016 | Episodes: 27 | Win count: 70 | Win rate: 0.900 | time: 17.13 minutes\n",
      "Epoch: 122/14999 | Loss: 0.0008 | Episodes: 16 | Win count: 71 | Win rate: 0.920 | time: 17.15 minutes\n",
      "Epoch: 123/14999 | Loss: 0.0007 | Episodes: 15 | Win count: 72 | Win rate: 0.920 | time: 17.17 minutes\n",
      "Epoch: 124/14999 | Loss: 0.0002 | Episodes: 11 | Win count: 73 | Win rate: 0.940 | time: 17.19 minutes\n",
      "Epoch: 125/14999 | Loss: 0.0012 | Episodes: 14 | Win count: 74 | Win rate: 0.940 | time: 17.20 minutes\n",
      "Epoch: 126/14999 | Loss: 0.0012 | Episodes: 40 | Win count: 75 | Win rate: 0.940 | time: 17.26 minutes\n",
      "Epoch: 127/14999 | Loss: 0.0010 | Episodes: 49 | Win count: 76 | Win rate: 0.940 | time: 17.32 minutes\n",
      "Epoch: 128/14999 | Loss: 0.0001 | Episodes: 13 | Win count: 77 | Win rate: 0.940 | time: 17.34 minutes\n",
      "Epoch: 129/14999 | Loss: 0.0002 | Episodes: 15 | Win count: 78 | Win rate: 0.940 | time: 17.36 minutes\n",
      "Epoch: 130/14999 | Loss: 0.0025 | Episodes: 52 | Win count: 79 | Win rate: 0.960 | time: 17.42 minutes\n",
      "Epoch: 131/14999 | Loss: 0.0015 | Episodes: 22 | Win count: 80 | Win rate: 0.960 | time: 17.45 minutes\n",
      "Epoch: 132/14999 | Loss: 0.0007 | Episodes: 16 | Win count: 81 | Win rate: 0.960 | time: 17.47 minutes\n",
      "Epoch: 133/14999 | Loss: 0.0005 | Episodes: 17 | Win count: 82 | Win rate: 0.960 | time: 17.49 minutes\n",
      "Epoch: 134/14999 | Loss: 0.0006 | Episodes: 34 | Win count: 83 | Win rate: 0.960 | time: 17.53 minutes\n",
      "Epoch: 135/14999 | Loss: 0.0013 | Episodes: 27 | Win count: 84 | Win rate: 0.960 | time: 17.57 minutes\n",
      "Epoch: 136/14999 | Loss: 0.0006 | Episodes: 29 | Win count: 85 | Win rate: 0.960 | time: 17.60 minutes\n",
      "Epoch: 137/14999 | Loss: 0.0011 | Episodes: 60 | Win count: 86 | Win rate: 0.960 | time: 17.68 minutes\n",
      "Epoch: 138/14999 | Loss: 0.0008 | Episodes: 29 | Win count: 87 | Win rate: 0.980 | time: 17.72 minutes\n",
      "Epoch: 139/14999 | Loss: 0.0000 | Episodes: 26 | Win count: 88 | Win rate: 0.980 | time: 17.76 minutes\n",
      "Epoch: 140/14999 | Loss: 0.0003 | Episodes: 17 | Win count: 89 | Win rate: 1.000 | time: 17.78 minutes\n",
      "Epoch: 141/14999 | Loss: 0.0003 | Episodes: 22 | Win count: 90 | Win rate: 1.000 | time: 17.81 minutes\n",
      "Epoch: 142/14999 | Loss: 0.0003 | Episodes: 18 | Win count: 91 | Win rate: 1.000 | time: 17.83 minutes\n",
      "Epoch: 143/14999 | Loss: 0.0005 | Episodes: 20 | Win count: 92 | Win rate: 1.000 | time: 17.86 minutes\n",
      "Epoch: 144/14999 | Loss: 0.0008 | Episodes: 42 | Win count: 93 | Win rate: 1.000 | time: 17.91 minutes\n",
      "Epoch: 145/14999 | Loss: 0.0026 | Episodes: 20 | Win count: 94 | Win rate: 1.000 | time: 17.94 minutes\n",
      "Epoch: 146/14999 | Loss: 0.0010 | Episodes: 12 | Win count: 95 | Win rate: 1.000 | time: 17.96 minutes\n",
      "Epoch: 147/14999 | Loss: 0.0010 | Episodes: 19 | Win count: 96 | Win rate: 1.000 | time: 17.98 minutes\n",
      "Epoch: 148/14999 | Loss: 0.0028 | Episodes: 23 | Win count: 97 | Win rate: 1.000 | time: 18.01 minutes\n",
      "Epoch: 149/14999 | Loss: 0.0001 | Episodes: 23 | Win count: 98 | Win rate: 1.000 | time: 18.04 minutes\n",
      "Epoch: 150/14999 | Loss: 0.0009 | Episodes: 45 | Win count: 99 | Win rate: 1.000 | time: 18.10 minutes\n",
      "Epoch: 151/14999 | Loss: 0.0005 | Episodes: 19 | Win count: 100 | Win rate: 1.000 | time: 18.13 minutes\n",
      "Epoch: 152/14999 | Loss: 0.0002 | Episodes: 24 | Win count: 101 | Win rate: 1.000 | time: 18.16 minutes\n",
      "Epoch: 153/14999 | Loss: 0.0006 | Episodes: 9 | Win count: 102 | Win rate: 1.000 | time: 18.17 minutes\n",
      "Epoch: 154/14999 | Loss: 0.0002 | Episodes: 12 | Win count: 103 | Win rate: 1.000 | time: 18.20 minutes\n",
      "Epoch: 155/14999 | Loss: 0.0003 | Episodes: 16 | Win count: 104 | Win rate: 1.000 | time: 18.22 minutes\n",
      "Epoch: 156/14999 | Loss: 0.0009 | Episodes: 25 | Win count: 105 | Win rate: 1.000 | time: 18.25 minutes\n",
      "Epoch: 157/14999 | Loss: 0.0003 | Episodes: 20 | Win count: 106 | Win rate: 1.000 | time: 18.28 minutes\n",
      "Epoch: 158/14999 | Loss: 0.0022 | Episodes: 18 | Win count: 107 | Win rate: 1.000 | time: 18.30 minutes\n",
      "Epoch: 159/14999 | Loss: 0.0002 | Episodes: 16 | Win count: 108 | Win rate: 1.000 | time: 18.32 minutes\n"
     ]
    },
    {
     "name": "stdout",
     "output_type": "stream",
     "text": [
      "Epoch: 160/14999 | Loss: 0.0014 | Episodes: 28 | Win count: 109 | Win rate: 1.000 | time: 18.36 minutes\n",
      "Epoch: 161/14999 | Loss: 0.0003 | Episodes: 19 | Win count: 110 | Win rate: 1.000 | time: 18.39 minutes\n",
      "Epoch: 162/14999 | Loss: 0.0002 | Episodes: 18 | Win count: 111 | Win rate: 1.000 | time: 18.41 minutes\n",
      "Epoch: 163/14999 | Loss: 0.0004 | Episodes: 29 | Win count: 112 | Win rate: 1.000 | time: 18.45 minutes\n",
      "Epoch: 164/14999 | Loss: 0.0004 | Episodes: 24 | Win count: 113 | Win rate: 1.000 | time: 18.48 minutes\n",
      "Epoch: 165/14999 | Loss: 0.0009 | Episodes: 56 | Win count: 114 | Win rate: 1.000 | time: 18.55 minutes\n",
      "Epoch: 166/14999 | Loss: 0.0007 | Episodes: 11 | Win count: 115 | Win rate: 1.000 | time: 18.56 minutes\n",
      "Epoch: 167/14999 | Loss: 0.0010 | Episodes: 39 | Win count: 116 | Win rate: 1.000 | time: 18.61 minutes\n",
      "Epoch: 168/14999 | Loss: 0.0009 | Episodes: 23 | Win count: 117 | Win rate: 1.000 | time: 18.64 minutes\n",
      "Epoch: 169/14999 | Loss: 0.0007 | Episodes: 54 | Win count: 118 | Win rate: 1.000 | time: 18.71 minutes\n",
      "Epoch: 170/14999 | Loss: 0.0007 | Episodes: 4 | Win count: 119 | Win rate: 1.000 | time: 18.72 minutes\n",
      "Epoch: 171/14999 | Loss: 0.0005 | Episodes: 24 | Win count: 120 | Win rate: 1.000 | time: 18.75 minutes\n",
      "Epoch: 172/14999 | Loss: 0.0008 | Episodes: 25 | Win count: 121 | Win rate: 1.000 | time: 18.78 minutes\n",
      "Epoch: 173/14999 | Loss: 0.0004 | Episodes: 32 | Win count: 122 | Win rate: 1.000 | time: 18.82 minutes\n",
      "Epoch: 174/14999 | Loss: 0.0006 | Episodes: 39 | Win count: 123 | Win rate: 1.000 | time: 18.87 minutes\n",
      "Epoch: 175/14999 | Loss: 0.0006 | Episodes: 43 | Win count: 124 | Win rate: 1.000 | time: 18.92 minutes\n",
      "Epoch: 176/14999 | Loss: 0.0003 | Episodes: 22 | Win count: 125 | Win rate: 1.000 | time: 18.95 minutes\n",
      "Epoch: 177/14999 | Loss: 0.0003 | Episodes: 43 | Win count: 126 | Win rate: 1.000 | time: 19.01 minutes\n",
      "Epoch: 178/14999 | Loss: 0.0008 | Episodes: 64 | Win count: 127 | Win rate: 1.000 | time: 19.09 minutes\n",
      "Epoch: 179/14999 | Loss: 0.0008 | Episodes: 17 | Win count: 128 | Win rate: 1.000 | time: 19.11 minutes\n",
      "Epoch: 180/14999 | Loss: 0.0009 | Episodes: 27 | Win count: 129 | Win rate: 1.000 | time: 19.15 minutes\n",
      "Epoch: 181/14999 | Loss: 0.0009 | Episodes: 59 | Win count: 130 | Win rate: 1.000 | time: 19.22 minutes\n",
      "Epoch: 182/14999 | Loss: 0.0006 | Episodes: 43 | Win count: 131 | Win rate: 1.000 | time: 19.28 minutes\n",
      "Epoch: 183/14999 | Loss: 0.0015 | Episodes: 7 | Win count: 132 | Win rate: 1.000 | time: 19.29 minutes\n",
      "Epoch: 184/14999 | Loss: 0.0003 | Episodes: 18 | Win count: 133 | Win rate: 1.000 | time: 19.31 minutes\n",
      "Epoch: 185/14999 | Loss: 0.0005 | Episodes: 24 | Win count: 134 | Win rate: 1.000 | time: 19.34 minutes\n",
      "Epoch: 186/14999 | Loss: 0.0004 | Episodes: 36 | Win count: 135 | Win rate: 1.000 | time: 19.39 minutes\n",
      "Epoch: 187/14999 | Loss: 0.0008 | Episodes: 25 | Win count: 136 | Win rate: 1.000 | time: 19.42 minutes\n",
      "Epoch: 188/14999 | Loss: 0.0005 | Episodes: 13 | Win count: 137 | Win rate: 1.000 | time: 19.44 minutes\n",
      "Epoch: 189/14999 | Loss: 0.0009 | Episodes: 19 | Win count: 138 | Win rate: 1.000 | time: 19.46 minutes\n",
      "Epoch: 190/14999 | Loss: 0.0007 | Episodes: 22 | Win count: 139 | Win rate: 1.000 | time: 19.49 minutes\n",
      "Epoch: 191/14999 | Loss: 0.0004 | Episodes: 37 | Win count: 140 | Win rate: 1.000 | time: 19.54 minutes\n",
      "Epoch: 192/14999 | Loss: 0.0005 | Episodes: 34 | Win count: 141 | Win rate: 1.000 | time: 19.58 minutes\n",
      "Epoch: 193/14999 | Loss: 0.0005 | Episodes: 14 | Win count: 142 | Win rate: 1.000 | time: 19.60 minutes\n",
      "Epoch: 194/14999 | Loss: 0.0005 | Episodes: 47 | Win count: 143 | Win rate: 1.000 | time: 19.66 minutes\n",
      "Epoch: 195/14999 | Loss: 0.0005 | Episodes: 21 | Win count: 144 | Win rate: 1.000 | time: 19.69 minutes\n",
      "Epoch: 196/14999 | Loss: 0.0002 | Episodes: 23 | Win count: 145 | Win rate: 1.000 | time: 19.72 minutes\n",
      "Epoch: 197/14999 | Loss: 0.0001 | Episodes: 28 | Win count: 146 | Win rate: 1.000 | time: 19.76 minutes\n",
      "Epoch: 198/14999 | Loss: 0.0006 | Episodes: 27 | Win count: 147 | Win rate: 1.000 | time: 19.79 minutes\n",
      "Epoch: 199/14999 | Loss: 0.0009 | Episodes: 44 | Win count: 148 | Win rate: 1.000 | time: 19.85 minutes\n",
      "Epoch: 200/14999 | Loss: 0.0010 | Episodes: 42 | Win count: 149 | Win rate: 1.000 | time: 19.90 minutes\n",
      "Epoch: 201/14999 | Loss: 0.0010 | Episodes: 23 | Win count: 150 | Win rate: 1.000 | time: 19.93 minutes\n",
      "Epoch: 202/14999 | Loss: 0.0012 | Episodes: 10 | Win count: 151 | Win rate: 1.000 | time: 19.94 minutes\n",
      "Epoch: 203/14999 | Loss: 0.0001 | Episodes: 21 | Win count: 152 | Win rate: 1.000 | time: 19.97 minutes\n",
      "Epoch: 204/14999 | Loss: 0.0011 | Episodes: 23 | Win count: 153 | Win rate: 1.000 | time: 20.00 minutes\n",
      "Epoch: 205/14999 | Loss: 0.0017 | Episodes: 25 | Win count: 154 | Win rate: 1.000 | time: 20.03 minutes\n",
      "Epoch: 206/14999 | Loss: 0.0011 | Episodes: 3 | Win count: 155 | Win rate: 1.000 | time: 20.04 minutes\n",
      "Epoch: 207/14999 | Loss: 0.0002 | Episodes: 32 | Win count: 156 | Win rate: 1.000 | time: 20.08 minutes\n",
      "Epoch: 208/14999 | Loss: 0.0005 | Episodes: 35 | Win count: 157 | Win rate: 1.000 | time: 20.12 minutes\n",
      "Epoch: 209/14999 | Loss: 0.0020 | Episodes: 41 | Win count: 158 | Win rate: 1.000 | time: 20.18 minutes\n",
      "Epoch: 210/14999 | Loss: 0.0004 | Episodes: 50 | Win count: 159 | Win rate: 1.000 | time: 20.24 minutes\n",
      "Epoch: 211/14999 | Loss: 0.0006 | Episodes: 38 | Win count: 160 | Win rate: 1.000 | time: 20.29 minutes\n",
      "Epoch: 212/14999 | Loss: 0.0001 | Episodes: 16 | Win count: 161 | Win rate: 1.000 | time: 20.31 minutes\n",
      "Epoch: 213/14999 | Loss: 0.0010 | Episodes: 18 | Win count: 162 | Win rate: 1.000 | time: 20.33 minutes\n",
      "Epoch: 214/14999 | Loss: 0.0017 | Episodes: 33 | Win count: 163 | Win rate: 1.000 | time: 20.37 minutes\n",
      "Epoch: 215/14999 | Loss: 0.0004 | Episodes: 23 | Win count: 164 | Win rate: 1.000 | time: 20.40 minutes\n",
      "Epoch: 216/14999 | Loss: 0.0002 | Episodes: 40 | Win count: 165 | Win rate: 1.000 | time: 20.46 minutes\n",
      "Epoch: 217/14999 | Loss: 0.0004 | Episodes: 41 | Win count: 166 | Win rate: 1.000 | time: 20.51 minutes\n",
      "Epoch: 218/14999 | Loss: 0.0003 | Episodes: 20 | Win count: 167 | Win rate: 1.000 | time: 20.53 minutes\n",
      "Epoch: 219/14999 | Loss: 0.0018 | Episodes: 15 | Win count: 168 | Win rate: 1.000 | time: 20.55 minutes\n",
      "Epoch: 220/14999 | Loss: 0.0004 | Episodes: 6 | Win count: 169 | Win rate: 1.000 | time: 20.56 minutes\n",
      "Epoch: 221/14999 | Loss: 0.0007 | Episodes: 5 | Win count: 170 | Win rate: 1.000 | time: 20.58 minutes\n",
      "Epoch: 222/14999 | Loss: 0.0006 | Episodes: 18 | Win count: 171 | Win rate: 1.000 | time: 20.60 minutes\n",
      "Epoch: 223/14999 | Loss: 0.0002 | Episodes: 48 | Win count: 172 | Win rate: 1.000 | time: 20.66 minutes\n",
      "Epoch: 224/14999 | Loss: 0.0019 | Episodes: 20 | Win count: 173 | Win rate: 1.000 | time: 20.69 minutes\n",
      "Reached 100% win rate at epoch: 224\n",
      "files: model.h5, model.json\n",
      "n_epoch: 224, max_mem: 800, data: 32, time: 20.71 minutes\n"
     ]
    },
    {
     "data": {
      "text/plain": [
       "1242.558181"
      ]
     },
     "execution_count": 14,
     "metadata": {},
     "output_type": "execute_result"
    }
   ],
   "source": [
    "model = build_model(maze)\n",
    "qtrain(model, maze, epochs=1000, max_memory=8*maze.size, data_size=32)"
   ]
  },
  {
   "cell_type": "code",
   "execution_count": 42,
   "metadata": {
    "colab": {},
    "colab_type": "code",
    "id": "oj3EC2GBDkYu"
   },
   "outputs": [
    {
     "data": {
      "image/png": "[encoded data removed]",
      "text/plain": [
       "<Figure size 432x288 with 1 Axes>"
      ]
     },
     "metadata": {},
     "output_type": "display_data"
    },
    {
     "data": {
      "image/png": "[encoded data removed]",
      "text/plain": [
       "<Figure size 432x288 with 1 Axes>"
      ]
     },
     "metadata": {
      "needs_background": "light"
     },
     "output_type": "display_data"
    }
   ],
   "source": [
    "rat_cell = random.choice(qmaze.free_cells)\n",
    "qmaze.reset(rat_cell)\n",
    "envstate = qmaze.observe()\n",
    "game_status = 'lose'\n",
    "i=0\n",
    "x = 7\n",
    "q_v = []\n",
    "env_s = []\n",
    "while(game_status != 'win'):\n",
    "    q = model.predict(envstate)\n",
    "    if i>= x and i<3+x:\n",
    "        q_v.append(q[0])\n",
    "        env_s.append(envstate)\n",
    "        \n",
    "    action = np.argmax(q[0])\n",
    "    #   action = np.argmax(model.predict(envstate))\n",
    "    envstate, reward, game_status = qmaze.act(action)\n",
    "    show(qmaze)\n",
    "    display.clear_output(wait=True)\n",
    "    display.display(pl.gcf())\n",
    "    plt.gca().clear()\n",
    "    sleep(0.2)\n",
    "    i+=1"
   ]
  },
  {
   "cell_type": "code",
   "execution_count": 43,
   "metadata": {},
   "outputs": [
    {
     "name": "stdout",
     "output_type": "stream",
     "text": [
      "    Left         Up          Right       Down\n",
      "[ 0.16977614 -0.1403308   0.5336234  -0.37354964]\n"
     ]
    },
    {
     "data": {
      "image/png": "[encoded data removed]",
      "text/plain": [
       "<Figure size 432x288 with 1 Axes>"
      ]
     },
     "metadata": {
      "needs_background": "light"
     },
     "output_type": "display_data"
    },
    {
     "name": "stdout",
     "output_type": "stream",
     "text": [
      "    Left         Up          Right       Down\n",
      "[ 0.2814235   0.6327476  -0.539765   -0.50499475]\n"
     ]
    },
    {
     "data": {
      "image/png": "[encoded data removed]",
      "text/plain": [
       "<Figure size 432x288 with 1 Axes>"
      ]
     },
     "metadata": {
      "needs_background": "light"
     },
     "output_type": "display_data"
    },
    {
     "name": "stdout",
     "output_type": "stream",
     "text": [
      "    Left         Up          Right       Down\n",
      "[ 0.24167418  0.08761132  0.7425209  -0.40212566]\n"
     ]
    },
    {
     "data": {
      "image/png": "[encoded data removed]",
      "text/plain": [
       "<Figure size 432x288 with 1 Axes>"
      ]
     },
     "metadata": {
      "needs_background": "light"
     },
     "output_type": "display_data"
    }
   ],
   "source": [
    "mapa= []\n",
    "j=0\n",
    "for k in range(3):\n",
    "    m = np.zeros(maze.shape)\n",
    "    for i in range(m.shape[0]):\n",
    "        m[i] = env_s[k][0][j:j+m.shape[0]]\n",
    "        j+=m.shape[0]\n",
    "    mapa.append(m)\n",
    "    j=0 \n",
    "print('    Left         Up          Right       Down')\n",
    "print(q_v[0])\n",
    "plt.imshow(mapa[0], cmap = 'gray')\n",
    "plt.show()\n",
    "print('    Left         Up          Right       Down')\n",
    "print(q_v[1])\n",
    "plt.imshow(mapa[1], cmap = 'gray')\n",
    "plt.show()\n",
    "print('    Left         Up          Right       Down')\n",
    "print(q_v[2])\n",
    "plt.imshow(mapa[2], cmap = 'gray')\n",
    "plt.show()"
   ]
  },
  {
   "cell_type": "code",
   "execution_count": null,
   "metadata": {},
   "outputs": [],
   "source": []
  },
  {
   "cell_type": "code",
   "execution_count": null,
   "metadata": {},
   "outputs": [],
   "source": []
  }
 ],
 "metadata": {
  "colab": {
   "collapsed_sections": [],
   "name": "palpite.ipynb",
   "provenance": []
  },
  "kernelspec": {
   "display_name": "Python 3",
   "language": "python",
   "name": "python3"
  },
  "language_info": {
   "codemirror_mode": {
    "name": "ipython",
    "version": 3
   },
   "file_extension": ".py",
   "mimetype": "text/x-python",
   "name": "python",
   "nbconvert_exporter": "python",
   "pygments_lexer": "ipython3",
   "version": "3.7.3"
  }
 },
 "nbformat": 4,
 "nbformat_minor": 1
}
