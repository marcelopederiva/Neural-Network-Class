{
 "cells": [
  {
   "cell_type": "markdown",
   "metadata": {},
   "source": [
    "# Natural Language Processing - Word Embedding\n",
    "# FEEC/Unicamp - July/2020\n",
    "### Based on https://kavita-ganesan.com/gensim-word2vec-tutorial-starter-code/#.Xwa18pWSncc\n",
    "### Based on https://github.com/kavgan/nlp-in-practice/blob/master/word2vec/Word2Vec.ipynb\n",
    "### Based on https://www.kaggle.com/pierremegret/gensim-word2vec-tutorial"
   ]
  },
  {
   "cell_type": "code",
   "execution_count": 1,
   "metadata": {},
   "outputs": [],
   "source": [
    "# Imports needed and logging\n",
    "import numpy as np\n",
    "from sklearn.decomposition import PCA\n",
    "import pandas as pd\n",
    "from matplotlib import pyplot as plt\n",
    "import sklearn\n",
    "from sklearn.manifold import TSNE\n",
    "import seaborn as sns\n",
    "import gzip\n",
    "import gensim \n",
    "import logging\n",
    "\n",
    "logging.basicConfig(format='%(asctime)s : %(levelname)s : %(message)s', level=logging.INFO)"
   ]
  },
  {
   "cell_type": "code",
   "execution_count": 2,
   "metadata": {},
   "outputs": [
    {
     "name": "stdout",
     "output_type": "stream",
     "text": [
      "b\"Oct 12 2009 \\tNice trendy hotel location not too bad.\\tI stayed in this hotel for one night. As this is a fairly new place some of the taxi drivers did not know where it was and/or did not want to drive there. Once I have eventually arrived at the hotel, I was very pleasantly surprised with the decor of the lobby/ground floor area. It was very stylish and modern. I found the reception's staff geeting me with 'Aloha' a bit out of place, but I guess they are briefed to say that to keep up the coroporate image.As I have a Starwood Preferred Guest member, I was given a small gift upon-check in. It was only a couple of fridge magnets in a gift box, but nevertheless a nice gesture.My room was nice and roomy, there are tea and coffee facilities in each room and you get two complimentary bottles of water plus some toiletries by 'bliss'.The location is not great. It is at the last metro stop and you then need to take a taxi, but if you are not planning on going to see the historic sites in Beijing, then you will be ok.I chose to have some breakfast in the hotel, which was really tasty and there was a good selection of dishes. There are a couple of computers to use in the communal area, as well as a pool table. There is also a small swimming pool and a gym area.I would definitely stay in this hotel again, but only if I did not plan to travel to central Beijing, as it can take a long time. The location is ok if you plan to do a lot of shopping, as there is a big shopping centre just few minutes away from the hotel and there are plenty of eating options around, including restaurants that serve a dog meat!\\t\\r\\n\"\n"
     ]
    }
   ],
   "source": [
    "data_file=\"reviews_data.txt.gz\" # Please, define the working directory appropriately\n",
    "\n",
    "with gzip.open ('reviews_data.txt.gz', 'rb') as f:\n",
    "    for i,line in enumerate (f):\n",
    "        print(line)\n",
    "        break"
   ]
  },
  {
   "cell_type": "code",
   "execution_count": 3,
   "metadata": {},
   "outputs": [
    {
     "name": "stderr",
     "output_type": "stream",
     "text": [
      "2020-07-21 15:15:52,975 : INFO : reading file reviews_data.txt.gz...this may take a while\n",
      "2020-07-21 15:15:52,976 : INFO : read 0 reviews\n",
      "2020-07-21 15:15:54,733 : INFO : read 10000 reviews\n",
      "2020-07-21 15:15:56,489 : INFO : read 20000 reviews\n",
      "2020-07-21 15:15:58,526 : INFO : read 30000 reviews\n",
      "2020-07-21 15:16:00,444 : INFO : read 40000 reviews\n",
      "2020-07-21 15:16:02,547 : INFO : read 50000 reviews\n",
      "2020-07-21 15:16:04,736 : INFO : read 60000 reviews\n",
      "2020-07-21 15:16:06,454 : INFO : read 70000 reviews\n",
      "2020-07-21 15:16:08,014 : INFO : read 80000 reviews\n",
      "2020-07-21 15:16:09,687 : INFO : read 90000 reviews\n",
      "2020-07-21 15:16:11,296 : INFO : read 100000 reviews\n",
      "2020-07-21 15:16:12,896 : INFO : read 110000 reviews\n",
      "2020-07-21 15:16:14,490 : INFO : read 120000 reviews\n",
      "2020-07-21 15:16:16,137 : INFO : read 130000 reviews\n",
      "2020-07-21 15:16:17,874 : INFO : read 140000 reviews\n",
      "2020-07-21 15:16:19,791 : INFO : read 150000 reviews\n",
      "2020-07-21 15:16:21,489 : INFO : read 160000 reviews\n",
      "2020-07-21 15:16:23,112 : INFO : read 170000 reviews\n",
      "2020-07-21 15:16:24,834 : INFO : read 180000 reviews\n",
      "2020-07-21 15:16:26,493 : INFO : read 190000 reviews\n",
      "2020-07-21 15:16:28,305 : INFO : read 200000 reviews\n",
      "2020-07-21 15:16:30,079 : INFO : read 210000 reviews\n",
      "2020-07-21 15:16:31,825 : INFO : read 220000 reviews\n",
      "2020-07-21 15:16:33,410 : INFO : read 230000 reviews\n",
      "2020-07-21 15:16:35,537 : INFO : read 240000 reviews\n",
      "2020-07-21 15:16:37,193 : INFO : read 250000 reviews\n",
      "2020-07-21 15:16:38,079 : INFO : Done reading data file\n"
     ]
    }
   ],
   "source": [
    "def read_input(input_file):\n",
    "    \"\"\"This method reads the input file which is in gzip format\"\"\"\n",
    "    \n",
    "    logging.info(\"reading file {0}...this may take a while\".format(input_file))\n",
    "    \n",
    "    with gzip.open (input_file, 'rb') as f:\n",
    "        for i, line in enumerate (f): \n",
    "\n",
    "            if (i%10000==0):\n",
    "                logging.info (\"read {0} reviews\".format (i))\n",
    "            # do some pre-processing and return a list of words for each review text\n",
    "            yield gensim.utils.simple_preprocess (line)\n",
    "\n",
    "# read the tokenized reviews into a list\n",
    "# each review item becomes a serries of words\n",
    "# so this becomes a list of lists\n",
    "documents = list (read_input (data_file))\n",
    "logging.info (\"Done reading data file\")"
   ]
  },
  {
   "cell_type": "code",
   "execution_count": 4,
   "metadata": {},
   "outputs": [
    {
     "name": "stderr",
     "output_type": "stream",
     "text": [
      "2020-07-21 15:16:38,084 : WARNING : consider setting layer size to a multiple of 4 for greater performance\n",
      "2020-07-21 15:16:38,104 : INFO : collecting all words and their counts\n",
      "2020-07-21 15:16:38,105 : INFO : PROGRESS: at sentence #0, processed 0 words, keeping 0 word types\n",
      "2020-07-21 15:16:38,311 : INFO : PROGRESS: at sentence #10000, processed 1655714 words, keeping 25777 word types\n",
      "2020-07-21 15:16:38,517 : INFO : PROGRESS: at sentence #20000, processed 3317863 words, keeping 35016 word types\n",
      "2020-07-21 15:16:38,762 : INFO : PROGRESS: at sentence #30000, processed 5264072 words, keeping 47518 word types\n",
      "2020-07-21 15:16:38,986 : INFO : PROGRESS: at sentence #40000, processed 7081746 words, keeping 56675 word types\n",
      "2020-07-21 15:16:39,243 : INFO : PROGRESS: at sentence #50000, processed 9089491 words, keeping 63744 word types\n",
      "2020-07-21 15:16:39,484 : INFO : PROGRESS: at sentence #60000, processed 11013723 words, keeping 76781 word types\n",
      "2020-07-21 15:16:39,684 : INFO : PROGRESS: at sentence #70000, processed 12637525 words, keeping 83194 word types\n",
      "2020-07-21 15:16:39,868 : INFO : PROGRESS: at sentence #80000, processed 14099751 words, keeping 88454 word types\n",
      "2020-07-21 15:16:40,067 : INFO : PROGRESS: at sentence #90000, processed 15662149 words, keeping 93352 word types\n",
      "2020-07-21 15:16:40,257 : INFO : PROGRESS: at sentence #100000, processed 17164487 words, keeping 97881 word types\n",
      "2020-07-21 15:16:40,444 : INFO : PROGRESS: at sentence #110000, processed 18652292 words, keeping 102127 word types\n",
      "2020-07-21 15:16:40,631 : INFO : PROGRESS: at sentence #120000, processed 20152529 words, keeping 105918 word types\n",
      "2020-07-21 15:16:40,823 : INFO : PROGRESS: at sentence #130000, processed 21684330 words, keeping 110099 word types\n",
      "2020-07-21 15:16:41,030 : INFO : PROGRESS: at sentence #140000, processed 23330206 words, keeping 114103 word types\n",
      "2020-07-21 15:16:41,234 : INFO : PROGRESS: at sentence #150000, processed 24838754 words, keeping 118169 word types\n",
      "2020-07-21 15:16:41,429 : INFO : PROGRESS: at sentence #160000, processed 26390910 words, keeping 118665 word types\n",
      "2020-07-21 15:16:41,623 : INFO : PROGRESS: at sentence #170000, processed 27913916 words, keeping 123350 word types\n",
      "2020-07-21 15:16:41,823 : INFO : PROGRESS: at sentence #180000, processed 29535612 words, keeping 126742 word types\n",
      "2020-07-21 15:16:42,016 : INFO : PROGRESS: at sentence #190000, processed 31096459 words, keeping 129841 word types\n",
      "2020-07-21 15:16:42,233 : INFO : PROGRESS: at sentence #200000, processed 32805271 words, keeping 133249 word types\n",
      "2020-07-21 15:16:42,438 : INFO : PROGRESS: at sentence #210000, processed 34434198 words, keeping 136358 word types\n",
      "2020-07-21 15:16:42,644 : INFO : PROGRESS: at sentence #220000, processed 36083482 words, keeping 139412 word types\n",
      "2020-07-21 15:16:42,834 : INFO : PROGRESS: at sentence #230000, processed 37571762 words, keeping 142393 word types\n",
      "2020-07-21 15:16:43,030 : INFO : PROGRESS: at sentence #240000, processed 39138190 words, keeping 145226 word types\n",
      "2020-07-21 15:16:43,229 : INFO : PROGRESS: at sentence #250000, processed 40695049 words, keeping 147960 word types\n",
      "2020-07-21 15:16:43,336 : INFO : collected 150053 word types from a corpus of 41519355 raw words and 255404 sentences\n",
      "2020-07-21 15:16:43,336 : INFO : Loading a fresh vocabulary\n",
      "2020-07-21 15:16:43,459 : INFO : effective_min_count=2 retains 70538 unique words (47% of original 150053, drops 79515)\n",
      "2020-07-21 15:16:43,460 : INFO : effective_min_count=2 leaves 41439840 word corpus (99% of original 41519355, drops 79515)\n",
      "2020-07-21 15:16:43,664 : INFO : deleting the raw counts dictionary of 150053 items\n",
      "2020-07-21 15:16:43,668 : INFO : sample=0.001 downsamples 55 most-common words\n",
      "2020-07-21 15:16:43,668 : INFO : downsampling leaves estimated 30349255 word corpus (73.2% of prior 41439840)\n",
      "2020-07-21 15:16:43,843 : INFO : estimated required memory for 70538 words and 150 dimensions: 119914600 bytes\n",
      "2020-07-21 15:16:43,843 : INFO : resetting layer weights\n",
      "2020-07-21 15:16:55,366 : INFO : training model with 10 workers on 70538 vocabulary and 150 features, using sg=0 hs=0 sample=0.001 negative=5 window=10\n",
      "2020-07-21 15:16:56,371 : INFO : EPOCH 1 - PROGRESS: at 6.14% examples, 1896658 words/s, in_qsize 19, out_qsize 0\n",
      "2020-07-21 15:16:57,373 : INFO : EPOCH 1 - PROGRESS: at 12.09% examples, 1981898 words/s, in_qsize 18, out_qsize 1\n",
      "2020-07-21 15:16:58,375 : INFO : EPOCH 1 - PROGRESS: at 17.85% examples, 1995063 words/s, in_qsize 19, out_qsize 0\n",
      "2020-07-21 15:16:59,379 : INFO : EPOCH 1 - PROGRESS: at 23.39% examples, 1999127 words/s, in_qsize 17, out_qsize 2\n",
      "2020-07-21 15:17:00,381 : INFO : EPOCH 1 - PROGRESS: at 30.06% examples, 1992135 words/s, in_qsize 18, out_qsize 0\n",
      "2020-07-21 15:17:01,388 : INFO : EPOCH 1 - PROGRESS: at 37.32% examples, 2002144 words/s, in_qsize 18, out_qsize 0\n",
      "2020-07-21 15:17:02,388 : INFO : EPOCH 1 - PROGRESS: at 44.53% examples, 1999182 words/s, in_qsize 20, out_qsize 0\n",
      "2020-07-21 15:17:03,389 : INFO : EPOCH 1 - PROGRESS: at 51.41% examples, 1996535 words/s, in_qsize 19, out_qsize 1\n",
      "2020-07-21 15:17:04,400 : INFO : EPOCH 1 - PROGRESS: at 58.23% examples, 1995022 words/s, in_qsize 19, out_qsize 3\n",
      "2020-07-21 15:17:05,416 : INFO : EPOCH 1 - PROGRESS: at 65.30% examples, 1992691 words/s, in_qsize 20, out_qsize 5\n",
      "2020-07-21 15:17:06,426 : INFO : EPOCH 1 - PROGRESS: at 71.97% examples, 1994694 words/s, in_qsize 17, out_qsize 4\n",
      "2020-07-21 15:17:07,434 : INFO : EPOCH 1 - PROGRESS: at 78.71% examples, 1998064 words/s, in_qsize 20, out_qsize 0\n",
      "2020-07-21 15:17:08,437 : INFO : EPOCH 1 - PROGRESS: at 85.17% examples, 1996586 words/s, in_qsize 17, out_qsize 2\n",
      "2020-07-21 15:17:09,441 : INFO : EPOCH 1 - PROGRESS: at 92.17% examples, 1994753 words/s, in_qsize 20, out_qsize 0\n",
      "2020-07-21 15:17:10,446 : INFO : EPOCH 1 - PROGRESS: at 99.04% examples, 1995314 words/s, in_qsize 18, out_qsize 1\n",
      "2020-07-21 15:17:10,555 : INFO : worker thread finished; awaiting finish of 9 more threads\n",
      "2020-07-21 15:17:10,565 : INFO : worker thread finished; awaiting finish of 8 more threads\n",
      "2020-07-21 15:17:10,571 : INFO : worker thread finished; awaiting finish of 7 more threads\n",
      "2020-07-21 15:17:10,575 : INFO : worker thread finished; awaiting finish of 6 more threads\n",
      "2020-07-21 15:17:10,578 : INFO : worker thread finished; awaiting finish of 5 more threads\n",
      "2020-07-21 15:17:10,582 : INFO : worker thread finished; awaiting finish of 4 more threads\n",
      "2020-07-21 15:17:10,587 : INFO : worker thread finished; awaiting finish of 3 more threads\n",
      "2020-07-21 15:17:10,588 : INFO : worker thread finished; awaiting finish of 2 more threads\n",
      "2020-07-21 15:17:10,595 : INFO : worker thread finished; awaiting finish of 1 more threads\n",
      "2020-07-21 15:17:10,597 : INFO : worker thread finished; awaiting finish of 0 more threads\n",
      "2020-07-21 15:17:10,598 : INFO : EPOCH - 1 : training on 41519355 raw words (30349617 effective words) took 15.2s, 1993066 effective words/s\n",
      "2020-07-21 15:17:11,607 : INFO : EPOCH 2 - PROGRESS: at 6.35% examples, 1952862 words/s, in_qsize 18, out_qsize 1\n",
      "2020-07-21 15:17:12,615 : INFO : EPOCH 2 - PROGRESS: at 12.09% examples, 1974365 words/s, in_qsize 17, out_qsize 0\n",
      "2020-07-21 15:17:13,620 : INFO : EPOCH 2 - PROGRESS: at 17.82% examples, 1983751 words/s, in_qsize 18, out_qsize 0\n",
      "2020-07-21 15:17:14,624 : INFO : EPOCH 2 - PROGRESS: at 23.23% examples, 1976579 words/s, in_qsize 17, out_qsize 3\n",
      "2020-07-21 15:17:15,632 : INFO : EPOCH 2 - PROGRESS: at 30.05% examples, 1983171 words/s, in_qsize 18, out_qsize 4\n",
      "2020-07-21 15:17:16,639 : INFO : EPOCH 2 - PROGRESS: at 37.10% examples, 1984750 words/s, in_qsize 19, out_qsize 0\n",
      "2020-07-21 15:17:17,641 : INFO : EPOCH 2 - PROGRESS: at 44.25% examples, 1982824 words/s, in_qsize 20, out_qsize 2\n",
      "2020-07-21 15:17:18,643 : INFO : EPOCH 2 - PROGRESS: at 51.15% examples, 1981131 words/s, in_qsize 20, out_qsize 1\n",
      "2020-07-21 15:17:19,644 : INFO : EPOCH 2 - PROGRESS: at 57.80% examples, 1978007 words/s, in_qsize 17, out_qsize 2\n",
      "2020-07-21 15:17:20,647 : INFO : EPOCH 2 - PROGRESS: at 64.96% examples, 1981174 words/s, in_qsize 18, out_qsize 0\n",
      "2020-07-21 15:17:21,650 : INFO : EPOCH 2 - PROGRESS: at 71.24% examples, 1976608 words/s, in_qsize 16, out_qsize 0\n"
     ]
    },
    {
     "name": "stderr",
     "output_type": "stream",
     "text": [
      "2020-07-21 15:17:22,655 : INFO : EPOCH 2 - PROGRESS: at 77.74% examples, 1975303 words/s, in_qsize 20, out_qsize 0\n",
      "2020-07-21 15:17:23,667 : INFO : EPOCH 2 - PROGRESS: at 84.29% examples, 1975056 words/s, in_qsize 19, out_qsize 2\n",
      "2020-07-21 15:17:24,667 : INFO : EPOCH 2 - PROGRESS: at 91.21% examples, 1976038 words/s, in_qsize 19, out_qsize 0\n",
      "2020-07-21 15:17:25,677 : INFO : EPOCH 2 - PROGRESS: at 97.97% examples, 1974625 words/s, in_qsize 19, out_qsize 0\n",
      "2020-07-21 15:17:25,967 : INFO : worker thread finished; awaiting finish of 9 more threads\n",
      "2020-07-21 15:17:25,970 : INFO : worker thread finished; awaiting finish of 8 more threads\n",
      "2020-07-21 15:17:25,972 : INFO : worker thread finished; awaiting finish of 7 more threads\n",
      "2020-07-21 15:17:25,973 : INFO : worker thread finished; awaiting finish of 6 more threads\n",
      "2020-07-21 15:17:25,974 : INFO : worker thread finished; awaiting finish of 5 more threads\n",
      "2020-07-21 15:17:25,975 : INFO : worker thread finished; awaiting finish of 4 more threads\n",
      "2020-07-21 15:17:25,976 : INFO : worker thread finished; awaiting finish of 3 more threads\n",
      "2020-07-21 15:17:25,976 : INFO : worker thread finished; awaiting finish of 2 more threads\n",
      "2020-07-21 15:17:25,980 : INFO : worker thread finished; awaiting finish of 1 more threads\n",
      "2020-07-21 15:17:25,989 : INFO : worker thread finished; awaiting finish of 0 more threads\n",
      "2020-07-21 15:17:25,990 : INFO : EPOCH - 2 : training on 41519355 raw words (30348946 effective words) took 15.4s, 1972299 effective words/s\n",
      "2020-07-21 15:17:26,996 : INFO : EPOCH 3 - PROGRESS: at 6.33% examples, 1951419 words/s, in_qsize 19, out_qsize 0\n",
      "2020-07-21 15:17:27,998 : INFO : EPOCH 3 - PROGRESS: at 11.94% examples, 1951481 words/s, in_qsize 19, out_qsize 0\n",
      "2020-07-21 15:17:29,001 : INFO : EPOCH 3 - PROGRESS: at 17.63% examples, 1966826 words/s, in_qsize 18, out_qsize 1\n",
      "2020-07-21 15:17:30,009 : INFO : EPOCH 3 - PROGRESS: at 23.05% examples, 1962207 words/s, in_qsize 19, out_qsize 0\n",
      "2020-07-21 15:17:31,011 : INFO : EPOCH 3 - PROGRESS: at 29.72% examples, 1968358 words/s, in_qsize 19, out_qsize 0\n",
      "2020-07-21 15:17:32,013 : INFO : EPOCH 3 - PROGRESS: at 36.66% examples, 1968229 words/s, in_qsize 19, out_qsize 0\n",
      "2020-07-21 15:17:33,021 : INFO : EPOCH 3 - PROGRESS: at 43.91% examples, 1973092 words/s, in_qsize 19, out_qsize 0\n",
      "2020-07-21 15:17:34,024 : INFO : EPOCH 3 - PROGRESS: at 50.83% examples, 1971561 words/s, in_qsize 19, out_qsize 0\n",
      "2020-07-21 15:17:35,025 : INFO : EPOCH 3 - PROGRESS: at 57.47% examples, 1969466 words/s, in_qsize 19, out_qsize 0\n",
      "2020-07-21 15:17:36,027 : INFO : EPOCH 3 - PROGRESS: at 64.39% examples, 1968245 words/s, in_qsize 18, out_qsize 2\n",
      "2020-07-21 15:17:37,045 : INFO : EPOCH 3 - PROGRESS: at 70.85% examples, 1965120 words/s, in_qsize 19, out_qsize 0\n",
      "2020-07-21 15:17:38,050 : INFO : EPOCH 3 - PROGRESS: at 77.31% examples, 1963178 words/s, in_qsize 18, out_qsize 1\n",
      "2020-07-21 15:17:39,066 : INFO : EPOCH 3 - PROGRESS: at 83.78% examples, 1962032 words/s, in_qsize 18, out_qsize 1\n",
      "2020-07-21 15:17:40,070 : INFO : EPOCH 3 - PROGRESS: at 90.57% examples, 1961985 words/s, in_qsize 19, out_qsize 0\n",
      "2020-07-21 15:17:41,071 : INFO : EPOCH 3 - PROGRESS: at 97.39% examples, 1963306 words/s, in_qsize 19, out_qsize 0\n",
      "2020-07-21 15:17:41,403 : INFO : worker thread finished; awaiting finish of 9 more threads\n",
      "2020-07-21 15:17:41,410 : INFO : worker thread finished; awaiting finish of 8 more threads\n",
      "2020-07-21 15:17:41,410 : INFO : worker thread finished; awaiting finish of 7 more threads\n",
      "2020-07-21 15:17:41,413 : INFO : worker thread finished; awaiting finish of 6 more threads\n",
      "2020-07-21 15:17:41,413 : INFO : worker thread finished; awaiting finish of 5 more threads\n",
      "2020-07-21 15:17:41,416 : INFO : worker thread finished; awaiting finish of 4 more threads\n",
      "2020-07-21 15:17:41,419 : INFO : worker thread finished; awaiting finish of 3 more threads\n",
      "2020-07-21 15:17:41,424 : INFO : worker thread finished; awaiting finish of 2 more threads\n",
      "2020-07-21 15:17:41,425 : INFO : worker thread finished; awaiting finish of 1 more threads\n",
      "2020-07-21 15:17:41,427 : INFO : worker thread finished; awaiting finish of 0 more threads\n",
      "2020-07-21 15:17:41,428 : INFO : EPOCH - 3 : training on 41519355 raw words (30353219 effective words) took 15.4s, 1966705 effective words/s\n",
      "2020-07-21 15:17:42,433 : INFO : EPOCH 4 - PROGRESS: at 6.38% examples, 1966385 words/s, in_qsize 19, out_qsize 0\n",
      "2020-07-21 15:17:43,437 : INFO : EPOCH 4 - PROGRESS: at 12.10% examples, 1982203 words/s, in_qsize 19, out_qsize 0\n",
      "2020-07-21 15:17:44,436 : INFO : EPOCH 4 - PROGRESS: at 17.68% examples, 1975431 words/s, in_qsize 17, out_qsize 0\n",
      "2020-07-21 15:17:45,437 : INFO : EPOCH 4 - PROGRESS: at 23.15% examples, 1975963 words/s, in_qsize 19, out_qsize 0\n",
      "2020-07-21 15:17:46,439 : INFO : EPOCH 4 - PROGRESS: at 29.66% examples, 1969193 words/s, in_qsize 17, out_qsize 2\n",
      "2020-07-21 15:17:47,448 : INFO : EPOCH 4 - PROGRESS: at 36.65% examples, 1968991 words/s, in_qsize 19, out_qsize 0\n",
      "2020-07-21 15:17:48,450 : INFO : EPOCH 4 - PROGRESS: at 43.90% examples, 1975548 words/s, in_qsize 19, out_qsize 0\n",
      "2020-07-21 15:17:49,461 : INFO : EPOCH 4 - PROGRESS: at 50.85% examples, 1972413 words/s, in_qsize 17, out_qsize 2\n",
      "2020-07-21 15:17:50,466 : INFO : EPOCH 4 - PROGRESS: at 57.56% examples, 1971676 words/s, in_qsize 19, out_qsize 0\n",
      "2020-07-21 15:17:51,472 : INFO : EPOCH 4 - PROGRESS: at 64.53% examples, 1970027 words/s, in_qsize 19, out_qsize 0\n",
      "2020-07-21 15:17:52,475 : INFO : EPOCH 4 - PROGRESS: at 70.90% examples, 1968080 words/s, in_qsize 19, out_qsize 0\n",
      "2020-07-21 15:17:53,476 : INFO : EPOCH 4 - PROGRESS: at 77.37% examples, 1966588 words/s, in_qsize 19, out_qsize 0\n",
      "2020-07-21 15:17:54,481 : INFO : EPOCH 4 - PROGRESS: at 83.73% examples, 1964054 words/s, in_qsize 19, out_qsize 0\n",
      "2020-07-21 15:17:55,485 : INFO : EPOCH 4 - PROGRESS: at 90.68% examples, 1966354 words/s, in_qsize 19, out_qsize 0\n",
      "2020-07-21 15:17:56,489 : INFO : EPOCH 4 - PROGRESS: at 97.55% examples, 1968828 words/s, in_qsize 18, out_qsize 1\n",
      "2020-07-21 15:17:56,813 : INFO : worker thread finished; awaiting finish of 9 more threads\n",
      "2020-07-21 15:17:56,818 : INFO : worker thread finished; awaiting finish of 8 more threads\n",
      "2020-07-21 15:17:56,826 : INFO : worker thread finished; awaiting finish of 7 more threads\n",
      "2020-07-21 15:17:56,826 : INFO : worker thread finished; awaiting finish of 6 more threads\n",
      "2020-07-21 15:17:56,828 : INFO : worker thread finished; awaiting finish of 5 more threads\n",
      "2020-07-21 15:17:56,831 : INFO : worker thread finished; awaiting finish of 4 more threads\n",
      "2020-07-21 15:17:56,833 : INFO : worker thread finished; awaiting finish of 3 more threads\n",
      "2020-07-21 15:17:56,835 : INFO : worker thread finished; awaiting finish of 2 more threads\n",
      "2020-07-21 15:17:56,838 : INFO : worker thread finished; awaiting finish of 1 more threads\n",
      "2020-07-21 15:17:56,839 : INFO : worker thread finished; awaiting finish of 0 more threads\n",
      "2020-07-21 15:17:56,839 : INFO : EPOCH - 4 : training on 41519355 raw words (30347621 effective words) took 15.4s, 1969702 effective words/s\n",
      "2020-07-21 15:17:57,853 : INFO : EPOCH 5 - PROGRESS: at 6.28% examples, 1920553 words/s, in_qsize 19, out_qsize 0\n",
      "2020-07-21 15:17:58,867 : INFO : EPOCH 5 - PROGRESS: at 12.02% examples, 1949412 words/s, in_qsize 17, out_qsize 2\n",
      "2020-07-21 15:17:59,873 : INFO : EPOCH 5 - PROGRESS: at 17.71% examples, 1963245 words/s, in_qsize 20, out_qsize 0\n",
      "2020-07-21 15:18:00,882 : INFO : EPOCH 5 - PROGRESS: at 23.07% examples, 1952261 words/s, in_qsize 17, out_qsize 2\n",
      "2020-07-21 15:18:01,885 : INFO : EPOCH 5 - PROGRESS: at 29.60% examples, 1951017 words/s, in_qsize 18, out_qsize 1\n",
      "2020-07-21 15:18:02,889 : INFO : EPOCH 5 - PROGRESS: at 36.43% examples, 1948508 words/s, in_qsize 19, out_qsize 0\n",
      "2020-07-21 15:18:03,896 : INFO : EPOCH 5 - PROGRESS: at 43.34% examples, 1943922 words/s, in_qsize 18, out_qsize 1\n",
      "2020-07-21 15:18:04,898 : INFO : EPOCH 5 - PROGRESS: at 50.23% examples, 1943524 words/s, in_qsize 19, out_qsize 0\n",
      "2020-07-21 15:18:05,899 : INFO : EPOCH 5 - PROGRESS: at 56.88% examples, 1945300 words/s, in_qsize 19, out_qsize 0\n",
      "2020-07-21 15:18:06,902 : INFO : EPOCH 5 - PROGRESS: at 63.52% examples, 1941222 words/s, in_qsize 18, out_qsize 1\n"
     ]
    },
    {
     "name": "stderr",
     "output_type": "stream",
     "text": [
      "2020-07-21 15:18:07,902 : INFO : EPOCH 5 - PROGRESS: at 70.05% examples, 1940859 words/s, in_qsize 19, out_qsize 0\n",
      "2020-07-21 15:18:08,907 : INFO : EPOCH 5 - PROGRESS: at 76.42% examples, 1938706 words/s, in_qsize 19, out_qsize 0\n",
      "2020-07-21 15:18:09,925 : INFO : EPOCH 5 - PROGRESS: at 82.91% examples, 1939148 words/s, in_qsize 19, out_qsize 0\n",
      "2020-07-21 15:18:10,944 : INFO : EPOCH 5 - PROGRESS: at 89.66% examples, 1940021 words/s, in_qsize 16, out_qsize 3\n",
      "2020-07-21 15:18:11,944 : INFO : EPOCH 5 - PROGRESS: at 96.53% examples, 1943487 words/s, in_qsize 19, out_qsize 0\n",
      "2020-07-21 15:18:12,410 : INFO : worker thread finished; awaiting finish of 9 more threads\n",
      "2020-07-21 15:18:12,424 : INFO : worker thread finished; awaiting finish of 8 more threads\n",
      "2020-07-21 15:18:12,431 : INFO : worker thread finished; awaiting finish of 7 more threads\n",
      "2020-07-21 15:18:12,432 : INFO : worker thread finished; awaiting finish of 6 more threads\n",
      "2020-07-21 15:18:12,433 : INFO : worker thread finished; awaiting finish of 5 more threads\n",
      "2020-07-21 15:18:12,434 : INFO : worker thread finished; awaiting finish of 4 more threads\n",
      "2020-07-21 15:18:12,434 : INFO : worker thread finished; awaiting finish of 3 more threads\n",
      "2020-07-21 15:18:12,440 : INFO : worker thread finished; awaiting finish of 2 more threads\n",
      "2020-07-21 15:18:12,441 : INFO : worker thread finished; awaiting finish of 1 more threads\n",
      "2020-07-21 15:18:12,443 : INFO : worker thread finished; awaiting finish of 0 more threads\n",
      "2020-07-21 15:18:12,444 : INFO : EPOCH - 5 : training on 41519355 raw words (30345234 effective words) took 15.6s, 1945201 effective words/s\n",
      "2020-07-21 15:18:12,444 : INFO : training on a 207596775 raw words (151744637 effective words) took 77.1s, 1968711 effective words/s\n",
      "2020-07-21 15:18:12,445 : WARNING : Effective 'alpha' higher than previous training cycles\n",
      "2020-07-21 15:18:12,446 : INFO : training model with 10 workers on 70538 vocabulary and 150 features, using sg=0 hs=0 sample=0.001 negative=5 window=10\n",
      "2020-07-21 15:18:13,453 : INFO : EPOCH 1 - PROGRESS: at 6.22% examples, 1910590 words/s, in_qsize 19, out_qsize 0\n",
      "2020-07-21 15:18:14,466 : INFO : EPOCH 1 - PROGRESS: at 11.85% examples, 1924850 words/s, in_qsize 20, out_qsize 0\n",
      "2020-07-21 15:18:15,466 : INFO : EPOCH 1 - PROGRESS: at 17.46% examples, 1938710 words/s, in_qsize 17, out_qsize 2\n",
      "2020-07-21 15:18:16,473 : INFO : EPOCH 1 - PROGRESS: at 22.88% examples, 1938157 words/s, in_qsize 19, out_qsize 0\n",
      "2020-07-21 15:18:17,477 : INFO : EPOCH 1 - PROGRESS: at 29.30% examples, 1940689 words/s, in_qsize 18, out_qsize 1\n",
      "2020-07-21 15:18:18,484 : INFO : EPOCH 1 - PROGRESS: at 36.31% examples, 1945820 words/s, in_qsize 19, out_qsize 0\n",
      "2020-07-21 15:18:19,492 : INFO : EPOCH 1 - PROGRESS: at 43.28% examples, 1944395 words/s, in_qsize 20, out_qsize 0\n",
      "2020-07-21 15:18:20,496 : INFO : EPOCH 1 - PROGRESS: at 50.32% examples, 1948944 words/s, in_qsize 20, out_qsize 0\n",
      "2020-07-21 15:18:21,501 : INFO : EPOCH 1 - PROGRESS: at 56.85% examples, 1945368 words/s, in_qsize 18, out_qsize 1\n",
      "2020-07-21 15:18:22,504 : INFO : EPOCH 1 - PROGRESS: at 63.32% examples, 1936911 words/s, in_qsize 17, out_qsize 3\n",
      "2020-07-21 15:18:23,508 : INFO : EPOCH 1 - PROGRESS: at 69.95% examples, 1937798 words/s, in_qsize 18, out_qsize 1\n",
      "2020-07-21 15:18:24,511 : INFO : EPOCH 1 - PROGRESS: at 76.38% examples, 1937980 words/s, in_qsize 18, out_qsize 1\n",
      "2020-07-21 15:18:25,519 : INFO : EPOCH 1 - PROGRESS: at 82.82% examples, 1939472 words/s, in_qsize 19, out_qsize 1\n",
      "2020-07-21 15:18:26,521 : INFO : EPOCH 1 - PROGRESS: at 89.46% examples, 1939576 words/s, in_qsize 18, out_qsize 1\n",
      "2020-07-21 15:18:27,525 : INFO : EPOCH 1 - PROGRESS: at 96.20% examples, 1941200 words/s, in_qsize 19, out_qsize 0\n",
      "2020-07-21 15:18:28,054 : INFO : worker thread finished; awaiting finish of 9 more threads\n",
      "2020-07-21 15:18:28,061 : INFO : worker thread finished; awaiting finish of 8 more threads\n",
      "2020-07-21 15:18:28,063 : INFO : worker thread finished; awaiting finish of 7 more threads\n",
      "2020-07-21 15:18:28,065 : INFO : worker thread finished; awaiting finish of 6 more threads\n",
      "2020-07-21 15:18:28,066 : INFO : worker thread finished; awaiting finish of 5 more threads\n",
      "2020-07-21 15:18:28,070 : INFO : worker thread finished; awaiting finish of 4 more threads\n",
      "2020-07-21 15:18:28,073 : INFO : worker thread finished; awaiting finish of 3 more threads\n",
      "2020-07-21 15:18:28,074 : INFO : worker thread finished; awaiting finish of 2 more threads\n",
      "2020-07-21 15:18:28,075 : INFO : worker thread finished; awaiting finish of 1 more threads\n",
      "2020-07-21 15:18:28,081 : INFO : worker thread finished; awaiting finish of 0 more threads\n",
      "2020-07-21 15:18:28,082 : INFO : EPOCH - 1 : training on 41519355 raw words (30347821 effective words) took 15.6s, 1941383 effective words/s\n",
      "2020-07-21 15:18:29,091 : INFO : EPOCH 2 - PROGRESS: at 6.21% examples, 1908345 words/s, in_qsize 19, out_qsize 0\n",
      "2020-07-21 15:18:30,102 : INFO : EPOCH 2 - PROGRESS: at 11.77% examples, 1910534 words/s, in_qsize 19, out_qsize 3\n",
      "2020-07-21 15:18:31,107 : INFO : EPOCH 2 - PROGRESS: at 17.44% examples, 1933502 words/s, in_qsize 20, out_qsize 0\n",
      "2020-07-21 15:18:32,107 : INFO : EPOCH 2 - PROGRESS: at 22.74% examples, 1926990 words/s, in_qsize 20, out_qsize 0\n",
      "2020-07-21 15:18:33,112 : INFO : EPOCH 2 - PROGRESS: at 29.07% examples, 1927107 words/s, in_qsize 19, out_qsize 1\n",
      "2020-07-21 15:18:34,120 : INFO : EPOCH 2 - PROGRESS: at 35.88% examples, 1928362 words/s, in_qsize 19, out_qsize 0\n",
      "2020-07-21 15:18:35,121 : INFO : EPOCH 2 - PROGRESS: at 42.84% examples, 1930132 words/s, in_qsize 20, out_qsize 0\n",
      "2020-07-21 15:18:36,129 : INFO : EPOCH 2 - PROGRESS: at 49.85% examples, 1933673 words/s, in_qsize 20, out_qsize 0\n",
      "2020-07-21 15:18:37,136 : INFO : EPOCH 2 - PROGRESS: at 56.42% examples, 1932012 words/s, in_qsize 20, out_qsize 2\n",
      "2020-07-21 15:18:38,136 : INFO : EPOCH 2 - PROGRESS: at 63.33% examples, 1937862 words/s, in_qsize 20, out_qsize 0\n",
      "2020-07-21 15:18:39,138 : INFO : EPOCH 2 - PROGRESS: at 69.83% examples, 1935167 words/s, in_qsize 19, out_qsize 0\n",
      "2020-07-21 15:18:40,148 : INFO : EPOCH 2 - PROGRESS: at 76.26% examples, 1934424 words/s, in_qsize 19, out_qsize 1\n",
      "2020-07-21 15:18:41,155 : INFO : EPOCH 2 - PROGRESS: at 82.73% examples, 1937339 words/s, in_qsize 18, out_qsize 1\n",
      "2020-07-21 15:18:42,169 : INFO : EPOCH 2 - PROGRESS: at 89.29% examples, 1934995 words/s, in_qsize 18, out_qsize 2\n",
      "2020-07-21 15:18:43,175 : INFO : EPOCH 2 - PROGRESS: at 96.04% examples, 1936033 words/s, in_qsize 19, out_qsize 1\n",
      "2020-07-21 15:18:43,724 : INFO : worker thread finished; awaiting finish of 9 more threads\n",
      "2020-07-21 15:18:43,725 : INFO : worker thread finished; awaiting finish of 8 more threads\n",
      "2020-07-21 15:18:43,730 : INFO : worker thread finished; awaiting finish of 7 more threads\n",
      "2020-07-21 15:18:43,733 : INFO : worker thread finished; awaiting finish of 6 more threads\n",
      "2020-07-21 15:18:43,737 : INFO : worker thread finished; awaiting finish of 5 more threads\n",
      "2020-07-21 15:18:43,740 : INFO : worker thread finished; awaiting finish of 4 more threads\n",
      "2020-07-21 15:18:43,741 : INFO : worker thread finished; awaiting finish of 3 more threads\n",
      "2020-07-21 15:18:43,742 : INFO : worker thread finished; awaiting finish of 2 more threads\n",
      "2020-07-21 15:18:43,743 : INFO : worker thread finished; awaiting finish of 1 more threads\n",
      "2020-07-21 15:18:43,748 : INFO : worker thread finished; awaiting finish of 0 more threads\n",
      "2020-07-21 15:18:43,749 : INFO : EPOCH - 2 : training on 41519355 raw words (30348054 effective words) took 15.7s, 1937554 effective words/s\n",
      "2020-07-21 15:18:44,753 : INFO : EPOCH 3 - PROGRESS: at 6.02% examples, 1859701 words/s, in_qsize 20, out_qsize 2\n",
      "2020-07-21 15:18:45,765 : INFO : EPOCH 3 - PROGRESS: at 11.68% examples, 1897107 words/s, in_qsize 18, out_qsize 1\n",
      "2020-07-21 15:18:46,778 : INFO : EPOCH 3 - PROGRESS: at 17.30% examples, 1914522 words/s, in_qsize 19, out_qsize 0\n",
      "2020-07-21 15:18:47,788 : INFO : EPOCH 3 - PROGRESS: at 22.70% examples, 1916634 words/s, in_qsize 17, out_qsize 2\n",
      "2020-07-21 15:18:48,790 : INFO : EPOCH 3 - PROGRESS: at 29.10% examples, 1924233 words/s, in_qsize 19, out_qsize 0\n",
      "2020-07-21 15:18:49,794 : INFO : EPOCH 3 - PROGRESS: at 35.78% examples, 1921117 words/s, in_qsize 20, out_qsize 0\n"
     ]
    },
    {
     "name": "stderr",
     "output_type": "stream",
     "text": [
      "2020-07-21 15:18:50,805 : INFO : EPOCH 3 - PROGRESS: at 42.76% examples, 1922607 words/s, in_qsize 19, out_qsize 1\n",
      "2020-07-21 15:18:51,812 : INFO : EPOCH 3 - PROGRESS: at 49.78% examples, 1927217 words/s, in_qsize 19, out_qsize 1\n",
      "2020-07-21 15:18:52,815 : INFO : EPOCH 3 - PROGRESS: at 56.44% examples, 1930245 words/s, in_qsize 19, out_qsize 0\n",
      "2020-07-21 15:18:53,818 : INFO : EPOCH 3 - PROGRESS: at 63.24% examples, 1932818 words/s, in_qsize 18, out_qsize 1\n",
      "2020-07-21 15:18:54,824 : INFO : EPOCH 3 - PROGRESS: at 69.77% examples, 1929835 words/s, in_qsize 16, out_qsize 3\n",
      "2020-07-21 15:18:55,832 : INFO : EPOCH 3 - PROGRESS: at 76.20% examples, 1929944 words/s, in_qsize 19, out_qsize 0\n",
      "2020-07-21 15:18:56,839 : INFO : EPOCH 3 - PROGRESS: at 82.63% examples, 1932659 words/s, in_qsize 20, out_qsize 0\n",
      "2020-07-21 15:18:57,839 : INFO : EPOCH 3 - PROGRESS: at 89.23% examples, 1932958 words/s, in_qsize 19, out_qsize 0\n",
      "2020-07-21 15:18:58,844 : INFO : EPOCH 3 - PROGRESS: at 95.84% examples, 1931488 words/s, in_qsize 19, out_qsize 0\n",
      "2020-07-21 15:18:59,431 : INFO : worker thread finished; awaiting finish of 9 more threads\n",
      "2020-07-21 15:18:59,444 : INFO : worker thread finished; awaiting finish of 8 more threads\n",
      "2020-07-21 15:18:59,446 : INFO : worker thread finished; awaiting finish of 7 more threads\n",
      "2020-07-21 15:18:59,448 : INFO : worker thread finished; awaiting finish of 6 more threads\n",
      "2020-07-21 15:18:59,450 : INFO : worker thread finished; awaiting finish of 5 more threads\n",
      "2020-07-21 15:18:59,451 : INFO : worker thread finished; awaiting finish of 4 more threads\n",
      "2020-07-21 15:18:59,453 : INFO : worker thread finished; awaiting finish of 3 more threads\n",
      "2020-07-21 15:18:59,454 : INFO : worker thread finished; awaiting finish of 2 more threads\n",
      "2020-07-21 15:18:59,454 : INFO : worker thread finished; awaiting finish of 1 more threads\n",
      "2020-07-21 15:18:59,460 : INFO : worker thread finished; awaiting finish of 0 more threads\n",
      "2020-07-21 15:18:59,461 : INFO : EPOCH - 3 : training on 41519355 raw words (30348155 effective words) took 15.7s, 1932029 effective words/s\n",
      "2020-07-21 15:19:00,466 : INFO : EPOCH 4 - PROGRESS: at 6.18% examples, 1909210 words/s, in_qsize 18, out_qsize 1\n",
      "2020-07-21 15:19:01,470 : INFO : EPOCH 4 - PROGRESS: at 11.84% examples, 1933219 words/s, in_qsize 18, out_qsize 1\n",
      "2020-07-21 15:19:02,471 : INFO : EPOCH 4 - PROGRESS: at 17.36% examples, 1933712 words/s, in_qsize 18, out_qsize 1\n",
      "2020-07-21 15:19:03,487 : INFO : EPOCH 4 - PROGRESS: at 22.90% examples, 1940675 words/s, in_qsize 19, out_qsize 0\n",
      "2020-07-21 15:19:04,492 : INFO : EPOCH 4 - PROGRESS: at 29.36% examples, 1944378 words/s, in_qsize 16, out_qsize 3\n",
      "2020-07-21 15:19:05,499 : INFO : EPOCH 4 - PROGRESS: at 36.13% examples, 1939366 words/s, in_qsize 19, out_qsize 0\n",
      "2020-07-21 15:19:06,501 : INFO : EPOCH 4 - PROGRESS: at 43.17% examples, 1942391 words/s, in_qsize 19, out_qsize 0\n",
      "2020-07-21 15:19:07,502 : INFO : EPOCH 4 - PROGRESS: at 50.06% examples, 1941773 words/s, in_qsize 19, out_qsize 0\n",
      "2020-07-21 15:19:08,507 : INFO : EPOCH 4 - PROGRESS: at 56.67% examples, 1941965 words/s, in_qsize 17, out_qsize 2\n",
      "2020-07-21 15:19:09,514 : INFO : EPOCH 4 - PROGRESS: at 63.38% examples, 1939592 words/s, in_qsize 19, out_qsize 0\n",
      "2020-07-21 15:19:10,522 : INFO : EPOCH 4 - PROGRESS: at 70.03% examples, 1940942 words/s, in_qsize 18, out_qsize 1\n",
      "2020-07-21 15:19:11,538 : INFO : EPOCH 4 - PROGRESS: at 76.58% examples, 1941066 words/s, in_qsize 17, out_qsize 2\n",
      "2020-07-21 15:19:12,540 : INFO : EPOCH 4 - PROGRESS: at 82.93% examples, 1940972 words/s, in_qsize 19, out_qsize 0\n",
      "2020-07-21 15:19:13,543 : INFO : EPOCH 4 - PROGRESS: at 89.50% examples, 1939933 words/s, in_qsize 19, out_qsize 0\n",
      "2020-07-21 15:19:14,544 : INFO : EPOCH 4 - PROGRESS: at 96.01% examples, 1937121 words/s, in_qsize 19, out_qsize 0\n",
      "2020-07-21 15:19:15,103 : INFO : worker thread finished; awaiting finish of 9 more threads\n",
      "2020-07-21 15:19:15,105 : INFO : worker thread finished; awaiting finish of 8 more threads\n",
      "2020-07-21 15:19:15,114 : INFO : worker thread finished; awaiting finish of 7 more threads\n",
      "2020-07-21 15:19:15,118 : INFO : worker thread finished; awaiting finish of 6 more threads\n",
      "2020-07-21 15:19:15,119 : INFO : worker thread finished; awaiting finish of 5 more threads\n",
      "2020-07-21 15:19:15,120 : INFO : worker thread finished; awaiting finish of 4 more threads\n",
      "2020-07-21 15:19:15,122 : INFO : worker thread finished; awaiting finish of 3 more threads\n",
      "2020-07-21 15:19:15,123 : INFO : worker thread finished; awaiting finish of 2 more threads\n",
      "2020-07-21 15:19:15,124 : INFO : worker thread finished; awaiting finish of 1 more threads\n",
      "2020-07-21 15:19:15,130 : INFO : worker thread finished; awaiting finish of 0 more threads\n",
      "2020-07-21 15:19:15,131 : INFO : EPOCH - 4 : training on 41519355 raw words (30351335 effective words) took 15.7s, 1937434 effective words/s\n",
      "2020-07-21 15:19:16,139 : INFO : EPOCH 5 - PROGRESS: at 6.18% examples, 1902980 words/s, in_qsize 19, out_qsize 0\n",
      "2020-07-21 15:19:17,140 : INFO : EPOCH 5 - PROGRESS: at 11.85% examples, 1934885 words/s, in_qsize 19, out_qsize 0\n",
      "2020-07-21 15:19:18,140 : INFO : EPOCH 5 - PROGRESS: at 17.35% examples, 1931559 words/s, in_qsize 19, out_qsize 0\n",
      "2020-07-21 15:19:19,157 : INFO : EPOCH 5 - PROGRESS: at 22.69% examples, 1920875 words/s, in_qsize 20, out_qsize 4\n",
      "2020-07-21 15:19:20,167 : INFO : EPOCH 5 - PROGRESS: at 29.12% examples, 1927874 words/s, in_qsize 19, out_qsize 0\n",
      "2020-07-21 15:19:21,167 : INFO : EPOCH 5 - PROGRESS: at 36.02% examples, 1934926 words/s, in_qsize 19, out_qsize 0\n",
      "2020-07-21 15:19:22,177 : INFO : EPOCH 5 - PROGRESS: at 42.89% examples, 1930547 words/s, in_qsize 15, out_qsize 4\n",
      "2020-07-21 15:19:23,178 : INFO : EPOCH 5 - PROGRESS: at 49.75% examples, 1929400 words/s, in_qsize 17, out_qsize 2\n",
      "2020-07-21 15:19:24,181 : INFO : EPOCH 5 - PROGRESS: at 56.31% examples, 1929681 words/s, in_qsize 19, out_qsize 0\n",
      "2020-07-21 15:19:25,182 : INFO : EPOCH 5 - PROGRESS: at 63.03% examples, 1931066 words/s, in_qsize 19, out_qsize 0\n",
      "2020-07-21 15:19:26,187 : INFO : EPOCH 5 - PROGRESS: at 69.70% examples, 1931688 words/s, in_qsize 19, out_qsize 0\n",
      "2020-07-21 15:19:27,192 : INFO : EPOCH 5 - PROGRESS: at 76.18% examples, 1932751 words/s, in_qsize 18, out_qsize 1\n",
      "2020-07-21 15:19:28,196 : INFO : EPOCH 5 - PROGRESS: at 82.54% examples, 1934082 words/s, in_qsize 19, out_qsize 0\n",
      "2020-07-21 15:19:29,196 : INFO : EPOCH 5 - PROGRESS: at 89.09% examples, 1933699 words/s, in_qsize 19, out_qsize 0\n",
      "2020-07-21 15:19:30,201 : INFO : EPOCH 5 - PROGRESS: at 95.61% examples, 1929896 words/s, in_qsize 18, out_qsize 1\n",
      "2020-07-21 15:19:30,805 : INFO : worker thread finished; awaiting finish of 9 more threads\n",
      "2020-07-21 15:19:30,817 : INFO : worker thread finished; awaiting finish of 8 more threads\n",
      "2020-07-21 15:19:30,818 : INFO : worker thread finished; awaiting finish of 7 more threads\n",
      "2020-07-21 15:19:30,818 : INFO : worker thread finished; awaiting finish of 6 more threads\n",
      "2020-07-21 15:19:30,819 : INFO : worker thread finished; awaiting finish of 5 more threads\n",
      "2020-07-21 15:19:30,824 : INFO : worker thread finished; awaiting finish of 4 more threads\n",
      "2020-07-21 15:19:30,827 : INFO : worker thread finished; awaiting finish of 3 more threads\n",
      "2020-07-21 15:19:30,829 : INFO : worker thread finished; awaiting finish of 2 more threads\n",
      "2020-07-21 15:19:30,830 : INFO : worker thread finished; awaiting finish of 1 more threads\n",
      "2020-07-21 15:19:30,831 : INFO : worker thread finished; awaiting finish of 0 more threads\n",
      "2020-07-21 15:19:30,831 : INFO : EPOCH - 5 : training on 41519355 raw words (30348131 effective words) took 15.7s, 1933436 effective words/s\n",
      "2020-07-21 15:19:31,838 : INFO : EPOCH 6 - PROGRESS: at 6.08% examples, 1878375 words/s, in_qsize 18, out_qsize 1\n",
      "2020-07-21 15:19:32,847 : INFO : EPOCH 6 - PROGRESS: at 11.76% examples, 1914682 words/s, in_qsize 19, out_qsize 0\n",
      "2020-07-21 15:19:33,854 : INFO : EPOCH 6 - PROGRESS: at 17.33% examples, 1922825 words/s, in_qsize 19, out_qsize 0\n",
      "2020-07-21 15:19:34,858 : INFO : EPOCH 6 - PROGRESS: at 22.65% examples, 1918702 words/s, in_qsize 18, out_qsize 1\n",
      "2020-07-21 15:19:35,863 : INFO : EPOCH 6 - PROGRESS: at 29.04% examples, 1925128 words/s, in_qsize 19, out_qsize 0\n"
     ]
    },
    {
     "name": "stderr",
     "output_type": "stream",
     "text": [
      "2020-07-21 15:19:36,866 : INFO : EPOCH 6 - PROGRESS: at 35.72% examples, 1921012 words/s, in_qsize 18, out_qsize 1\n",
      "2020-07-21 15:19:37,866 : INFO : EPOCH 6 - PROGRESS: at 42.52% examples, 1918199 words/s, in_qsize 16, out_qsize 3\n",
      "2020-07-21 15:19:38,874 : INFO : EPOCH 6 - PROGRESS: at 49.38% examples, 1917031 words/s, in_qsize 19, out_qsize 0\n",
      "2020-07-21 15:19:39,876 : INFO : EPOCH 6 - PROGRESS: at 55.76% examples, 1912577 words/s, in_qsize 19, out_qsize 0\n",
      "2020-07-21 15:19:40,886 : INFO : EPOCH 6 - PROGRESS: at 62.32% examples, 1910469 words/s, in_qsize 19, out_qsize 0\n",
      "2020-07-21 15:19:41,889 : INFO : EPOCH 6 - PROGRESS: at 69.07% examples, 1912763 words/s, in_qsize 19, out_qsize 0\n",
      "2020-07-21 15:19:42,890 : INFO : EPOCH 6 - PROGRESS: at 75.66% examples, 1918762 words/s, in_qsize 19, out_qsize 0\n",
      "2020-07-21 15:19:43,893 : INFO : EPOCH 6 - PROGRESS: at 81.67% examples, 1915217 words/s, in_qsize 19, out_qsize 0\n",
      "2020-07-21 15:19:44,894 : INFO : EPOCH 6 - PROGRESS: at 88.16% examples, 1915487 words/s, in_qsize 19, out_qsize 0\n",
      "2020-07-21 15:19:45,895 : INFO : EPOCH 6 - PROGRESS: at 94.87% examples, 1916735 words/s, in_qsize 19, out_qsize 0\n",
      "2020-07-21 15:19:46,619 : INFO : worker thread finished; awaiting finish of 9 more threads\n",
      "2020-07-21 15:19:46,631 : INFO : worker thread finished; awaiting finish of 8 more threads\n",
      "2020-07-21 15:19:46,632 : INFO : worker thread finished; awaiting finish of 7 more threads\n",
      "2020-07-21 15:19:46,636 : INFO : worker thread finished; awaiting finish of 6 more threads\n",
      "2020-07-21 15:19:46,637 : INFO : worker thread finished; awaiting finish of 5 more threads\n",
      "2020-07-21 15:19:46,638 : INFO : worker thread finished; awaiting finish of 4 more threads\n",
      "2020-07-21 15:19:46,641 : INFO : worker thread finished; awaiting finish of 3 more threads\n",
      "2020-07-21 15:19:46,644 : INFO : worker thread finished; awaiting finish of 2 more threads\n",
      "2020-07-21 15:19:46,646 : INFO : worker thread finished; awaiting finish of 1 more threads\n",
      "2020-07-21 15:19:46,649 : INFO : worker thread finished; awaiting finish of 0 more threads\n",
      "2020-07-21 15:19:46,649 : INFO : EPOCH - 6 : training on 41519355 raw words (30345987 effective words) took 15.8s, 1918975 effective words/s\n",
      "2020-07-21 15:19:47,661 : INFO : EPOCH 7 - PROGRESS: at 6.12% examples, 1874667 words/s, in_qsize 20, out_qsize 0\n",
      "2020-07-21 15:19:48,667 : INFO : EPOCH 7 - PROGRESS: at 11.72% examples, 1906205 words/s, in_qsize 19, out_qsize 0\n",
      "2020-07-21 15:19:49,672 : INFO : EPOCH 7 - PROGRESS: at 17.22% examples, 1908495 words/s, in_qsize 18, out_qsize 1\n",
      "2020-07-21 15:19:50,681 : INFO : EPOCH 7 - PROGRESS: at 22.53% examples, 1905849 words/s, in_qsize 19, out_qsize 0\n",
      "2020-07-21 15:19:51,683 : INFO : EPOCH 7 - PROGRESS: at 28.74% examples, 1908814 words/s, in_qsize 19, out_qsize 1\n",
      "2020-07-21 15:19:52,683 : INFO : EPOCH 7 - PROGRESS: at 35.51% examples, 1911523 words/s, in_qsize 19, out_qsize 0\n",
      "2020-07-21 15:19:53,692 : INFO : EPOCH 7 - PROGRESS: at 42.51% examples, 1914924 words/s, in_qsize 20, out_qsize 0\n",
      "2020-07-21 15:19:54,701 : INFO : EPOCH 7 - PROGRESS: at 49.40% examples, 1915041 words/s, in_qsize 18, out_qsize 1\n",
      "2020-07-21 15:19:55,706 : INFO : EPOCH 7 - PROGRESS: at 55.97% examples, 1916534 words/s, in_qsize 19, out_qsize 2\n",
      "2020-07-21 15:19:56,711 : INFO : EPOCH 7 - PROGRESS: at 62.51% examples, 1914872 words/s, in_qsize 19, out_qsize 0\n",
      "2020-07-21 15:19:57,717 : INFO : EPOCH 7 - PROGRESS: at 69.26% examples, 1916929 words/s, in_qsize 19, out_qsize 0\n",
      "2020-07-21 15:19:58,722 : INFO : EPOCH 7 - PROGRESS: at 75.82% examples, 1920981 words/s, in_qsize 19, out_qsize 0\n",
      "2020-07-21 15:19:59,723 : INFO : EPOCH 7 - PROGRESS: at 81.97% examples, 1920222 words/s, in_qsize 19, out_qsize 0\n",
      "2020-07-21 15:20:00,727 : INFO : EPOCH 7 - PROGRESS: at 88.33% examples, 1916788 words/s, in_qsize 18, out_qsize 0\n",
      "2020-07-21 15:20:01,729 : INFO : EPOCH 7 - PROGRESS: at 95.08% examples, 1919156 words/s, in_qsize 19, out_qsize 0\n",
      "2020-07-21 15:20:02,444 : INFO : worker thread finished; awaiting finish of 9 more threads\n",
      "2020-07-21 15:20:02,450 : INFO : worker thread finished; awaiting finish of 8 more threads\n",
      "2020-07-21 15:20:02,451 : INFO : worker thread finished; awaiting finish of 7 more threads\n",
      "2020-07-21 15:20:02,451 : INFO : worker thread finished; awaiting finish of 6 more threads\n",
      "2020-07-21 15:20:02,453 : INFO : worker thread finished; awaiting finish of 5 more threads\n",
      "2020-07-21 15:20:02,459 : INFO : worker thread finished; awaiting finish of 4 more threads\n",
      "2020-07-21 15:20:02,460 : INFO : worker thread finished; awaiting finish of 3 more threads\n",
      "2020-07-21 15:20:02,461 : INFO : worker thread finished; awaiting finish of 2 more threads\n",
      "2020-07-21 15:20:02,461 : INFO : worker thread finished; awaiting finish of 1 more threads\n",
      "2020-07-21 15:20:02,462 : INFO : worker thread finished; awaiting finish of 0 more threads\n",
      "2020-07-21 15:20:02,462 : INFO : EPOCH - 7 : training on 41519355 raw words (30349741 effective words) took 15.8s, 1919808 effective words/s\n",
      "2020-07-21 15:20:03,472 : INFO : EPOCH 8 - PROGRESS: at 6.08% examples, 1864145 words/s, in_qsize 18, out_qsize 2\n",
      "2020-07-21 15:20:04,474 : INFO : EPOCH 8 - PROGRESS: at 11.51% examples, 1861486 words/s, in_qsize 18, out_qsize 1\n",
      "2020-07-21 15:20:05,479 : INFO : EPOCH 8 - PROGRESS: at 17.05% examples, 1888375 words/s, in_qsize 19, out_qsize 0\n",
      "2020-07-21 15:20:06,493 : INFO : EPOCH 8 - PROGRESS: at 22.48% examples, 1899158 words/s, in_qsize 18, out_qsize 1\n",
      "2020-07-21 15:20:07,495 : INFO : EPOCH 8 - PROGRESS: at 28.65% examples, 1903716 words/s, in_qsize 19, out_qsize 1\n",
      "2020-07-21 15:20:08,496 : INFO : EPOCH 8 - PROGRESS: at 35.41% examples, 1908498 words/s, in_qsize 19, out_qsize 0\n",
      "2020-07-21 15:20:09,501 : INFO : EPOCH 8 - PROGRESS: at 42.36% examples, 1910171 words/s, in_qsize 18, out_qsize 1\n",
      "2020-07-21 15:20:10,506 : INFO : EPOCH 8 - PROGRESS: at 49.18% examples, 1909962 words/s, in_qsize 19, out_qsize 0\n",
      "2020-07-21 15:20:11,510 : INFO : EPOCH 8 - PROGRESS: at 55.73% examples, 1911426 words/s, in_qsize 19, out_qsize 0\n",
      "2020-07-21 15:20:12,510 : INFO : EPOCH 8 - PROGRESS: at 62.32% examples, 1912602 words/s, in_qsize 19, out_qsize 0\n",
      "2020-07-21 15:20:13,511 : INFO : EPOCH 8 - PROGRESS: at 69.04% examples, 1913631 words/s, in_qsize 19, out_qsize 0\n",
      "2020-07-21 15:20:14,513 : INFO : EPOCH 8 - PROGRESS: at 75.40% examples, 1913056 words/s, in_qsize 18, out_qsize 1\n",
      "2020-07-21 15:20:15,516 : INFO : EPOCH 8 - PROGRESS: at 81.59% examples, 1914964 words/s, in_qsize 19, out_qsize 0\n",
      "2020-07-21 15:20:16,520 : INFO : EPOCH 8 - PROGRESS: at 88.03% examples, 1913423 words/s, in_qsize 19, out_qsize 0\n",
      "2020-07-21 15:20:17,527 : INFO : EPOCH 8 - PROGRESS: at 94.83% examples, 1915892 words/s, in_qsize 19, out_qsize 0\n",
      "2020-07-21 15:20:18,245 : INFO : worker thread finished; awaiting finish of 9 more threads\n",
      "2020-07-21 15:20:18,251 : INFO : worker thread finished; awaiting finish of 8 more threads\n",
      "2020-07-21 15:20:18,253 : INFO : worker thread finished; awaiting finish of 7 more threads\n",
      "2020-07-21 15:20:18,258 : INFO : worker thread finished; awaiting finish of 6 more threads\n",
      "2020-07-21 15:20:18,260 : INFO : worker thread finished; awaiting finish of 5 more threads\n",
      "2020-07-21 15:20:18,263 : INFO : worker thread finished; awaiting finish of 4 more threads\n",
      "2020-07-21 15:20:18,264 : INFO : worker thread finished; awaiting finish of 3 more threads\n",
      "2020-07-21 15:20:18,265 : INFO : worker thread finished; awaiting finish of 2 more threads\n",
      "2020-07-21 15:20:18,266 : INFO : worker thread finished; awaiting finish of 1 more threads\n",
      "2020-07-21 15:20:18,276 : INFO : worker thread finished; awaiting finish of 0 more threads\n",
      "2020-07-21 15:20:18,276 : INFO : EPOCH - 8 : training on 41519355 raw words (30350161 effective words) took 15.8s, 1919674 effective words/s\n",
      "2020-07-21 15:20:19,288 : INFO : EPOCH 9 - PROGRESS: at 6.03% examples, 1847840 words/s, in_qsize 19, out_qsize 0\n",
      "2020-07-21 15:20:20,298 : INFO : EPOCH 9 - PROGRESS: at 11.65% examples, 1885137 words/s, in_qsize 19, out_qsize 1\n",
      "2020-07-21 15:20:21,306 : INFO : EPOCH 9 - PROGRESS: at 17.03% examples, 1877878 words/s, in_qsize 20, out_qsize 2\n",
      "2020-07-21 15:20:22,307 : INFO : EPOCH 9 - PROGRESS: at 22.37% examples, 1890524 words/s, in_qsize 19, out_qsize 2\n"
     ]
    },
    {
     "name": "stderr",
     "output_type": "stream",
     "text": [
      "2020-07-21 15:20:23,316 : INFO : EPOCH 9 - PROGRESS: at 28.41% examples, 1888090 words/s, in_qsize 19, out_qsize 1\n",
      "2020-07-21 15:20:24,322 : INFO : EPOCH 9 - PROGRESS: at 35.21% examples, 1895097 words/s, in_qsize 18, out_qsize 2\n",
      "2020-07-21 15:20:25,336 : INFO : EPOCH 9 - PROGRESS: at 42.12% examples, 1893390 words/s, in_qsize 20, out_qsize 3\n",
      "2020-07-21 15:20:26,349 : INFO : EPOCH 9 - PROGRESS: at 49.16% examples, 1901080 words/s, in_qsize 20, out_qsize 0\n",
      "2020-07-21 15:20:27,357 : INFO : EPOCH 9 - PROGRESS: at 55.68% examples, 1902646 words/s, in_qsize 20, out_qsize 0\n",
      "2020-07-21 15:20:28,367 : INFO : EPOCH 9 - PROGRESS: at 62.30% examples, 1903090 words/s, in_qsize 20, out_qsize 0\n",
      "2020-07-21 15:20:29,378 : INFO : EPOCH 9 - PROGRESS: at 69.05% examples, 1905228 words/s, in_qsize 20, out_qsize 1\n",
      "2020-07-21 15:20:30,385 : INFO : EPOCH 9 - PROGRESS: at 75.47% examples, 1905774 words/s, in_qsize 20, out_qsize 0\n",
      "2020-07-21 15:20:31,389 : INFO : EPOCH 9 - PROGRESS: at 81.67% examples, 1907981 words/s, in_qsize 18, out_qsize 1\n",
      "2020-07-21 15:20:32,407 : INFO : EPOCH 9 - PROGRESS: at 88.17% examples, 1906440 words/s, in_qsize 20, out_qsize 1\n",
      "2020-07-21 15:20:33,409 : INFO : EPOCH 9 - PROGRESS: at 94.90% examples, 1908694 words/s, in_qsize 20, out_qsize 0\n",
      "2020-07-21 15:20:34,134 : INFO : worker thread finished; awaiting finish of 9 more threads\n",
      "2020-07-21 15:20:34,146 : INFO : worker thread finished; awaiting finish of 8 more threads\n",
      "2020-07-21 15:20:34,147 : INFO : worker thread finished; awaiting finish of 7 more threads\n",
      "2020-07-21 15:20:34,147 : INFO : worker thread finished; awaiting finish of 6 more threads\n",
      "2020-07-21 15:20:34,148 : INFO : worker thread finished; awaiting finish of 5 more threads\n",
      "2020-07-21 15:20:34,148 : INFO : worker thread finished; awaiting finish of 4 more threads\n",
      "2020-07-21 15:20:34,149 : INFO : worker thread finished; awaiting finish of 3 more threads\n",
      "2020-07-21 15:20:34,152 : INFO : worker thread finished; awaiting finish of 2 more threads\n",
      "2020-07-21 15:20:34,154 : INFO : worker thread finished; awaiting finish of 1 more threads\n",
      "2020-07-21 15:20:34,158 : INFO : worker thread finished; awaiting finish of 0 more threads\n",
      "2020-07-21 15:20:34,159 : INFO : EPOCH - 9 : training on 41519355 raw words (30349780 effective words) took 15.9s, 1911345 effective words/s\n",
      "2020-07-21 15:20:35,176 : INFO : EPOCH 10 - PROGRESS: at 5.99% examples, 1830704 words/s, in_qsize 20, out_qsize 0\n",
      "2020-07-21 15:20:36,176 : INFO : EPOCH 10 - PROGRESS: at 11.62% examples, 1885381 words/s, in_qsize 19, out_qsize 0\n",
      "2020-07-21 15:20:37,177 : INFO : EPOCH 10 - PROGRESS: at 17.18% examples, 1906891 words/s, in_qsize 18, out_qsize 1\n",
      "2020-07-21 15:20:38,180 : INFO : EPOCH 10 - PROGRESS: at 22.52% examples, 1910894 words/s, in_qsize 19, out_qsize 0\n",
      "2020-07-21 15:20:39,187 : INFO : EPOCH 10 - PROGRESS: at 28.73% examples, 1910716 words/s, in_qsize 19, out_qsize 0\n",
      "2020-07-21 15:20:40,192 : INFO : EPOCH 10 - PROGRESS: at 35.40% examples, 1907297 words/s, in_qsize 18, out_qsize 1\n",
      "2020-07-21 15:20:41,193 : INFO : EPOCH 10 - PROGRESS: at 42.21% examples, 1903901 words/s, in_qsize 16, out_qsize 3\n",
      "2020-07-21 15:20:42,195 : INFO : EPOCH 10 - PROGRESS: at 49.05% examples, 1907019 words/s, in_qsize 19, out_qsize 0\n",
      "2020-07-21 15:20:43,197 : INFO : EPOCH 10 - PROGRESS: at 55.50% examples, 1905792 words/s, in_qsize 19, out_qsize 0\n",
      "2020-07-21 15:20:44,211 : INFO : EPOCH 10 - PROGRESS: at 62.18% examples, 1907446 words/s, in_qsize 19, out_qsize 0\n",
      "2020-07-21 15:20:45,221 : INFO : EPOCH 10 - PROGRESS: at 68.85% examples, 1905969 words/s, in_qsize 18, out_qsize 1\n",
      "2020-07-21 15:20:46,228 : INFO : EPOCH 10 - PROGRESS: at 75.28% examples, 1906884 words/s, in_qsize 17, out_qsize 2\n",
      "2020-07-21 15:20:47,229 : INFO : EPOCH 10 - PROGRESS: at 81.33% examples, 1906170 words/s, in_qsize 19, out_qsize 0\n",
      "2020-07-21 15:20:48,236 : INFO : EPOCH 10 - PROGRESS: at 87.90% examples, 1907992 words/s, in_qsize 20, out_qsize 3\n",
      "2020-07-21 15:20:49,236 : INFO : EPOCH 10 - PROGRESS: at 94.64% examples, 1910696 words/s, in_qsize 17, out_qsize 2\n",
      "2020-07-21 15:20:50,026 : INFO : worker thread finished; awaiting finish of 9 more threads\n",
      "2020-07-21 15:20:50,028 : INFO : worker thread finished; awaiting finish of 8 more threads\n",
      "2020-07-21 15:20:50,028 : INFO : worker thread finished; awaiting finish of 7 more threads\n",
      "2020-07-21 15:20:50,029 : INFO : worker thread finished; awaiting finish of 6 more threads\n",
      "2020-07-21 15:20:50,029 : INFO : worker thread finished; awaiting finish of 5 more threads\n",
      "2020-07-21 15:20:50,030 : INFO : worker thread finished; awaiting finish of 4 more threads\n",
      "2020-07-21 15:20:50,032 : INFO : worker thread finished; awaiting finish of 3 more threads\n",
      "2020-07-21 15:20:50,033 : INFO : worker thread finished; awaiting finish of 2 more threads\n",
      "2020-07-21 15:20:50,034 : INFO : worker thread finished; awaiting finish of 1 more threads\n",
      "2020-07-21 15:20:50,040 : INFO : worker thread finished; awaiting finish of 0 more threads\n",
      "2020-07-21 15:20:50,040 : INFO : EPOCH - 10 : training on 41519355 raw words (30344946 effective words) took 15.9s, 1911251 effective words/s\n",
      "2020-07-21 15:20:50,041 : INFO : training on a 415193550 raw words (303484111 effective words) took 157.6s, 1925722 effective words/s\n"
     ]
    },
    {
     "data": {
      "text/plain": [
       "(303484111, 415193550)"
      ]
     },
     "execution_count": 4,
     "metadata": {},
     "output_type": "execute_result"
    }
   ],
   "source": [
    "model = gensim.models.Word2Vec (documents, size=150, window=10, min_count=2, workers=10)\n",
    "model.train(documents,total_examples=len(documents),epochs=10)"
   ]
  },
  {
   "cell_type": "code",
   "execution_count": 5,
   "metadata": {},
   "outputs": [
    {
     "name": "stderr",
     "output_type": "stream",
     "text": [
      "2020-07-21 15:20:50,048 : INFO : precomputing L2-norms of word weight vectors\n"
     ]
    },
    {
     "data": {
      "text/plain": [
       "[('filthy', 0.8636475205421448),\n",
       " ('stained', 0.7811144590377808),\n",
       " ('unclean', 0.7751052379608154),\n",
       " ('dusty', 0.7669270634651184),\n",
       " ('smelly', 0.7606022357940674),\n",
       " ('grubby', 0.7513071298599243),\n",
       " ('grimy', 0.7298195362091064),\n",
       " ('dingy', 0.7213117480278015),\n",
       " ('soiled', 0.7201225757598877),\n",
       " ('gross', 0.719785213470459)]"
      ]
     },
     "execution_count": 5,
     "metadata": {},
     "output_type": "execute_result"
    }
   ],
   "source": [
    "w1 = \"dirty\"\n",
    "model.wv.most_similar (positive=w1)"
   ]
  },
  {
   "cell_type": "code",
   "execution_count": 6,
   "metadata": {},
   "outputs": [
    {
     "data": {
      "text/plain": [
       "[('courteous', 0.9226269721984863),\n",
       " ('friendly', 0.8329194188117981),\n",
       " ('cordial', 0.8174973726272583),\n",
       " ('curteous', 0.7812621593475342),\n",
       " ('professional', 0.780734658241272),\n",
       " ('attentive', 0.775324285030365)]"
      ]
     },
     "execution_count": 6,
     "metadata": {},
     "output_type": "execute_result"
    }
   ],
   "source": [
    "# look up top 6 words similar to 'polite'\n",
    "w1 = [\"polite\"]\n",
    "model.wv.most_similar (positive=w1,topn=6)"
   ]
  },
  {
   "cell_type": "code",
   "execution_count": 7,
   "metadata": {},
   "outputs": [
    {
     "data": {
      "text/plain": [
       "[('canada', 0.6775115728378296),\n",
       " ('germany', 0.6471348404884338),\n",
       " ('spain', 0.6386251449584961),\n",
       " ('thailand', 0.6204005479812622),\n",
       " ('mexico', 0.6077990531921387),\n",
       " ('england', 0.6041700839996338)]"
      ]
     },
     "execution_count": 7,
     "metadata": {},
     "output_type": "execute_result"
    }
   ],
   "source": [
    "# look up top 6 words similar to 'france'\n",
    "w1 = [\"france\"]\n",
    "model.wv.most_similar (positive=w1,topn=6)"
   ]
  },
  {
   "cell_type": "code",
   "execution_count": 8,
   "metadata": {},
   "outputs": [
    {
     "data": {
      "text/plain": [
       "[('horrified', 0.7922606468200684),\n",
       " ('amazed', 0.7912759780883789),\n",
       " ('appalled', 0.7649403214454651),\n",
       " ('stunned', 0.7644959688186646),\n",
       " ('astonished', 0.7506698369979858),\n",
       " ('dismayed', 0.7347558736801147)]"
      ]
     },
     "execution_count": 8,
     "metadata": {},
     "output_type": "execute_result"
    }
   ],
   "source": [
    "# look up top 6 words similar to 'shocked'\n",
    "w1 = [\"shocked\"]\n",
    "model.wv.most_similar (positive=w1,topn=6)"
   ]
  },
  {
   "cell_type": "code",
   "execution_count": 9,
   "metadata": {},
   "outputs": [
    {
     "data": {
      "text/plain": [
       "[('duvet', 0.7083287835121155),\n",
       " ('blanket', 0.7062539458274841),\n",
       " ('mattress', 0.6814241409301758),\n",
       " ('matress', 0.6664750576019287),\n",
       " ('quilt', 0.6637673377990723),\n",
       " ('pillowcase', 0.6376977562904358),\n",
       " ('pillows', 0.637412428855896),\n",
       " ('foam', 0.6321302652359009),\n",
       " ('sheets', 0.6302813291549683),\n",
       " ('comforter', 0.6184894442558289)]"
      ]
     },
     "execution_count": 9,
     "metadata": {},
     "output_type": "execute_result"
    }
   ],
   "source": [
    "# get everything related to stuff on the bed\n",
    "w1 = [\"bed\",'sheet','pillow']\n",
    "w2 = ['couch']\n",
    "model.wv.most_similar (positive=w1,negative=w2,topn=10)"
   ]
  },
  {
   "cell_type": "code",
   "execution_count": 10,
   "metadata": {},
   "outputs": [
    {
     "data": {
      "text/plain": [
       "0.76060236"
      ]
     },
     "execution_count": 10,
     "metadata": {},
     "output_type": "execute_result"
    }
   ],
   "source": [
    "# similarity between two different words\n",
    "model.wv.similarity(w1=\"dirty\",w2=\"smelly\")"
   ]
  },
  {
   "cell_type": "code",
   "execution_count": 11,
   "metadata": {},
   "outputs": [
    {
     "name": "stderr",
     "output_type": "stream",
     "text": [
      "D:\\Anaconda3\\envs\\tf_gpu_2020\\lib\\site-packages\\gensim\\models\\keyedvectors.py:877: FutureWarning: arrays to stack must be passed as a \"sequence\" type such as list or tuple. Support for non-sequence iterables such as generators is deprecated as of NumPy 1.16 and will raise an error in the future.\n",
      "  vectors = vstack(self.word_vec(word, use_norm=True) for word in used_words).astype(REAL)\n"
     ]
    },
    {
     "data": {
      "text/plain": [
       "'shower'"
      ]
     },
     "execution_count": 11,
     "metadata": {},
     "output_type": "execute_result"
    }
   ],
   "source": [
    "# Which one is the odd one out in this list?\n",
    "model.wv.doesnt_match(['bed','pillow','duvet','shower'])"
   ]
  },
  {
   "cell_type": "code",
   "execution_count": 12,
   "metadata": {},
   "outputs": [],
   "source": [
    "def tsnescatterplot(model, word, list_names):\n",
    "    \"\"\" Plot in seaborn the results from the t-SNE dimensionality reduction algorithm of the vectors of a query word,\n",
    "    its list of most similar words, and a list of words.\n",
    "    \"\"\"\n",
    "    arrays = np.empty((0, 150), dtype='f')\n",
    "    word_labels = [word]\n",
    "    color_list  = ['red']\n",
    "\n",
    "    # adds the vector of the query word\n",
    "    arrays = np.append(arrays, model.wv.__getitem__([word]), axis=0)\n",
    "    \n",
    "    # gets list of most similar words\n",
    "    close_words = model.wv.most_similar([word])\n",
    "    \n",
    "    # adds the vector for each of the closest words to the array\n",
    "    for wrd_score in close_words:\n",
    "        wrd_vector = model.wv.__getitem__([wrd_score[0]])\n",
    "        word_labels.append(wrd_score[0])\n",
    "        color_list.append('blue')\n",
    "        arrays = np.append(arrays, wrd_vector, axis=0)\n",
    "    \n",
    "    # adds the vector for each of the words from list_names to the array\n",
    "    for wrd in list_names:\n",
    "        wrd_vector = model.wv.__getitem__([wrd])\n",
    "        word_labels.append(wrd)\n",
    "        color_list.append('green')\n",
    "        arrays = np.append(arrays, wrd_vector, axis=0)\n",
    "        \n",
    "    # Reduces the dimensionality from 300 to 50 dimensions with PCA\n",
    "    reduc = PCA(n_components=18).fit_transform(arrays)\n",
    "    \n",
    "    # Finds t-SNE coordinates for 2 dimensions\n",
    "    np.set_printoptions(suppress=True)\n",
    "    \n",
    "    Y = TSNE(n_components=2, random_state=0, perplexity=15).fit_transform(reduc)\n",
    "    \n",
    "    # Sets everything up to plot\n",
    "    df = pd.DataFrame({'x': [x for x in Y[:, 0]],\n",
    "                       'y': [y for y in Y[:, 1]],\n",
    "                       'words': word_labels,\n",
    "                       'color': color_list})\n",
    "    \n",
    "    fig, _ = plt.subplots()\n",
    "    fig.set_size_inches(9, 9)\n",
    "    \n",
    "    # Basic plot\n",
    "    p1 = sns.regplot(data=df,\n",
    "                     x=\"x\",\n",
    "                     y=\"y\",\n",
    "                     fit_reg=False,\n",
    "                     marker=\"o\",\n",
    "                     scatter_kws={'s': 40,\n",
    "                                  'facecolors': df['color']\n",
    "                                 }\n",
    "                    )\n",
    "    \n",
    "    # Adds annotations one by one with a loop\n",
    "    for line in range(0, df.shape[0]):\n",
    "         p1.text(df[\"x\"][line],\n",
    "                 df['y'][line],\n",
    "                 '  ' + df[\"words\"][line].title(),\n",
    "                 horizontalalignment='left',\n",
    "                 verticalalignment='bottom', size='medium',\n",
    "                 color=df['color'][line],\n",
    "                 weight='normal'\n",
    "                ).set_size(15)\n",
    "\n",
    "    \n",
    "    plt.xlim(Y[:, 0].min()-50, Y[:, 0].max()+50)\n",
    "    plt.ylim(Y[:, 1].min()-50, Y[:, 1].max()+50)\n",
    "            \n",
    "    plt.title('t-SNE visualization for {}'.format(word.title()))"
   ]
  },
  {
   "cell_type": "code",
   "execution_count": 13,
   "metadata": {},
   "outputs": [
    {
     "data": {
      "image/png": "[encoded data removed]",
      "text/plain": [
       "<Figure size 648x648 with 1 Axes>"
      ]
     },
     "metadata": {
      "needs_background": "light"
     },
     "output_type": "display_data"
    }
   ],
   "source": [
    "import numpy as np\n",
    "from sklearn.decomposition import PCA\n",
    "import pandas as pd\n",
    "from matplotlib import pyplot as plt\n",
    "\n",
    "tsnescatterplot(model, 'bed', ['dog', 'bird', 'grass', 'milk', 'soccer', 'bread', 'thorn', 'bear'])"
   ]
  },
  {
   "cell_type": "code",
   "execution_count": 14,
   "metadata": {
    "scrolled": false
   },
   "outputs": [
    {
     "data": {
      "image/png": "[encoded data removed]",
      "text/plain": [
       "<Figure size 648x648 with 1 Axes>"
      ]
     },
     "metadata": {
      "needs_background": "light"
     },
     "output_type": "display_data"
    }
   ],
   "source": [
    "tsnescatterplot(model, \"matress\", [t[0] for t in model.wv.most_similar(positive=[\"matress\"], topn=20)][10:])"
   ]
  },
  {
   "cell_type": "code",
   "execution_count": null,
   "metadata": {},
   "outputs": [],
   "source": []
  }
 ],
 "metadata": {
  "kernelspec": {
   "display_name": "Python 3",
   "language": "python",
   "name": "python3"
  },
  "language_info": {
   "codemirror_mode": {
    "name": "ipython",
    "version": 3
   },
   "file_extension": ".py",
   "mimetype": "text/x-python",
   "name": "python",
   "nbconvert_exporter": "python",
   "pygments_lexer": "ipython3",
   "version": "3.6.10"
  }
 },
 "nbformat": 4,
 "nbformat_minor": 4
}
